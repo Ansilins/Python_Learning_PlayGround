{
 "cells": [
  {
   "cell_type": "code",
   "execution_count": 13,
   "id": "fc1b12dc-3065-4037-b6be-0e1c539c2125",
   "metadata": {},
   "outputs": [
    {
     "name": "stdout",
     "output_type": "stream",
     "text": [
      "<class 'int'>\n",
      "<class 'str'>\n"
     ]
    }
   ],
   "source": [
    "#This notebook will cover Python problems. I'll tackle these basic challenges in my own unique style.\n",
    "\n",
    "\n",
    "#To find the type of the variable, basic stuff's\n",
    "\n",
    "a = 10\n",
    "b = \"Ansilins\"\n",
    "\n",
    "print(type(a))\n",
    "print(type(b))"
   ]
  },
  {
   "cell_type": "code",
   "execution_count": 38,
   "id": "0c4ff063-5087-40b4-aba1-f24bf473eea6",
   "metadata": {},
   "outputs": [
    {
     "name": "stdout",
     "output_type": "stream",
     "text": [
      "15\n"
     ]
    }
   ],
   "source": [
    "#CASTING\n",
    "\n",
    "a = int(\"5\")\n",
    "b = int(\"10\")\n",
    "\n",
    "temp = a + b\n",
    "print(temp)"
   ]
  },
  {
   "cell_type": "code",
   "execution_count": 17,
   "id": "68c27100-b57c-4bfc-9a2b-49fb93763213",
   "metadata": {},
   "outputs": [
    {
     "name": "stdin",
     "output_type": "stream",
     "text": [
      " 10\n",
      " 5\n"
     ]
    },
    {
     "name": "stdout",
     "output_type": "stream",
     "text": [
      "15\n"
     ]
    }
   ],
   "source": [
    "#Getting INPUT from the user \n",
    "\n",
    "a = int(input())\n",
    "b = int(input())\n",
    "\n",
    "c = a + b \n",
    "print(c)"
   ]
  },
  {
   "cell_type": "code",
   "execution_count": 22,
   "id": "710a091d-e472-456f-b1dc-24a94063e732",
   "metadata": {},
   "outputs": [
    {
     "name": "stdin",
     "output_type": "stream",
     "text": [
      "Enter your name :  Ansilin\n",
      "Enter your age :  23\n"
     ]
    },
    {
     "name": "stdout",
     "output_type": "stream",
     "text": [
      "My name is :  Ansilin\n",
      "My age is :  23\n"
     ]
    }
   ],
   "source": [
    "# Let's dive into the Basic Problems \n",
    "# (1) Get input for variable name and age. print it \n",
    "\n",
    "name = input(\"Enter your name : \")\n",
    "age = int(input(\"Enter your age : \"))\n",
    "\n",
    "print(\"My name is : \",  name)\n",
    "print(\"My age is : \",age)"
   ]
  },
  {
   "cell_type": "code",
   "execution_count": 26,
   "id": "530e4deb-8dc7-46f3-85fc-09a07677da22",
   "metadata": {},
   "outputs": [
    {
     "name": "stdin",
     "output_type": "stream",
     "text": [
      "Enter your name :  Ansilin\n",
      "Enter your age :  23\n",
      "Enter your address Vel Tech, Avadi\n"
     ]
    },
    {
     "name": "stdout",
     "output_type": "stream",
     "text": [
      "Name is :  Ansilin\n",
      "Age is :  23\n",
      "address is :  Vel Tech, Avadi\n"
     ]
    }
   ],
   "source": [
    "# (2) Get Input for variable name and age, address. print it.\n",
    "\n",
    "name = input(\"Enter your name : \")\n",
    "age = int(input(\"Enter your age : \"))\n",
    "address = input(\"Enter your address\")\n",
    "\n",
    "print(\"Name is : \", name)\n",
    "print(\"Age is : \", age)\n",
    "print(\"address is : \", address)"
   ]
  },
  {
   "cell_type": "code",
   "execution_count": 32,
   "id": "619cb339-59a7-417b-af99-71ff47668a5c",
   "metadata": {},
   "outputs": [
    {
     "name": "stdin",
     "output_type": "stream",
     "text": [
      " 2\n",
      " 3\n",
      " 4\n"
     ]
    },
    {
     "name": "stdout",
     "output_type": "stream",
     "text": [
      "Calculated value is :  2.6666666666666665\n"
     ]
    }
   ],
   "source": [
    "# (3) Get integer Input for variable a,b,c\n",
    "#Multiple all 3 variables, add all 3 variables, divide the multiplied value by added value, and print it.\n",
    "\n",
    "a = int(input())\n",
    "b = int(input())\n",
    "c = int(input())\n",
    "\n",
    "mul = a*b*c\n",
    "add = a+b+c\n",
    "\n",
    "temp = (mul/add)\n",
    "\n",
    "print(\"Calculated value is : \", temp)"
   ]
  },
  {
   "cell_type": "code",
   "execution_count": 36,
   "id": "753406ff-308b-4a2b-8cab-d3f9887a2322",
   "metadata": {},
   "outputs": [
    {
     "name": "stdin",
     "output_type": "stream",
     "text": [
      "Enter your name :  Abdhul\n",
      "Ente the score :  70\n",
      "Enter your Department :  Artificial Intelligence & Data Science\n"
     ]
    },
    {
     "name": "stdout",
     "output_type": "stream",
     "text": [
      "Name is :  Abdhul\n",
      "Score is :  7.0\n",
      "Department :  Artificial Intelligence & Data Science\n"
     ]
    }
   ],
   "source": [
    "# (4) Get Input for variable name, score, department\n",
    "# Get score for 100, divide 100/10\n",
    "\n",
    "name = input(\"Enter your name : \")\n",
    "score = int(input(\"Ente the score : \"))\n",
    "department = input(\"Enter your Department : \")\n",
    "\n",
    "cal_score = score/10\n",
    "\n",
    "print(\"Name is : \", name)\n",
    "print(\"Score is : \", cal_score)\n",
    "print(\"Department : \", department)\n",
    "\n",
    "#This is also fair \n",
    "#print(\"Score is : \", score/10 )"
   ]
  },
  {
   "cell_type": "code",
   "execution_count": 42,
   "id": "500f46eb-3ce9-4f01-9e08-d14004da80b1",
   "metadata": {},
   "outputs": [
    {
     "name": "stdout",
     "output_type": "stream",
     "text": [
      "Yes\n",
      "NO\n"
     ]
    }
   ],
   "source": [
    "# IF/ELSE using Boolean values : True, False\n",
    "\n",
    "if(True):\n",
    "    print(\"Yes\")\n",
    "else:\n",
    "    print(\"No\")\n",
    "\n",
    "if(False):\n",
    "    print(\"YES\")\n",
    "else:\n",
    "    print(\"NO\")"
   ]
  },
  {
   "cell_type": "code",
   "execution_count": 45,
   "id": "8aebc708-dd9f-4e90-8534-8bbe83adc8a2",
   "metadata": {},
   "outputs": [
    {
     "name": "stdout",
     "output_type": "stream",
     "text": [
      "False\n",
      "True\n"
     ]
    }
   ],
   "source": [
    "#Comparison Operator \n",
    "\n",
    "print(\"win\" == \"winn\")\n",
    "\n",
    "print(\"win\" == \"win\")"
   ]
  },
  {
   "cell_type": "code",
   "execution_count": null,
   "id": "03715001-608e-498d-9c86-bafe154bbba0",
   "metadata": {},
   "outputs": [],
   "source": []
  }
 ],
 "metadata": {
  "kernelspec": {
   "display_name": "Python 3 (ipykernel)",
   "language": "python",
   "name": "python3"
  },
  "language_info": {
   "codemirror_mode": {
    "name": "ipython",
    "version": 3
   },
   "file_extension": ".py",
   "mimetype": "text/x-python",
   "name": "python",
   "nbconvert_exporter": "python",
   "pygments_lexer": "ipython3",
   "version": "3.10.13"
  }
 },
 "nbformat": 4,
 "nbformat_minor": 5
}
