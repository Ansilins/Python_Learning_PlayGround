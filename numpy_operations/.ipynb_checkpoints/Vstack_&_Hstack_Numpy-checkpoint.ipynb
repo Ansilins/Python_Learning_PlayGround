{
 "cells": [
  {
   "cell_type": "markdown",
   "id": "c51b06e4-9a43-4887-854f-e0c1bd252a9d",
   "metadata": {},
   "source": [
    "<span style=\"font-size:larger;background:#333333;color:white\">Vstack & Hstack-Numpy</span><br>\n",
    "-Vstack-Combine the arrays vertically.<br>\n",
    "-Hstack-Combine the array horizontally."
   ]
  },
  {
   "cell_type": "code",
   "execution_count": 2,
   "id": "1bed3b72-1a78-47c5-8dd8-192b4421e337",
   "metadata": {},
   "outputs": [],
   "source": [
    "import numpy as np"
   ]
  },
  {
   "cell_type": "code",
   "execution_count": null,
   "id": "ac6d4432-a1ad-4771-88cb-89b48399bfd1",
   "metadata": {},
   "outputs": [],
   "source": [
    "#In 1-D Array"
   ]
  },
  {
   "cell_type": "code",
   "execution_count": 4,
   "id": "2ee61389-51a5-423e-9960-b618b143b0c8",
   "metadata": {},
   "outputs": [],
   "source": [
    "a = np.array([1,2,3,34,4])"
   ]
  },
  {
   "cell_type": "code",
   "execution_count": 6,
   "id": "5325ac81-7adc-4976-a3a0-1343b76495ec",
   "metadata": {},
   "outputs": [],
   "source": [
    "b = np.array([9,8,7,6,5])"
   ]
  },
  {
   "cell_type": "code",
   "execution_count": 11,
   "id": "a4f8876c-7cc6-4c19-8583-c4735fe1a64d",
   "metadata": {},
   "outputs": [
    {
     "data": {
      "text/plain": [
       "array([[ 1,  2,  3, 34,  4],\n",
       "       [ 9,  8,  7,  6,  5]])"
      ]
     },
     "execution_count": 11,
     "metadata": {},
     "output_type": "execute_result"
    }
   ],
   "source": [
    "np.vstack((a,b))"
   ]
  },
  {
   "cell_type": "code",
   "execution_count": 12,
   "id": "5fc5c5c6-a2d3-443c-98b7-15344328cee6",
   "metadata": {},
   "outputs": [
    {
     "data": {
      "text/plain": [
       "array([ 1,  2,  3, 34,  4,  9,  8,  7,  6,  5])"
      ]
     },
     "execution_count": 12,
     "metadata": {},
     "output_type": "execute_result"
    }
   ],
   "source": [
    "np.hstack((a,b))"
   ]
  },
  {
   "cell_type": "code",
   "execution_count": null,
   "id": "4ede200a-b310-4b76-8b78-0e0024ed44f4",
   "metadata": {},
   "outputs": [],
   "source": [
    "#2-d"
   ]
  },
  {
   "cell_type": "code",
   "execution_count": 15,
   "id": "b1eac17d-a4ba-4fdb-821d-63045b88722d",
   "metadata": {},
   "outputs": [],
   "source": [
    "p = np.array([[1,2,3,4,4],[2,3,4,5,5]])"
   ]
  },
  {
   "cell_type": "code",
   "execution_count": 16,
   "id": "5f249e57-caa5-4117-aa50-41af1967b5ef",
   "metadata": {},
   "outputs": [
    {
     "data": {
      "text/plain": [
       "array([[1, 2, 3, 4, 4],\n",
       "       [2, 3, 4, 5, 5]])"
      ]
     },
     "execution_count": 16,
     "metadata": {},
     "output_type": "execute_result"
    }
   ],
   "source": [
    "p"
   ]
  },
  {
   "cell_type": "code",
   "execution_count": 23,
   "id": "b12fa8c1-a725-4c95-8728-acc48748f2f7",
   "metadata": {},
   "outputs": [],
   "source": [
    "q = np.array([[2,3,4,54,5],[4,3,5,'d',36]])"
   ]
  },
  {
   "cell_type": "code",
   "execution_count": 22,
   "id": "878b9a4e-63b3-4bf8-aeec-e3cdd099bf00",
   "metadata": {},
   "outputs": [
    {
     "data": {
      "text/plain": [
       "array([['2', '3', '4', '54', '5'],\n",
       "       ['4', '3', '5', 'd', '36']], dtype='<U21')"
      ]
     },
     "execution_count": 22,
     "metadata": {},
     "output_type": "execute_result"
    }
   ],
   "source": [
    "q"
   ]
  },
  {
   "cell_type": "code",
   "execution_count": 24,
   "id": "c6365562-ec52-400c-8a10-324cdd8cc29c",
   "metadata": {},
   "outputs": [
    {
     "data": {
      "text/plain": [
       "array([['1', '2', '3', '4', '4'],\n",
       "       ['2', '3', '4', '5', '5'],\n",
       "       ['2', '3', '4', '54', '5'],\n",
       "       ['4', '3', '5', 'd', '36']], dtype='<U21')"
      ]
     },
     "execution_count": 24,
     "metadata": {},
     "output_type": "execute_result"
    }
   ],
   "source": [
    "np.vstack((p,q))"
   ]
  },
  {
   "cell_type": "code",
   "execution_count": 25,
   "id": "f3c21313-ec27-4088-a706-9e8434d97f2a",
   "metadata": {},
   "outputs": [
    {
     "data": {
      "text/plain": [
       "array([['1', '2', '3', '4', '4', '2', '3', '4', '54', '5'],\n",
       "       ['2', '3', '4', '5', '5', '4', '3', '5', 'd', '36']], dtype='<U21')"
      ]
     },
     "execution_count": 25,
     "metadata": {},
     "output_type": "execute_result"
    }
   ],
   "source": [
    "np.hstack((p,q))"
   ]
  },
  {
   "cell_type": "code",
   "execution_count": 26,
   "id": "4c4669dc-e0dc-4779-9fa2-5769ff2d065f",
   "metadata": {},
   "outputs": [],
   "source": [
    "#3d array"
   ]
  },
  {
   "cell_type": "code",
   "execution_count": 62,
   "id": "cb7c20c4-257c-47a2-9ec9-7dac729378b3",
   "metadata": {},
   "outputs": [],
   "source": [
    "x = np.array([[[2,3,4],[2,3,54],[33,7,7]]])"
   ]
  },
  {
   "cell_type": "code",
   "execution_count": 63,
   "id": "54a4f9e6-e786-4136-9fd8-f1c2688f7790",
   "metadata": {},
   "outputs": [],
   "source": [
    "y = np.array([[[5,6,7],[56,75,43],[44,4,23]]])"
   ]
  },
  {
   "cell_type": "code",
   "execution_count": 64,
   "id": "78e64f90-6760-47f2-8188-d856f7cc69aa",
   "metadata": {},
   "outputs": [
    {
     "data": {
      "text/plain": [
       "array([[[ 2,  3,  4],\n",
       "        [ 2,  3, 54],\n",
       "        [33,  7,  7]]])"
      ]
     },
     "execution_count": 64,
     "metadata": {},
     "output_type": "execute_result"
    }
   ],
   "source": [
    "x"
   ]
  },
  {
   "cell_type": "code",
   "execution_count": 65,
   "id": "e357ba1f-4d35-4a5f-9602-9dda19910e86",
   "metadata": {},
   "outputs": [
    {
     "data": {
      "text/plain": [
       "array([[[ 5,  6,  7],\n",
       "        [56, 75, 43],\n",
       "        [44,  4, 23]]])"
      ]
     },
     "execution_count": 65,
     "metadata": {},
     "output_type": "execute_result"
    }
   ],
   "source": [
    "y"
   ]
  },
  {
   "cell_type": "code",
   "execution_count": 69,
   "id": "5bb9fe0d-b8c6-4bd6-909f-2f196ba31541",
   "metadata": {},
   "outputs": [
    {
     "name": "stdout",
     "output_type": "stream",
     "text": [
      "[[[ 2  3  4]\n",
      "  [ 2  3 54]\n",
      "  [33  7  7]]\n",
      "\n",
      " [[ 5  6  7]\n",
      "  [56 75 43]\n",
      "  [44  4 23]]]\n"
     ]
    }
   ],
   "source": [
    "x1 = np.vstack((x,y))\n",
    "print(x1)"
   ]
  },
  {
   "cell_type": "code",
   "execution_count": 70,
   "id": "95e6885f-5ad8-424b-b7b7-ba8ce681817b",
   "metadata": {},
   "outputs": [
    {
     "name": "stdout",
     "output_type": "stream",
     "text": [
      "[[[ 2  3  4]\n",
      "  [ 2  3 54]\n",
      "  [33  7  7]\n",
      "  [ 5  6  7]\n",
      "  [56 75 43]\n",
      "  [44  4 23]]]\n"
     ]
    }
   ],
   "source": [
    "y1 = np.hstack((x,y))\n",
    "print(y1)"
   ]
  },
  {
   "cell_type": "code",
   "execution_count": 71,
   "id": "5788ad56-5c9b-4056-b491-faf393ebb117",
   "metadata": {},
   "outputs": [
    {
     "data": {
      "text/plain": [
       "(2, 3, 3)"
      ]
     },
     "execution_count": 71,
     "metadata": {},
     "output_type": "execute_result"
    }
   ],
   "source": [
    "x1.shape"
   ]
  },
  {
   "cell_type": "code",
   "execution_count": 72,
   "id": "78e3af50-2cab-49be-b824-bcd9d978d7b4",
   "metadata": {},
   "outputs": [
    {
     "data": {
      "text/plain": [
       "(1, 6, 3)"
      ]
     },
     "execution_count": 72,
     "metadata": {},
     "output_type": "execute_result"
    }
   ],
   "source": [
    "y1.shape"
   ]
  }
 ],
 "metadata": {
  "kernelspec": {
   "display_name": "Python 3 (ipykernel)",
   "language": "python",
   "name": "python3"
  },
  "language_info": {
   "codemirror_mode": {
    "name": "ipython",
    "version": 3
   },
   "file_extension": ".py",
   "mimetype": "text/x-python",
   "name": "python",
   "nbconvert_exporter": "python",
   "pygments_lexer": "ipython3",
   "version": "3.10.13"
  }
 },
 "nbformat": 4,
 "nbformat_minor": 5
}
