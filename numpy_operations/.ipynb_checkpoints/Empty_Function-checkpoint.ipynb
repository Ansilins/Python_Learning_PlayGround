{
 "cells": [
  {
   "cell_type": "markdown",
   "id": "fc378eda-ba05-4f45-9b3c-29bb21edb1a0",
   "metadata": {},
   "source": [
    "<span style='font-size:larger;background-color:#333333; color:white'> Empty Function</span><br>\n",
    "<span style='font-size:larger'>syntax: np.empty(shape.dtype)</span><br>\n",
    "-Shape can give in list or tuple form <br>\n",
    "-The default datatype is float "
   ]
  },
  {
   "cell_type": "code",
   "execution_count": 2,
   "id": "cfe0d83c-51e2-4248-8034-23771a04f9e5",
   "metadata": {},
   "outputs": [],
   "source": [
    "#importing the numpy library\n",
    "import numpy as np"
   ]
  },
  {
   "cell_type": "code",
   "execution_count": 4,
   "id": "2c15a3a3-72ee-4a46-a70c-803f91451b5f",
   "metadata": {},
   "outputs": [
    {
     "name": "stdout",
     "output_type": "stream",
     "text": [
      "[0.  0.5 1.  1.5 2. ]\n"
     ]
    }
   ],
   "source": [
    "#creating a 1-D Empty array\n",
    "a = np.empty(5)\n",
    "print(a)"
   ]
  },
  {
   "cell_type": "code",
   "execution_count": 11,
   "id": "ccf187d3-88f7-4fd8-a49c-ad3b0e09173d",
   "metadata": {},
   "outputs": [
    {
     "name": "stdout",
     "output_type": "stream",
     "text": [
      "[                  0 4602678819172646912 4607182418800017408\n",
      " 4609434218613702656 4611686018427387904]\n"
     ]
    }
   ],
   "source": [
    "#Creating a 1-D Empty array, with integer datatype\n",
    "a1 = np.empty(5,dtype=int)\n",
    "print(a1)"
   ]
  },
  {
   "cell_type": "code",
   "execution_count": 22,
   "id": "796aad89-50d0-410e-996f-44d1034b9db7",
   "metadata": {},
   "outputs": [
    {
     "name": "stdout",
     "output_type": "stream",
     "text": [
      "[None None None None None]\n"
     ]
    }
   ],
   "source": [
    "#Creating a 1-D Empty array, with object datatype \n",
    "a2 = np.empty(5,dtype=object)\n",
    "print(a2)"
   ]
  },
  {
   "cell_type": "code",
   "execution_count": 30,
   "id": "d7b00e4d-63a0-4f6b-86d8-30b0bade8c53",
   "metadata": {},
   "outputs": [
    {
     "name": "stdout",
     "output_type": "stream",
     "text": [
      "[[0. 0. 0.]\n",
      " [0. 0. 0.]\n",
      " [0. 0. 0.]\n",
      " [0. 0. 0.]\n",
      " [0. 0. 0.]]\n"
     ]
    }
   ],
   "source": [
    "#Creating a 2-D Empty array\n",
    "b1 = np.empty((5,3))\n",
    "print(b1)"
   ]
  },
  {
   "cell_type": "code",
   "execution_count": 31,
   "id": "1788de6f-0032-417f-89a1-ad78d1e8234e",
   "metadata": {},
   "outputs": [
    {
     "name": "stdout",
     "output_type": "stream",
     "text": [
      "[[0 0 0]\n",
      " [0 0 0]\n",
      " [0 0 0]\n",
      " [0 0 0]\n",
      " [0 0 0]]\n"
     ]
    }
   ],
   "source": [
    "#Creating a 2-D Empty array, with integer datatype \n",
    "b2 = np.empty((5,3),dtype=int)\n",
    "print(b2)"
   ]
  },
  {
   "cell_type": "code",
   "execution_count": 32,
   "id": "7382243c-bd54-41f2-8977-cb58b42c91fb",
   "metadata": {},
   "outputs": [
    {
     "name": "stdout",
     "output_type": "stream",
     "text": [
      "[[None None None]\n",
      " [None None None]\n",
      " [None None None]\n",
      " [None None None]\n",
      " [None None None]]\n"
     ]
    }
   ],
   "source": [
    "#Creating a 2-D Empty array, with object datatype\n",
    "b3 = np.empty((5,3),dtype=object)\n",
    "print(b3)"
   ]
  },
  {
   "cell_type": "code",
   "execution_count": 43,
   "id": "5f79d128-af8e-4e53-950f-5847af83d76b",
   "metadata": {},
   "outputs": [
    {
     "name": "stdout",
     "output_type": "stream",
     "text": [
      "[[[0. 0. 0.]\n",
      "  [0. 0. 0.]\n",
      "  [0. 0. 0.]\n",
      "  [0. 0. 0.]\n",
      "  [0. 0. 0.]]\n",
      "\n",
      " [[0. 0. 0.]\n",
      "  [0. 0. 0.]\n",
      "  [0. 0. 0.]\n",
      "  [0. 0. 0.]\n",
      "  [0. 0. 0.]]\n",
      "\n",
      " [[0. 0. 0.]\n",
      "  [0. 0. 0.]\n",
      "  [0. 0. 0.]\n",
      "  [0. 0. 0.]\n",
      "  [0. 0. 0.]]]\n"
     ]
    }
   ],
   "source": [
    "#Creating a 3-D Empty array\n",
    "c1 = np.empty([3,5,3])\n",
    "print(c1)"
   ]
  },
  {
   "cell_type": "code",
   "execution_count": null,
   "id": "324472e7-5a8c-4823-81e2-8dab9f17f064",
   "metadata": {},
   "outputs": [],
   "source": [
    "#creating a 3-D empty array with integer datatype"
   ]
  },
  {
   "cell_type": "code",
   "execution_count": 45,
   "id": "90c7153f-f94a-4def-9067-c258d48c4baf",
   "metadata": {},
   "outputs": [
    {
     "name": "stdout",
     "output_type": "stream",
     "text": [
      "[[[0 0 0]\n",
      "  [0 0 0]\n",
      "  [0 0 0]\n",
      "  [0 0 0]\n",
      "  [0 0 0]]\n",
      "\n",
      " [[0 0 0]\n",
      "  [0 0 0]\n",
      "  [0 0 0]\n",
      "  [0 0 0]\n",
      "  [0 0 0]]\n",
      "\n",
      " [[0 0 0]\n",
      "  [0 0 0]\n",
      "  [0 0 0]\n",
      "  [0 0 0]\n",
      "  [0 0 0]]]\n"
     ]
    }
   ],
   "source": [
    "c2 = np.empty((3,5,3),dtype=int)\n",
    "print(c2)"
   ]
  },
  {
   "cell_type": "code",
   "execution_count": 47,
   "id": "032bdae4-e3ff-4fef-9251-6059e85dbfc5",
   "metadata": {},
   "outputs": [
    {
     "name": "stdout",
     "output_type": "stream",
     "text": [
      "[[[None None None]\n",
      "  [None None None]\n",
      "  [None None None]\n",
      "  [None None None]\n",
      "  [None None None]]\n",
      "\n",
      " [[None None None]\n",
      "  [None None None]\n",
      "  [None None None]\n",
      "  [None None None]\n",
      "  [None None None]]\n",
      "\n",
      " [[None None None]\n",
      "  [None None None]\n",
      "  [None None None]\n",
      "  [None None None]\n",
      "  [None None None]]]\n"
     ]
    }
   ],
   "source": [
    "#Creating a 3-D Empty array, with integer object data type\n",
    "c3 = np.empty([3,5,3],dtype=object)\n",
    "print(c3)"
   ]
  }
 ],
 "metadata": {
  "kernelspec": {
   "display_name": "Python 3 (ipykernel)",
   "language": "python",
   "name": "python3"
  },
  "language_info": {
   "codemirror_mode": {
    "name": "ipython",
    "version": 3
   },
   "file_extension": ".py",
   "mimetype": "text/x-python",
   "name": "python",
   "nbconvert_exporter": "python",
   "pygments_lexer": "ipython3",
   "version": "3.10.13"
  }
 },
 "nbformat": 4,
 "nbformat_minor": 5
}
