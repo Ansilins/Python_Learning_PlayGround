{
 "cells": [
  {
   "cell_type": "markdown",
   "id": "b06d2568-a8c8-4265-ab35-646abdb6b118",
   "metadata": {},
   "source": [
    "<span style='font-size:larger;background-color:#333333; color:white'> Eye Function</span><br>\n"
   ]
  },
  {
   "cell_type": "markdown",
   "id": "b473fb6e-3565-4b73-bbe2-4be1ed351c08",
   "metadata": {},
   "source": [
    "<span style='font-size:larger'>The Eye Function returns a 2-D array, with 1 on diagonal and 0 elsewhere.</span><br>\n",
    "<span style='font-size:medium'>Syntax:</span>\n",
    "<span stype='font-size:small'>np.eye(shape, k, dtype)<br>\n",
    "-Here, if only No. of Rows passed, then No.of Columns = No.of Rows.<br>\n",
    "-K is index of diagnoal, by default, k=0 means Main diagnal; when k=positive means Upper diagnal ; when k =negative means Lower adiagonal.<br>\n",
    "-The default datatype is float."
   ]
  },
  {
   "cell_type": "code",
   "execution_count": 39,
   "id": "2fd2d28e-d168-4162-a7c5-dbb27e530d60",
   "metadata": {},
   "outputs": [],
   "source": [
    "#importing numpy \n",
    "import numpy as np"
   ]
  },
  {
   "cell_type": "code",
   "execution_count": 40,
   "id": "f51197e5-62cb-44e5-bffc-594492da373f",
   "metadata": {},
   "outputs": [
    {
     "name": "stdout",
     "output_type": "stream",
     "text": [
      "[[1. 0. 0. 0.]\n",
      " [0. 1. 0. 0.]\n",
      " [0. 0. 1. 0.]\n",
      " [0. 0. 0. 1.]]\n"
     ]
    }
   ],
   "source": [
    "#creating an arrray of shape 4x4\n",
    "a = np.eye(4)\n",
    "print(a)"
   ]
  },
  {
   "cell_type": "code",
   "execution_count": 41,
   "id": "cf246662-2015-4ad0-8648-725d8ed5b1f4",
   "metadata": {},
   "outputs": [
    {
     "name": "stdout",
     "output_type": "stream",
     "text": [
      "[[1. 0. 0. 0.]\n",
      " [0. 1. 0. 0.]\n",
      " [0. 0. 1. 0.]\n",
      " [0. 0. 0. 1.]]\n"
     ]
    }
   ],
   "source": [
    "#creating an array of shape 4x4, with 1 at Main diagonal \n",
    "a1 = np.eye(4,k=0)\n",
    "print(a1)"
   ]
  },
  {
   "cell_type": "code",
   "execution_count": 42,
   "id": "c793ba3b-8259-4b16-9c9d-d68dd41d466d",
   "metadata": {},
   "outputs": [
    {
     "name": "stdout",
     "output_type": "stream",
     "text": [
      "[[0. 1. 0. 0.]\n",
      " [0. 0. 1. 0.]\n",
      " [0. 0. 0. 1.]\n",
      " [0. 0. 0. 0.]]\n"
     ]
    }
   ],
   "source": [
    "#creating an array of shape 4x4, with 1 at upper diagonal\n",
    "a2 = np.eye(4,k=1)\n",
    "print(a2)"
   ]
  },
  {
   "cell_type": "code",
   "execution_count": 43,
   "id": "a304f3ff-d301-41a9-bf45-ef0f17b37932",
   "metadata": {},
   "outputs": [
    {
     "name": "stdout",
     "output_type": "stream",
     "text": [
      "[[0. 0. 0. 0.]\n",
      " [1. 0. 0. 0.]\n",
      " [0. 1. 0. 0.]\n",
      " [0. 0. 1. 0.]]\n"
     ]
    }
   ],
   "source": [
    "#creating an array of shape 4x4, with 1 at lower diagnal \n",
    "a3 = np.eye(4,k=-1)\n",
    "print(a3)"
   ]
  },
  {
   "cell_type": "code",
   "execution_count": 44,
   "id": "dbf13639-c9c8-4381-ac8f-c9161e013c70",
   "metadata": {},
   "outputs": [
    {
     "name": "stdout",
     "output_type": "stream",
     "text": [
      "[[1 0 0 0]\n",
      " [0 1 0 0]\n",
      " [0 0 1 0]\n",
      " [0 0 0 1]]\n"
     ]
    }
   ],
   "source": [
    "#creating an array of shape 4x4, with Integer datatype\n",
    "a4 = np.eye(4,dtype=int)\n",
    "print(a4)"
   ]
  },
  {
   "cell_type": "code",
   "execution_count": 45,
   "id": "888f3268-115e-4663-9a8b-8c878bcd1c39",
   "metadata": {},
   "outputs": [
    {
     "name": "stdout",
     "output_type": "stream",
     "text": [
      "[[1. 0. 0. 0. 0.]\n",
      " [0. 1. 0. 0. 0.]\n",
      " [0. 0. 1. 0. 0.]\n",
      " [0. 0. 0. 1. 0.]]\n"
     ]
    }
   ],
   "source": [
    "#creating an array of shape 4x5\n",
    "a5 = np.eye(4,5)\n",
    "print(a5)"
   ]
  },
  {
   "cell_type": "code",
   "execution_count": 46,
   "id": "dfc8a752-3a61-41f4-8689-1a047c98f5b5",
   "metadata": {},
   "outputs": [
    {
     "name": "stdout",
     "output_type": "stream",
     "text": [
      "[[1. 0. 0. 0.]\n",
      " [0. 1. 0. 0.]\n",
      " [0. 0. 1. 0.]\n",
      " [0. 0. 0. 1.]\n",
      " [0. 0. 0. 0.]]\n"
     ]
    }
   ],
   "source": [
    "#creating an array of shape 5x4\n",
    "a6 = np.eye(5,4)\n",
    "print(a6)"
   ]
  },
  {
   "cell_type": "markdown",
   "id": "4860a51d-7ec6-4c1f-ad9e-06bb930e02ea",
   "metadata": {},
   "source": [
    "---------------------------------------------------------------------------------------------------------------------------------------------"
   ]
  },
  {
   "cell_type": "markdown",
   "id": "95fb36f8-1f0e-4d77-93bf-7148a1af84c5",
   "metadata": {},
   "source": [
    "<span style='font-size:larger'>Additional Examples</span>"
   ]
  },
  {
   "cell_type": "code",
   "execution_count": 47,
   "id": "32201bb3-9396-4e3a-a761-8446d1244cef",
   "metadata": {},
   "outputs": [],
   "source": [
    "s = np.eye(1)"
   ]
  },
  {
   "cell_type": "code",
   "execution_count": 48,
   "id": "a4348a28-634d-420f-9afb-56fe7ec1c3f5",
   "metadata": {},
   "outputs": [
    {
     "data": {
      "text/plain": [
       "array([[1.]])"
      ]
     },
     "execution_count": 48,
     "metadata": {},
     "output_type": "execute_result"
    }
   ],
   "source": [
    "s"
   ]
  },
  {
   "cell_type": "code",
   "execution_count": 49,
   "id": "f9bb328e-416b-4052-9bb0-8601b72ed1c8",
   "metadata": {},
   "outputs": [],
   "source": [
    "s1 = np.eye(12)"
   ]
  },
  {
   "cell_type": "code",
   "execution_count": 50,
   "id": "868a347f-25fd-4c00-b4a8-605f8452135f",
   "metadata": {},
   "outputs": [
    {
     "data": {
      "text/plain": [
       "array([[1., 0., 0., 0., 0., 0., 0., 0., 0., 0., 0., 0.],\n",
       "       [0., 1., 0., 0., 0., 0., 0., 0., 0., 0., 0., 0.],\n",
       "       [0., 0., 1., 0., 0., 0., 0., 0., 0., 0., 0., 0.],\n",
       "       [0., 0., 0., 1., 0., 0., 0., 0., 0., 0., 0., 0.],\n",
       "       [0., 0., 0., 0., 1., 0., 0., 0., 0., 0., 0., 0.],\n",
       "       [0., 0., 0., 0., 0., 1., 0., 0., 0., 0., 0., 0.],\n",
       "       [0., 0., 0., 0., 0., 0., 1., 0., 0., 0., 0., 0.],\n",
       "       [0., 0., 0., 0., 0., 0., 0., 1., 0., 0., 0., 0.],\n",
       "       [0., 0., 0., 0., 0., 0., 0., 0., 1., 0., 0., 0.],\n",
       "       [0., 0., 0., 0., 0., 0., 0., 0., 0., 1., 0., 0.],\n",
       "       [0., 0., 0., 0., 0., 0., 0., 0., 0., 0., 1., 0.],\n",
       "       [0., 0., 0., 0., 0., 0., 0., 0., 0., 0., 0., 1.]])"
      ]
     },
     "execution_count": 50,
     "metadata": {},
     "output_type": "execute_result"
    }
   ],
   "source": [
    "s1"
   ]
  },
  {
   "cell_type": "code",
   "execution_count": 51,
   "id": "dd21b5c2-e063-4e24-a631-6f25655f2aff",
   "metadata": {},
   "outputs": [
    {
     "data": {
      "text/plain": [
       "array([[0, 0, 0, 1, 0, 0, 0, 0, 0],\n",
       "       [0, 0, 0, 0, 1, 0, 0, 0, 0],\n",
       "       [0, 0, 0, 0, 0, 1, 0, 0, 0],\n",
       "       [0, 0, 0, 0, 0, 0, 1, 0, 0],\n",
       "       [0, 0, 0, 0, 0, 0, 0, 1, 0],\n",
       "       [0, 0, 0, 0, 0, 0, 0, 0, 1]])"
      ]
     },
     "execution_count": 51,
     "metadata": {},
     "output_type": "execute_result"
    }
   ],
   "source": [
    "np.eye(6,9,k=3,dtype=int)"
   ]
  },
  {
   "cell_type": "code",
   "execution_count": 52,
   "id": "9d157b95-ce8f-48e4-a905-226e9341c8b5",
   "metadata": {},
   "outputs": [
    {
     "data": {
      "text/plain": [
       "array([['1', '', '', '', ''],\n",
       "       ['', '1', '', '', ''],\n",
       "       ['', '', '1', '', ''],\n",
       "       ['', '', '', '1', ''],\n",
       "       ['', '', '', '', '1']], dtype='<U1')"
      ]
     },
     "execution_count": 52,
     "metadata": {},
     "output_type": "execute_result"
    }
   ],
   "source": [
    "np.eye(5,dtype=str)"
   ]
  }
 ],
 "metadata": {
  "kernelspec": {
   "display_name": "Python 3 (ipykernel)",
   "language": "python",
   "name": "python3"
  },
  "language_info": {
   "codemirror_mode": {
    "name": "ipython",
    "version": 3
   },
   "file_extension": ".py",
   "mimetype": "text/x-python",
   "name": "python",
   "nbconvert_exporter": "python",
   "pygments_lexer": "ipython3",
   "version": "3.10.13"
  }
 },
 "nbformat": 4,
 "nbformat_minor": 5
}
