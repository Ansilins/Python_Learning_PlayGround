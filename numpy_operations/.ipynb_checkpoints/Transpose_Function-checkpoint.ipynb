{
 "cells": [
  {
   "cell_type": "markdown",
   "id": "fec85bc5-d5eb-4b2b-88a8-296781268118",
   "metadata": {},
   "source": [
    "<span style='font-size:larger; background:#333333; color:white'>Transpose Function </span><br>\n",
    "<span style='font-size:larger'>syntax</span><br>\n",
    "<span styl='font-size:medium'>array.T&nbsp;&nbsp;(or)&nbsp;&nbsp;np.transpose(array))</span><br>\n",
    "-It converts the Rows into Columns, and Columns into Rows\n"
   ]
  },
  {
   "cell_type": "code",
   "execution_count": 48,
   "id": "4b59334f-5d68-4c93-8839-45816a121459",
   "metadata": {},
   "outputs": [],
   "source": [
    "#to import numpy library\n",
    "import numpy as np"
   ]
  },
  {
   "cell_type": "markdown",
   "id": "bd07d8a9-91c9-4f1c-85e0-5c7daccc22f6",
   "metadata": {},
   "source": [
    "<span style='font-size:larger'>Transpose of a 2-D array</span><br>"
   ]
  },
  {
   "cell_type": "code",
   "execution_count": 49,
   "id": "290af32d-7dc7-4326-b870-81c48abb132d",
   "metadata": {},
   "outputs": [],
   "source": [
    "#creating a 2-D array of 2x3\n",
    "a = np.array([[2,4,3],[1,2,3]])"
   ]
  },
  {
   "cell_type": "code",
   "execution_count": 50,
   "id": "da0a340d-beaf-4781-bc5a-33dc71d7c74a",
   "metadata": {},
   "outputs": [
    {
     "data": {
      "text/plain": [
       "array([[2, 4, 3],\n",
       "       [1, 2, 3]])"
      ]
     },
     "execution_count": 50,
     "metadata": {},
     "output_type": "execute_result"
    }
   ],
   "source": [
    "a"
   ]
  },
  {
   "cell_type": "code",
   "execution_count": 51,
   "id": "6ea580d5-1d66-4cec-8d09-ccfb7ef9b8c3",
   "metadata": {},
   "outputs": [],
   "source": [
    "#transpose of array a\n",
    "b = a.T"
   ]
  },
  {
   "cell_type": "code",
   "execution_count": 52,
   "id": "bf60e843-2802-48c9-a874-e7027dafbd41",
   "metadata": {},
   "outputs": [
    {
     "data": {
      "text/plain": [
       "(2, 3)"
      ]
     },
     "execution_count": 52,
     "metadata": {},
     "output_type": "execute_result"
    }
   ],
   "source": [
    "#checking the original shape of a \n",
    "a.shape"
   ]
  },
  {
   "cell_type": "code",
   "execution_count": 53,
   "id": "ac07017a-356a-42a6-9cf9-40ec9208a279",
   "metadata": {},
   "outputs": [
    {
     "data": {
      "text/plain": [
       "(3, 2)"
      ]
     },
     "execution_count": 53,
     "metadata": {},
     "output_type": "execute_result"
    }
   ],
   "source": [
    "#checking the shape of a after transpose \n",
    "b.shape"
   ]
  },
  {
   "cell_type": "code",
   "execution_count": 54,
   "id": "c3e8e02e-4dc4-42e7-8c23-d9954ce72b06",
   "metadata": {},
   "outputs": [
    {
     "data": {
      "text/plain": [
       "array([[2, 1],\n",
       "       [4, 2],\n",
       "       [3, 3]])"
      ]
     },
     "execution_count": 54,
     "metadata": {},
     "output_type": "execute_result"
    }
   ],
   "source": [
    "#alternate command to transpose\n",
    "np.transpose(a)"
   ]
  },
  {
   "cell_type": "markdown",
   "id": "1517f930-4b80-40c9-bf93-0eb4b1b9464c",
   "metadata": {},
   "source": [
    "---"
   ]
  },
  {
   "cell_type": "markdown",
   "id": "b56ce519-393d-4d12-bdbd-4956776df76f",
   "metadata": {},
   "source": [
    "<span style='font-size:larger'>Transpose of a 1-D array</span><br>"
   ]
  },
  {
   "cell_type": "code",
   "execution_count": 55,
   "id": "a9e4c587-7c72-489c-b3ec-094c473674c9",
   "metadata": {},
   "outputs": [],
   "source": [
    "#creating a 1-D array of 6 elements \n",
    "d = np.array([1,2,3,4,5,6])"
   ]
  },
  {
   "cell_type": "code",
   "execution_count": 56,
   "id": "50bd66ea-49e7-4931-820c-4f86bdfe356c",
   "metadata": {},
   "outputs": [
    {
     "data": {
      "text/plain": [
       "array([1, 2, 3, 4, 5, 6])"
      ]
     },
     "execution_count": 56,
     "metadata": {},
     "output_type": "execute_result"
    }
   ],
   "source": [
    "d"
   ]
  },
  {
   "cell_type": "code",
   "execution_count": 57,
   "id": "e5fa493f-fa3f-42c7-b0a8-2ddd0d879929",
   "metadata": {},
   "outputs": [
    {
     "data": {
      "text/plain": [
       "array([1, 2, 3, 4, 5, 6])"
      ]
     },
     "execution_count": 57,
     "metadata": {},
     "output_type": "execute_result"
    }
   ],
   "source": [
    "#transpose of array 'd'\n",
    "d.T"
   ]
  },
  {
   "cell_type": "code",
   "execution_count": 58,
   "id": "79b8d43d-982d-4bc1-ad42-1b3acc843e15",
   "metadata": {},
   "outputs": [
    {
     "data": {
      "text/plain": [
       "(6,)"
      ]
     },
     "execution_count": 58,
     "metadata": {},
     "output_type": "execute_result"
    }
   ],
   "source": [
    "#checking the original shape of 'd'\n",
    "d.shape"
   ]
  },
  {
   "cell_type": "code",
   "execution_count": 59,
   "id": "9017b8c8-e2f7-431d-a6fa-63704b1c9dcd",
   "metadata": {},
   "outputs": [
    {
     "data": {
      "text/plain": [
       "(6,)"
      ]
     },
     "execution_count": 59,
     "metadata": {},
     "output_type": "execute_result"
    }
   ],
   "source": [
    "d.T.shape"
   ]
  },
  {
   "cell_type": "markdown",
   "id": "00ec2405-6306-4b6c-8453-b6614b0922df",
   "metadata": {},
   "source": [
    "---"
   ]
  },
  {
   "cell_type": "markdown",
   "id": "27ed78d6-7cb3-41f9-a0ef-159ca6b6d886",
   "metadata": {},
   "source": [
    "<span style='font-size:larger'>Transpose of a 3-D array</span><br>"
   ]
  },
  {
   "cell_type": "code",
   "execution_count": 60,
   "id": "d784bf7d-f8b5-4723-b77c-42ed9b27f725",
   "metadata": {},
   "outputs": [],
   "source": [
    "#creating a 3-D arrray of 1x3x3 element\n",
    "e = np.array([[[1,2,3],[2,3,4],[4,5,6]]])"
   ]
  },
  {
   "cell_type": "code",
   "execution_count": 61,
   "id": "d52b63b3-fa91-4ecb-8e6e-6b539602bb94",
   "metadata": {},
   "outputs": [
    {
     "data": {
      "text/plain": [
       "array([[[1, 2, 3],\n",
       "        [2, 3, 4],\n",
       "        [4, 5, 6]]])"
      ]
     },
     "execution_count": 61,
     "metadata": {},
     "output_type": "execute_result"
    }
   ],
   "source": [
    "e"
   ]
  },
  {
   "cell_type": "code",
   "execution_count": 62,
   "id": "e1eafb84-2a36-402b-b134-b006cb244184",
   "metadata": {},
   "outputs": [
    {
     "data": {
      "text/plain": [
       "array([[[1],\n",
       "        [2],\n",
       "        [4]],\n",
       "\n",
       "       [[2],\n",
       "        [3],\n",
       "        [5]],\n",
       "\n",
       "       [[3],\n",
       "        [4],\n",
       "        [6]]])"
      ]
     },
     "execution_count": 62,
     "metadata": {},
     "output_type": "execute_result"
    }
   ],
   "source": [
    "#transpose of array 'e'\n",
    "e.T"
   ]
  },
  {
   "cell_type": "code",
   "execution_count": 63,
   "id": "a3e625f7-4ef0-43dc-b0d4-eb748f2238f9",
   "metadata": {},
   "outputs": [
    {
     "data": {
      "text/plain": [
       "(1, 3, 3)"
      ]
     },
     "execution_count": 63,
     "metadata": {},
     "output_type": "execute_result"
    }
   ],
   "source": [
    "#checking the original shape of 'e'\n",
    "e.shape"
   ]
  },
  {
   "cell_type": "code",
   "execution_count": 64,
   "id": "06a63911-a579-4381-8af9-77974562c247",
   "metadata": {},
   "outputs": [
    {
     "data": {
      "text/plain": [
       "(3, 3, 1)"
      ]
     },
     "execution_count": 64,
     "metadata": {},
     "output_type": "execute_result"
    }
   ],
   "source": [
    "#checking the shape of 'e' after transpose\n",
    "e.T.shape"
   ]
  },
  {
   "cell_type": "markdown",
   "id": "c5e2a381-7cd6-4c23-b4d0-8e2f553a907e",
   "metadata": {},
   "source": [
    "---"
   ]
  }
 ],
 "metadata": {
  "kernelspec": {
   "display_name": "Python 3 (ipykernel)",
   "language": "python",
   "name": "python3"
  },
  "language_info": {
   "codemirror_mode": {
    "name": "ipython",
    "version": 3
   },
   "file_extension": ".py",
   "mimetype": "text/x-python",
   "name": "python",
   "nbconvert_exporter": "python",
   "pygments_lexer": "ipython3",
   "version": "3.10.13"
  }
 },
 "nbformat": 4,
 "nbformat_minor": 5
}
