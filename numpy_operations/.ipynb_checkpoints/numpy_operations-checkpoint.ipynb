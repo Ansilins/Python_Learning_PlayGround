{
 "cells": [
  {
   "cell_type": "markdown",
   "id": "6eba7f5b-943d-420f-8395-3a5da8d2278d",
   "metadata": {},
   "source": [
    "<span style=\"font-size:larger; background-color:#333333; color:white\">Numpy Arrays: 1-D, 2-D, 3-D Arrays</span>"
   ]
  },
  {
   "cell_type": "code",
   "execution_count": 1,
   "id": "081e0d14-8233-4aa7-8a6f-0318035d0bbd",
   "metadata": {},
   "outputs": [],
   "source": [
    "#importing Numpy.\n",
    "import numpy as np"
   ]
  },
  {
   "cell_type": "code",
   "execution_count": 2,
   "id": "78fa87e6-b737-42c7-9629-54f28da56454",
   "metadata": {},
   "outputs": [],
   "source": [
    "# Create a NumPy array named A1 containing the elements.\n",
    "A1 = np.array([1,2,3,4,5])"
   ]
  },
  {
   "cell_type": "code",
   "execution_count": 3,
   "id": "24136d33-17e1-4677-ba69-602b533a1593",
   "metadata": {},
   "outputs": [
    {
     "name": "stdout",
     "output_type": "stream",
     "text": [
      "[1 2 3 4 5]\n"
     ]
    }
   ],
   "source": [
    "#print the Numpy array.\n",
    "print(A1)"
   ]
  },
  {
   "cell_type": "code",
   "execution_count": 4,
   "id": "90ee0aa5-a337-4ab9-aae9-939f4ea13d34",
   "metadata": {},
   "outputs": [
    {
     "data": {
      "text/plain": [
       "numpy.ndarray"
      ]
     },
     "execution_count": 4,
     "metadata": {},
     "output_type": "execute_result"
    }
   ],
   "source": [
    "#Check the type of the variable A1.\n",
    "type(A1) "
   ]
  },
  {
   "cell_type": "code",
   "execution_count": 5,
   "id": "497ebcf8-4ca6-4e11-a345-e2eed135e055",
   "metadata": {},
   "outputs": [
    {
     "data": {
      "text/plain": [
       "(5,)"
      ]
     },
     "execution_count": 5,
     "metadata": {},
     "output_type": "execute_result"
    }
   ],
   "source": [
    "#check the shape of the variable A1.\n",
    "A1.shape"
   ]
  },
  {
   "cell_type": "code",
   "execution_count": 6,
   "id": "bd07362c-bb6d-497e-beef-bf8df08fbbca",
   "metadata": {},
   "outputs": [
    {
     "data": {
      "text/plain": [
       "5"
      ]
     },
     "execution_count": 6,
     "metadata": {},
     "output_type": "execute_result"
    }
   ],
   "source": [
    "#check the size of the variable A1.\n",
    "A1.size"
   ]
  },
  {
   "cell_type": "code",
   "execution_count": 7,
   "id": "cd35d588-1be2-4814-8c27-6ebbb7d0092c",
   "metadata": {},
   "outputs": [],
   "source": [
    "#Create a NumPy array named A2 containing a 2D array with two rows and four columns.\n",
    "A2 = np.array([[1,3,4,5], [1,2,4,5,]])"
   ]
  },
  {
   "cell_type": "code",
   "execution_count": 8,
   "id": "d2a8ebbc-08c6-42b2-97b9-94832d25baec",
   "metadata": {},
   "outputs": [
    {
     "data": {
      "text/plain": [
       "2"
      ]
     },
     "execution_count": 8,
     "metadata": {},
     "output_type": "execute_result"
    }
   ],
   "source": [
    "#Check the number of dimensions of the NumPy array A2.\n",
    "A2.ndim"
   ]
  },
  {
   "cell_type": "code",
   "execution_count": 9,
   "id": "64a65f4a-e7e9-493e-a671-a2459ad743e6",
   "metadata": {},
   "outputs": [
    {
     "data": {
      "text/plain": [
       "8"
      ]
     },
     "execution_count": 9,
     "metadata": {},
     "output_type": "execute_result"
    }
   ],
   "source": [
    "#check the size of the variable A2.\n",
    "A2.size"
   ]
  },
  {
   "cell_type": "code",
   "execution_count": 10,
   "id": "ee8e1fb9-b69d-4086-8bc8-e445dbf9ab68",
   "metadata": {},
   "outputs": [],
   "source": [
    "#Create a NumPy array named A3 containing a 3D array with two rows and four columns.\n",
    "A3 = np.array([[[2,3,4], [2,3,4], [3,4,5]]])"
   ]
  },
  {
   "cell_type": "code",
   "execution_count": 11,
   "id": "27d5d43d-bce4-49bb-abc1-756ad8ccb894",
   "metadata": {},
   "outputs": [
    {
     "name": "stdout",
     "output_type": "stream",
     "text": [
      "[[[2 3 4]\n",
      "  [2 3 4]\n",
      "  [3 4 5]]]\n"
     ]
    }
   ],
   "source": [
    "#print the Numpy array.\n",
    "print(A3)"
   ]
  },
  {
   "cell_type": "code",
   "execution_count": 12,
   "id": "ba226516-0063-4d1e-9850-3d298b684405",
   "metadata": {},
   "outputs": [
    {
     "data": {
      "text/plain": [
       "9"
      ]
     },
     "execution_count": 12,
     "metadata": {},
     "output_type": "execute_result"
    }
   ],
   "source": [
    "#check the size of the variable A3.\n",
    "A3.size"
   ]
  },
  {
   "cell_type": "code",
   "execution_count": 13,
   "id": "6835a48e-c2ad-4eff-a83e-5a1595948d62",
   "metadata": {},
   "outputs": [
    {
     "data": {
      "text/plain": [
       "(1, 3, 3)"
      ]
     },
     "execution_count": 13,
     "metadata": {},
     "output_type": "execute_result"
    }
   ],
   "source": [
    "#check the size of the variable A3.\n",
    "A3.shape"
   ]
  },
  {
   "cell_type": "code",
   "execution_count": 14,
   "id": "be937f6f-7bb6-41a3-b66d-fbf3b5d1214b",
   "metadata": {},
   "outputs": [
    {
     "data": {
      "text/plain": [
       "numpy.ndarray"
      ]
     },
     "execution_count": 14,
     "metadata": {},
     "output_type": "execute_result"
    }
   ],
   "source": [
    "#check the type of the variabe A3.\n",
    "type(A3)"
   ]
  },
  {
   "cell_type": "markdown",
   "id": "e1c2e7ba-53cc-4302-968e-033c6f95d61c",
   "metadata": {},
   "source": [
    "<span style=\"font-size:larger ; background-color:#333333; color:white\">Numpy - Zeros Array</span>\n",
    "\n",
    "<span style=\"font-size:medium; background-color:#333333; color:white\">ZA = np.zeros(shape, dtype)</span>\n",
    "\n",
    "<span style=\"font-size:small; background-color:#333333; color:white\">\n",
    "- We can define the shape and data-type of zeros array..<br>\n",
    "- We can create 1-D, 2-D, as well as 3-D zeros array.<br>\n",
    "- The default data-type is float.\n",
    "</span>\n"
   ]
  },
  {
   "cell_type": "code",
   "execution_count": 50,
   "id": "6c5a453d-b6ba-4475-8e5b-d4040a06eef5",
   "metadata": {},
   "outputs": [
    {
     "data": {
      "text/plain": [
       "array([0., 0., 0.])"
      ]
     },
     "execution_count": 50,
     "metadata": {},
     "output_type": "execute_result"
    }
   ],
   "source": [
    "# Create a zeros array of 1 dimension.\n",
    "Z1 = np.zeros(3)    \n",
    "Z1"
   ]
  },
  {
   "cell_type": "code",
   "execution_count": 52,
   "id": "20885ce5-447e-488b-9618-0cf95ad75e8a",
   "metadata": {},
   "outputs": [
    {
     "data": {
      "text/plain": [
       "array([0, 0, 0, 0, 0, 0, 0, 0, 0, 0, 0, 0, 0, 0, 0])"
      ]
     },
     "execution_count": 52,
     "metadata": {},
     "output_type": "execute_result"
    }
   ],
   "source": [
    "#Create a zeros array of 1 dimension with data type as intgeger.\n",
    "Z2 = np.zeros(15, dtype = int)\n",
    "Z2"
   ]
  },
  {
   "cell_type": "code",
   "execution_count": 53,
   "id": "de85ab47-08e9-443e-95ba-10e085bfd878",
   "metadata": {},
   "outputs": [
    {
     "data": {
      "text/plain": [
       "numpy.ndarray"
      ]
     },
     "execution_count": 53,
     "metadata": {},
     "output_type": "execute_result"
    }
   ],
   "source": [
    "#check the type.\n",
    "type(Z2)"
   ]
  },
  {
   "cell_type": "code",
   "execution_count": 54,
   "id": "191000ab-ea77-406b-a4a1-4c530cd19ae2",
   "metadata": {},
   "outputs": [
    {
     "data": {
      "text/plain": [
       "1"
      ]
     },
     "execution_count": 54,
     "metadata": {},
     "output_type": "execute_result"
    }
   ],
   "source": [
    "#check the dimension.\n",
    "np.ndim(Z2)"
   ]
  },
  {
   "cell_type": "code",
   "execution_count": 64,
   "id": "43b1ea32-6055-42a0-9dee-6fa517a4eaa8",
   "metadata": {},
   "outputs": [
    {
     "data": {
      "text/plain": [
       "array([[0., 0., 0., 0.],\n",
       "       [0., 0., 0., 0.],\n",
       "       [0., 0., 0., 0.]])"
      ]
     },
     "execution_count": 64,
     "metadata": {},
     "output_type": "execute_result"
    }
   ],
   "source": [
    "#create a zeros array of 2 dimensions\n",
    "Z3 = np.zeros((3,4))\n",
    "Z3"
   ]
  },
  {
   "cell_type": "code",
   "execution_count": 68,
   "id": "d28c491f-ae32-4cc9-ab50-54d6f63c05f3",
   "metadata": {},
   "outputs": [
    {
     "data": {
      "text/plain": [
       "array([[0, 0, 0, 0],\n",
       "       [0, 0, 0, 0],\n",
       "       [0, 0, 0, 0]])"
      ]
     },
     "execution_count": 68,
     "metadata": {},
     "output_type": "execute_result"
    }
   ],
   "source": [
    "#create a zeros arrayof 2 dimensions.\n",
    "Z4 = np.zeros((3,4), dtype=int)\n",
    "Z4"
   ]
  },
  {
   "cell_type": "code",
   "execution_count": 78,
   "id": "70e14e3a-93b5-4831-a16c-212a921c69f4",
   "metadata": {},
   "outputs": [
    {
     "data": {
      "text/plain": [
       "(3, 4)"
      ]
     },
     "execution_count": 78,
     "metadata": {},
     "output_type": "execute_result"
    }
   ],
   "source": [
    "#check the shape \n",
    "Z4.shape"
   ]
  },
  {
   "cell_type": "code",
   "execution_count": 71,
   "id": "936b92e6-7261-4370-8ade-8844ac03516d",
   "metadata": {},
   "outputs": [
    {
     "data": {
      "text/plain": [
       "array([[[0., 0., 0., 0.],\n",
       "        [0., 0., 0., 0.],\n",
       "        [0., 0., 0., 0.]],\n",
       "\n",
       "       [[0., 0., 0., 0.],\n",
       "        [0., 0., 0., 0.],\n",
       "        [0., 0., 0., 0.]]])"
      ]
     },
     "execution_count": 71,
     "metadata": {},
     "output_type": "execute_result"
    }
   ],
   "source": [
    "#create a zeros array of 3 dimensions.\n",
    "np.zeros((2,3,4))"
   ]
  },
  {
   "cell_type": "code",
   "execution_count": 82,
   "id": "e5f126b8-03a3-457a-b813-815e322fc82f",
   "metadata": {},
   "outputs": [
    {
     "data": {
      "text/plain": [
       "array([[[0, 0, 0],\n",
       "        [0, 0, 0],\n",
       "        [0, 0, 0]],\n",
       "\n",
       "       [[0, 0, 0],\n",
       "        [0, 0, 0],\n",
       "        [0, 0, 0]],\n",
       "\n",
       "       [[0, 0, 0],\n",
       "        [0, 0, 0],\n",
       "        [0, 0, 0]]])"
      ]
     },
     "execution_count": 82,
     "metadata": {},
     "output_type": "execute_result"
    }
   ],
   "source": [
    "#create a zeros array of 3 dimensions with data type as integer.\n",
    "Z5 = np.zeros((3,3,3), dtype=int)\n",
    "Z5"
   ]
  },
  {
   "cell_type": "code",
   "execution_count": 83,
   "id": "87c3783e-a71b-4cb6-898d-eb05fb3c2c0a",
   "metadata": {},
   "outputs": [
    {
     "data": {
      "text/plain": [
       "3"
      ]
     },
     "execution_count": 83,
     "metadata": {},
     "output_type": "execute_result"
    }
   ],
   "source": [
    "#check the dimensions\n",
    "Z5.ndim"
   ]
  },
  {
   "cell_type": "code",
   "execution_count": 84,
   "id": "2d04d981-a262-4a35-8b25-402bc24e9e39",
   "metadata": {},
   "outputs": [
    {
     "data": {
      "text/plain": [
       "27"
      ]
     },
     "execution_count": 84,
     "metadata": {},
     "output_type": "execute_result"
    }
   ],
   "source": [
    "#check the size \n",
    "Z5.size"
   ]
  },
  {
   "cell_type": "markdown",
   "id": "68745148-9662-4052-9dd6-4414b9233dcb",
   "metadata": {},
   "source": [
    "<span style=\"font-size:larger ; background-color:#333333; color:white\">Numpy - Ones Array</span>\n",
    "\n",
    "<span style=\"font-size:medium; background-color:#333333; color:white\">ZA = np.Ones(shape, dtype)</span>\n",
    "\n",
    "<span style=\"font-size:small; background-color:#333333; color:white\">\n",
    "- We can define the shape and data-type of zeros array..<br>\n",
    "- We can create 1-D, 2-D, as well as 3-D zeros array.<br>\n",
    "- The default data-type is float.\n",
    "</span>\n"
   ]
  },
  {
   "cell_type": "code",
   "execution_count": 88,
   "id": "d34c7080-ee24-49e4-9ef8-f760c846884f",
   "metadata": {},
   "outputs": [
    {
     "data": {
      "text/plain": [
       "array([1., 1., 1.])"
      ]
     },
     "execution_count": 88,
     "metadata": {},
     "output_type": "execute_result"
    }
   ],
   "source": [
    "# Create a Ones array of 1 dimension.\n",
    "B1 = np.ones(3)    \n",
    "B1"
   ]
  },
  {
   "cell_type": "code",
   "execution_count": 91,
   "id": "410ba9a8-de6b-42d0-97a9-c62a3ba50ac1",
   "metadata": {},
   "outputs": [
    {
     "data": {
      "text/plain": [
       "array([1, 1, 1, 1, 1])"
      ]
     },
     "execution_count": 91,
     "metadata": {},
     "output_type": "execute_result"
    }
   ],
   "source": [
    "#Create a Ones array of 1 dimension with data type as intgeger.\n",
    "B2 = np.ones(5, dtype = int)\n",
    "B2"
   ]
  },
  {
   "cell_type": "code",
   "execution_count": 90,
   "id": "0a022c4a-4187-422c-8820-91a67f9a43cb",
   "metadata": {},
   "outputs": [
    {
     "data": {
      "text/plain": [
       "numpy.ndarray"
      ]
     },
     "execution_count": 90,
     "metadata": {},
     "output_type": "execute_result"
    }
   ],
   "source": [
    "#check the type.\n",
    "type(B2)"
   ]
  },
  {
   "cell_type": "code",
   "execution_count": 92,
   "id": "207b0ea6-3528-4618-b2fb-2e39e0daecf4",
   "metadata": {},
   "outputs": [
    {
     "data": {
      "text/plain": [
       "1"
      ]
     },
     "execution_count": 92,
     "metadata": {},
     "output_type": "execute_result"
    }
   ],
   "source": [
    "#check the dimension.\n",
    "np.ndim(B2)"
   ]
  },
  {
   "cell_type": "code",
   "execution_count": 94,
   "id": "e8088524-847a-44a9-87b3-e374d3127935",
   "metadata": {},
   "outputs": [
    {
     "data": {
      "text/plain": [
       "array([[1., 1., 1., 1.],\n",
       "       [1., 1., 1., 1.],\n",
       "       [1., 1., 1., 1.]])"
      ]
     },
     "execution_count": 94,
     "metadata": {},
     "output_type": "execute_result"
    }
   ],
   "source": [
    "#create a Ones array of 2 dimensions\n",
    "B3 = np.ones((3,4))\n",
    "B3"
   ]
  },
  {
   "cell_type": "code",
   "execution_count": 95,
   "id": "083dc8c0-a75a-49f9-a157-d913595a5a9b",
   "metadata": {},
   "outputs": [
    {
     "data": {
      "text/plain": [
       "array([[1, 1, 1, 1],\n",
       "       [1, 1, 1, 1],\n",
       "       [1, 1, 1, 1]])"
      ]
     },
     "execution_count": 95,
     "metadata": {},
     "output_type": "execute_result"
    }
   ],
   "source": [
    "#create a Ones arrayof 2 dimensions.\n",
    "B4 = np.ones((3,4), dtype=int)\n",
    "B4"
   ]
  },
  {
   "cell_type": "code",
   "execution_count": 96,
   "id": "0fa4b8c0-e23d-4e0f-b366-0cb6e263c816",
   "metadata": {},
   "outputs": [
    {
     "data": {
      "text/plain": [
       "(3, 4)"
      ]
     },
     "execution_count": 96,
     "metadata": {},
     "output_type": "execute_result"
    }
   ],
   "source": [
    "#check the shape \n",
    "B4.shape"
   ]
  },
  {
   "cell_type": "code",
   "execution_count": 101,
   "id": "3981d1d5-9e11-418f-96b8-0eedef759528",
   "metadata": {},
   "outputs": [
    {
     "data": {
      "text/plain": [
       "array([[[1., 1., 1., 1.],\n",
       "        [1., 1., 1., 1.],\n",
       "        [1., 1., 1., 1.]],\n",
       "\n",
       "       [[1., 1., 1., 1.],\n",
       "        [1., 1., 1., 1.],\n",
       "        [1., 1., 1., 1.]]])"
      ]
     },
     "execution_count": 101,
     "metadata": {},
     "output_type": "execute_result"
    }
   ],
   "source": [
    "#create a Ones array of 3 dimensions.\n",
    "np.ones((2,3,4))"
   ]
  },
  {
   "cell_type": "code",
   "execution_count": 100,
   "id": "202cd33f-8f29-44e4-92ee-0174c15337c7",
   "metadata": {},
   "outputs": [
    {
     "data": {
      "text/plain": [
       "array([[[1, 1, 1],\n",
       "        [1, 1, 1],\n",
       "        [1, 1, 1]],\n",
       "\n",
       "       [[1, 1, 1],\n",
       "        [1, 1, 1],\n",
       "        [1, 1, 1]],\n",
       "\n",
       "       [[1, 1, 1],\n",
       "        [1, 1, 1],\n",
       "        [1, 1, 1]]])"
      ]
     },
     "execution_count": 100,
     "metadata": {},
     "output_type": "execute_result"
    }
   ],
   "source": [
    "#create a Ones array of 3 dimensions with data type as integer.\n",
    "B5 = np.ones((3,3,3), dtype=int)\n",
    "B5"
   ]
  },
  {
   "cell_type": "code",
   "execution_count": 102,
   "id": "a3fc2602-6b5d-4cca-bc22-79a33856703d",
   "metadata": {},
   "outputs": [
    {
     "data": {
      "text/plain": [
       "3"
      ]
     },
     "execution_count": 102,
     "metadata": {},
     "output_type": "execute_result"
    }
   ],
   "source": [
    "#check the dimensions\n",
    "B5.ndim"
   ]
  },
  {
   "cell_type": "code",
   "execution_count": 103,
   "id": "347e14ed-c67e-4e83-a302-590ef3545c29",
   "metadata": {},
   "outputs": [
    {
     "data": {
      "text/plain": [
       "27"
      ]
     },
     "execution_count": 103,
     "metadata": {},
     "output_type": "execute_result"
    }
   ],
   "source": [
    "#check the size \n",
    "B5.size"
   ]
  },
  {
   "cell_type": "code",
   "execution_count": null,
   "id": "39dbf14e-dec4-4a14-ad69-b1a54f784ffc",
   "metadata": {},
   "outputs": [],
   "source": []
  },
  {
   "cell_type": "code",
   "execution_count": null,
   "id": "b3a51dd8-b6f6-489f-88cc-5c302d2ec5f3",
   "metadata": {},
   "outputs": [],
   "source": []
  },
  {
   "cell_type": "code",
   "execution_count": null,
   "id": "e0a78d18-1f78-4271-be79-54efa2ec83c1",
   "metadata": {},
   "outputs": [],
   "source": []
  },
  {
   "cell_type": "code",
   "execution_count": null,
   "id": "25395100-eed3-4031-9fce-e145acdd5a16",
   "metadata": {},
   "outputs": [],
   "source": []
  },
  {
   "cell_type": "code",
   "execution_count": null,
   "id": "49f2b80e-067f-49f2-89b5-74267f6bba5e",
   "metadata": {},
   "outputs": [],
   "source": []
  },
  {
   "cell_type": "code",
   "execution_count": null,
   "id": "fca6c64e-ac57-45b5-88e7-d896e64690a3",
   "metadata": {},
   "outputs": [],
   "source": []
  }
 ],
 "metadata": {
  "kernelspec": {
   "display_name": "Python 3 (ipykernel)",
   "language": "python",
   "name": "python3"
  },
  "language_info": {
   "codemirror_mode": {
    "name": "ipython",
    "version": 3
   },
   "file_extension": ".py",
   "mimetype": "text/x-python",
   "name": "python",
   "nbconvert_exporter": "python",
   "pygments_lexer": "ipython3",
   "version": "3.10.13"
  }
 },
 "nbformat": 4,
 "nbformat_minor": 5
}
