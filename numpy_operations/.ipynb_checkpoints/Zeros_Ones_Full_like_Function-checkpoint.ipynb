{
 "cells": [
  {
   "cell_type": "markdown",
   "id": "80c81227-046a-487b-9540-5be79095b335",
   "metadata": {},
   "source": [
    "<span style='font-size:larger'>Zeros like, Ones like, Full like Array</span><br>"
   ]
  },
  {
   "cell_type": "code",
   "execution_count": 56,
   "id": "46b6fe4d-551b-4edd-ac7a-3ff351a4d10a",
   "metadata": {},
   "outputs": [],
   "source": [
    "#to import Numpy library\n",
    "import numpy as np"
   ]
  },
  {
   "cell_type": "code",
   "execution_count": 57,
   "id": "a80b79e2-dea0-4c57-8e58-05613167ee8a",
   "metadata": {},
   "outputs": [],
   "source": [
    "#to import random module from numpy library\n",
    "from numpy import random"
   ]
  },
  {
   "cell_type": "markdown",
   "id": "451ca954-2f64-4040-bb80-f188f7cdd888",
   "metadata": {},
   "source": [
    "<span style='font-size:medium;background:#333333; color:white'>Ones Like array</span><br>"
   ]
  },
  {
   "cell_type": "markdown",
   "id": "f90c8099-719f-4e23-9efa-7e9ea5e788ce",
   "metadata": {},
   "source": [
    "<span style='font-size:medium'>Ones Like Array - it returns an array of ones, with same shape & type as of the given array.</span><br>\n",
    "<span stype='font-size:medium'>Syntax:</span><br>\n",
    "np.ones_like(array,dtype)<br>"
   ]
  },
  {
   "cell_type": "code",
   "execution_count": 58,
   "id": "23e2cf0d-e379-44fc-997a-3f3c03704c56",
   "metadata": {},
   "outputs": [],
   "source": [
    "#creating a 1-D array\n",
    "a = np.array([21,52,93])"
   ]
  },
  {
   "cell_type": "code",
   "execution_count": 59,
   "id": "9747d038-44cd-45e2-93ce-d5fc9ea4035d",
   "metadata": {},
   "outputs": [],
   "source": [
    "#creating an ones array, from array a\n",
    "b = np.ones_like(a)"
   ]
  },
  {
   "cell_type": "code",
   "execution_count": 60,
   "id": "008e6f04-664e-4eb0-9d22-6216a0fae17c",
   "metadata": {},
   "outputs": [
    {
     "data": {
      "text/plain": [
       "array([1, 1, 1])"
      ]
     },
     "execution_count": 60,
     "metadata": {},
     "output_type": "execute_result"
    }
   ],
   "source": [
    "b"
   ]
  },
  {
   "cell_type": "code",
   "execution_count": 61,
   "id": "a36456ba-9326-4468-88ce-0b18812a13c3",
   "metadata": {},
   "outputs": [],
   "source": [
    "#creating a 2-D Random array of shape 3x4\n",
    "a1 = np.random.random((3,4))"
   ]
  },
  {
   "cell_type": "code",
   "execution_count": 62,
   "id": "f0e53908-f94c-4e5d-b810-fc0e9d97bd66",
   "metadata": {},
   "outputs": [
    {
     "data": {
      "text/plain": [
       "array([[0.28028715, 0.01911937, 0.02783875, 0.72373474],\n",
       "       [0.23812294, 0.72036431, 0.08829727, 0.36447823],\n",
       "       [0.16218269, 0.21545772, 0.55087399, 0.51638094]])"
      ]
     },
     "execution_count": 62,
     "metadata": {},
     "output_type": "execute_result"
    }
   ],
   "source": [
    "a1"
   ]
  },
  {
   "cell_type": "code",
   "execution_count": 63,
   "id": "6045c2d2-c3a3-42c3-bb90-2eb4dfb0ed01",
   "metadata": {},
   "outputs": [],
   "source": [
    "#creating an ones array, from array a1\n",
    "b2 = np.ones_like(a1)"
   ]
  },
  {
   "cell_type": "code",
   "execution_count": 64,
   "id": "b002f9e5-db91-4c5b-9f7d-90df36c948df",
   "metadata": {},
   "outputs": [
    {
     "data": {
      "text/plain": [
       "array([[1., 1., 1., 1.],\n",
       "       [1., 1., 1., 1.],\n",
       "       [1., 1., 1., 1.]])"
      ]
     },
     "execution_count": 64,
     "metadata": {},
     "output_type": "execute_result"
    }
   ],
   "source": [
    "b2"
   ]
  },
  {
   "cell_type": "code",
   "execution_count": 65,
   "id": "5c7260cf-6e1e-46ad-a557-74e42687d213",
   "metadata": {},
   "outputs": [],
   "source": [
    "#creating an Ones array of integer datatype, from array a1\n",
    "b3 = np.ones_like(a1,dtype=int)"
   ]
  },
  {
   "cell_type": "code",
   "execution_count": 66,
   "id": "d47a8b11-fab8-411a-b7b0-6199825d0cdd",
   "metadata": {},
   "outputs": [
    {
     "data": {
      "text/plain": [
       "array([[1, 1, 1, 1],\n",
       "       [1, 1, 1, 1],\n",
       "       [1, 1, 1, 1]])"
      ]
     },
     "execution_count": 66,
     "metadata": {},
     "output_type": "execute_result"
    }
   ],
   "source": [
    "b3"
   ]
  },
  {
   "cell_type": "markdown",
   "id": "0790c008-6358-48a5-a043-e2f470e2ad57",
   "metadata": {},
   "source": [
    "--------------------------------------------------------------------------------------------------------------------------"
   ]
  },
  {
   "cell_type": "markdown",
   "id": "5393dab7-276e-4855-b2f0-f7d8024f9a7e",
   "metadata": {},
   "source": [
    "<span style ='font-size:medium'>Zeros Like Array- It returns an array of zeros, with the same shape & type as of the given array.</span><br>\n",
    "Syntax:<br>\n",
    "np.zeros_like(array,dtype)"
   ]
  },
  {
   "cell_type": "code",
   "execution_count": 67,
   "id": "52a43abc-eddf-429d-aabf-1d5421b5137e",
   "metadata": {},
   "outputs": [
    {
     "data": {
      "text/plain": [
       "array([21, 52, 93])"
      ]
     },
     "execution_count": 67,
     "metadata": {},
     "output_type": "execute_result"
    }
   ],
   "source": [
    "#array\n",
    "a"
   ]
  },
  {
   "cell_type": "code",
   "execution_count": 68,
   "id": "e7cf3965-eff0-4f42-a924-d6f590583d83",
   "metadata": {},
   "outputs": [],
   "source": [
    "#creating a zeros array, form array a\n",
    "z = np.zeros_like(a)"
   ]
  },
  {
   "cell_type": "code",
   "execution_count": 69,
   "id": "a2229484-c2f6-437a-a178-611bb7eb4b8d",
   "metadata": {},
   "outputs": [
    {
     "data": {
      "text/plain": [
       "array([0, 0, 0])"
      ]
     },
     "execution_count": 69,
     "metadata": {},
     "output_type": "execute_result"
    }
   ],
   "source": [
    "z"
   ]
  },
  {
   "cell_type": "code",
   "execution_count": 70,
   "id": "39601d9c-3324-4efa-a449-bc95a6292eb9",
   "metadata": {},
   "outputs": [],
   "source": [
    "#creating a 2-D Random array of shape 5x2\n",
    "z1 = np.random.random((5,2))"
   ]
  },
  {
   "cell_type": "code",
   "execution_count": 71,
   "id": "a27d51f3-25c5-4fb0-9bde-4d3e3668ce69",
   "metadata": {},
   "outputs": [
    {
     "data": {
      "text/plain": [
       "array([[0.34491935, 0.33592365],\n",
       "       [0.50935363, 0.41044537],\n",
       "       [0.36059374, 0.964276  ],\n",
       "       [0.18952063, 0.31526386],\n",
       "       [0.14344684, 0.13485044]])"
      ]
     },
     "execution_count": 71,
     "metadata": {},
     "output_type": "execute_result"
    }
   ],
   "source": [
    "z1"
   ]
  },
  {
   "cell_type": "code",
   "execution_count": 72,
   "id": "b063e345-38df-4b94-aaa4-4de9a353d22d",
   "metadata": {},
   "outputs": [],
   "source": [
    "#creating a zeros array, from array z1\n",
    "u = np.zeros_like(z1)"
   ]
  },
  {
   "cell_type": "code",
   "execution_count": 73,
   "id": "8841231a-fa59-488c-8b04-45f66146e957",
   "metadata": {},
   "outputs": [
    {
     "data": {
      "text/plain": [
       "array([[0., 0.],\n",
       "       [0., 0.],\n",
       "       [0., 0.],\n",
       "       [0., 0.],\n",
       "       [0., 0.]])"
      ]
     },
     "execution_count": 73,
     "metadata": {},
     "output_type": "execute_result"
    }
   ],
   "source": [
    "u"
   ]
  },
  {
   "cell_type": "markdown",
   "id": "600c265c-3939-49bf-ab4e-d2c24fb5bc58",
   "metadata": {},
   "source": [
    "---"
   ]
  },
  {
   "cell_type": "markdown",
   "id": "c85de3fa-2e66-4da8-9200-8f997e660d29",
   "metadata": {},
   "source": [
    "<span style ='font-size:medium'>Full Like Array- It returns a array of constant element with the same shape & type as of the given array.</span><br>\n",
    "Syntax:<br>\n",
    "np.full_like(array, fill_value,dtype)"
   ]
  },
  {
   "cell_type": "code",
   "execution_count": 74,
   "id": "d24563f5-0793-4340-b772-5ea1ff095a94",
   "metadata": {},
   "outputs": [
    {
     "data": {
      "text/plain": [
       "array([21, 52, 93])"
      ]
     },
     "execution_count": 74,
     "metadata": {},
     "output_type": "execute_result"
    }
   ],
   "source": [
    "#array\n",
    "a"
   ]
  },
  {
   "cell_type": "code",
   "execution_count": 75,
   "id": "99ab70b9-2965-4c50-b4e8-b045118a24f9",
   "metadata": {},
   "outputs": [],
   "source": [
    "#creating a full array of 7, from array a\n",
    "y = np.full_like(a,7)"
   ]
  },
  {
   "cell_type": "code",
   "execution_count": 76,
   "id": "a9867a28-3538-4122-9cdb-1c35f661575f",
   "metadata": {},
   "outputs": [
    {
     "data": {
      "text/plain": [
       "array([7, 7, 7])"
      ]
     },
     "execution_count": 76,
     "metadata": {},
     "output_type": "execute_result"
    }
   ],
   "source": [
    "y"
   ]
  },
  {
   "cell_type": "code",
   "execution_count": 77,
   "id": "2e992069-e8fb-4767-890f-7eae48d7e88c",
   "metadata": {},
   "outputs": [],
   "source": [
    "#creating a 3-D Random arrray of shape 2x3x4\n",
    "y1 = np.random.random((2,3,4))"
   ]
  },
  {
   "cell_type": "code",
   "execution_count": 78,
   "id": "4284de71-b9c8-4164-80c3-e5f80311d7fe",
   "metadata": {},
   "outputs": [
    {
     "data": {
      "text/plain": [
       "array([[[0.87586274, 0.41900288, 0.46494338, 0.63998166],\n",
       "        [0.8447403 , 0.84928397, 0.85172661, 0.64191014],\n",
       "        [0.74510505, 0.58022417, 0.02710296, 0.93060056]],\n",
       "\n",
       "       [[0.23640768, 0.45664301, 0.9400139 , 0.77842029],\n",
       "        [0.26688142, 0.58464407, 0.17095513, 0.1359986 ],\n",
       "        [0.7862607 , 0.2527392 , 0.72591741, 0.25303431]]])"
      ]
     },
     "execution_count": 78,
     "metadata": {},
     "output_type": "execute_result"
    }
   ],
   "source": [
    "y1"
   ]
  },
  {
   "cell_type": "code",
   "execution_count": 79,
   "id": "7c9c48a4-0b35-4f1a-bab5-c2c10271a75b",
   "metadata": {},
   "outputs": [
    {
     "data": {
      "text/plain": [
       "array([[[71., 71., 71., 71.],\n",
       "        [71., 71., 71., 71.],\n",
       "        [71., 71., 71., 71.]],\n",
       "\n",
       "       [[71., 71., 71., 71.],\n",
       "        [71., 71., 71., 71.],\n",
       "        [71., 71., 71., 71.]]])"
      ]
     },
     "execution_count": 79,
     "metadata": {},
     "output_type": "execute_result"
    }
   ],
   "source": [
    "#creating a full array of 71 from array y1\n",
    "np.full_like(y1,71)"
   ]
  },
  {
   "cell_type": "code",
   "execution_count": 80,
   "id": "a5cff676-d8aa-4138-9f92-396983462356",
   "metadata": {},
   "outputs": [
    {
     "data": {
      "text/plain": [
       "array([[[-71, -71, -71, -71],\n",
       "        [-71, -71, -71, -71],\n",
       "        [-71, -71, -71, -71]],\n",
       "\n",
       "       [[-71, -71, -71, -71],\n",
       "        [-71, -71, -71, -71],\n",
       "        [-71, -71, -71, -71]]])"
      ]
     },
     "execution_count": 80,
     "metadata": {},
     "output_type": "execute_result"
    }
   ],
   "source": [
    "#creating a full array -71 of integer datatype, from array y1\n",
    "np.full_like(y1,-71,dtype=int)"
   ]
  }
 ],
 "metadata": {
  "kernelspec": {
   "display_name": "Python 3 (ipykernel)",
   "language": "python",
   "name": "python3"
  },
  "language_info": {
   "codemirror_mode": {
    "name": "ipython",
    "version": 3
   },
   "file_extension": ".py",
   "mimetype": "text/x-python",
   "name": "python",
   "nbconvert_exporter": "python",
   "pygments_lexer": "ipython3",
   "version": "3.10.13"
  }
 },
 "nbformat": 4,
 "nbformat_minor": 5
}
