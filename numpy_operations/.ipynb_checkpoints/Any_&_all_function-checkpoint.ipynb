{
 "cells": [
  {
   "cell_type": "markdown",
   "id": "5039d882-9a4e-493e-b2fe-34f7024a6060",
   "metadata": {},
   "source": [
    "<span style=\"font-size:larger;background:#333333;color:white\">__Any & all Functions__</span><br>\n",
    "<span style='font-size:medium'>These functions works on comparision basis.<br>\n",
    "Any function - It returns True, if any element satisfy the given condition. It uses logical OR operator.<br>\n",
    "</span>"
   ]
  },
  {
   "cell_type": "markdown",
   "id": "b918c936-9dde-40b8-9670-4198d0bee29e",
   "metadata": {},
   "source": [
    "<span style='font-size:medium'>**syntax:**</span><br>\n",
    "np.any(condition)"
   ]
  },
  {
   "cell_type": "code",
   "execution_count": 3,
   "id": "1eae9150-af03-4208-a00b-593b0cd5ce7c",
   "metadata": {},
   "outputs": [],
   "source": [
    "import numpy as np"
   ]
  },
  {
   "cell_type": "code",
   "execution_count": 4,
   "id": "e25d11f7-33d1-4386-b3a3-a2446ba35211",
   "metadata": {},
   "outputs": [],
   "source": [
    "from numpy import random"
   ]
  },
  {
   "cell_type": "code",
   "execution_count": 8,
   "id": "345f2657-fd44-46f4-85ad-489bd90c7fe0",
   "metadata": {},
   "outputs": [],
   "source": [
    "x = np.random.randint(10,1000,15)"
   ]
  },
  {
   "cell_type": "code",
   "execution_count": 9,
   "id": "3d3a60b0-a8fb-49f6-9d4f-389942d88603",
   "metadata": {},
   "outputs": [
    {
     "data": {
      "text/plain": [
       "array([300,  78, 729, 243, 130, 263, 699, 301, 368, 479,  62,  41, 935,\n",
       "       590, 972])"
      ]
     },
     "execution_count": 9,
     "metadata": {},
     "output_type": "execute_result"
    }
   ],
   "source": [
    "x"
   ]
  },
  {
   "cell_type": "code",
   "execution_count": 10,
   "id": "562ff040-e6ee-46a6-8397-1d8ebac5e3f5",
   "metadata": {},
   "outputs": [
    {
     "data": {
      "text/plain": [
       "False"
      ]
     },
     "execution_count": 10,
     "metadata": {},
     "output_type": "execute_result"
    }
   ],
   "source": [
    "np.any(x==500)"
   ]
  },
  {
   "cell_type": "code",
   "execution_count": 12,
   "id": "10bf5bc6-cdf3-4e8f-a0b2-12e7c3ea594b",
   "metadata": {},
   "outputs": [
    {
     "data": {
      "text/plain": [
       "True"
      ]
     },
     "execution_count": 12,
     "metadata": {},
     "output_type": "execute_result"
    }
   ],
   "source": [
    "np.any(x==729)"
   ]
  },
  {
   "cell_type": "code",
   "execution_count": 13,
   "id": "70d18bfb-7c53-4cc7-b14b-4aa2945e71c0",
   "metadata": {},
   "outputs": [
    {
     "data": {
      "text/plain": [
       "True"
      ]
     },
     "execution_count": 13,
     "metadata": {},
     "output_type": "execute_result"
    }
   ],
   "source": [
    "np.any(x<100)"
   ]
  },
  {
   "cell_type": "code",
   "execution_count": 14,
   "id": "c31d411f-59aa-4e62-98c5-f526023b0955",
   "metadata": {},
   "outputs": [
    {
     "data": {
      "text/plain": [
       "False"
      ]
     },
     "execution_count": 14,
     "metadata": {},
     "output_type": "execute_result"
    }
   ],
   "source": [
    "np.any(x>1000)"
   ]
  },
  {
   "cell_type": "code",
   "execution_count": 15,
   "id": "70d7dd0c-ab7d-48cd-889f-1533157b297e",
   "metadata": {},
   "outputs": [
    {
     "data": {
      "text/plain": [
       "False"
      ]
     },
     "execution_count": 15,
     "metadata": {},
     "output_type": "execute_result"
    }
   ],
   "source": [
    "np.any(x<=1)"
   ]
  },
  {
   "cell_type": "markdown",
   "id": "79996b57-eb7c-4ef5-bb47-03aa81814b38",
   "metadata": {},
   "source": [
    "---"
   ]
  },
  {
   "cell_type": "code",
   "execution_count": 16,
   "id": "1377944c-d984-451a-be4b-a0ad0f03b2ff",
   "metadata": {},
   "outputs": [
    {
     "data": {
      "text/plain": [
       "False"
      ]
     },
     "execution_count": 16,
     "metadata": {},
     "output_type": "execute_result"
    }
   ],
   "source": [
    "np.all(x==500)"
   ]
  },
  {
   "cell_type": "code",
   "execution_count": 18,
   "id": "c96e4056-7926-49b1-8b42-af1a3e6f6caa",
   "metadata": {},
   "outputs": [
    {
     "data": {
      "text/plain": [
       "True"
      ]
     },
     "execution_count": 18,
     "metadata": {},
     "output_type": "execute_result"
    }
   ],
   "source": [
    "np.all(x<1000)"
   ]
  },
  {
   "cell_type": "code",
   "execution_count": 20,
   "id": "c1003029-d235-4e44-ab06-761636e5f94c",
   "metadata": {},
   "outputs": [
    {
     "data": {
      "text/plain": [
       "False"
      ]
     },
     "execution_count": 20,
     "metadata": {},
     "output_type": "execute_result"
    }
   ],
   "source": [
    "np.all(x>1000)"
   ]
  },
  {
   "cell_type": "code",
   "execution_count": 21,
   "id": "4507e27a-25ab-4793-afa3-34b12f9abe8f",
   "metadata": {},
   "outputs": [
    {
     "data": {
      "text/plain": [
       "False"
      ]
     },
     "execution_count": 21,
     "metadata": {},
     "output_type": "execute_result"
    }
   ],
   "source": [
    "np.all(x<500)"
   ]
  },
  {
   "cell_type": "code",
   "execution_count": 22,
   "id": "5d46d5c6-8b63-4101-86eb-4d32c0cc01cc",
   "metadata": {},
   "outputs": [
    {
     "data": {
      "text/plain": [
       "False"
      ]
     },
     "execution_count": 22,
     "metadata": {},
     "output_type": "execute_result"
    }
   ],
   "source": [
    "np.all(x>300)"
   ]
  },
  {
   "cell_type": "markdown",
   "id": "da354d11-2bba-4126-a0f2-4728adfaae9e",
   "metadata": {},
   "source": [
    "---"
   ]
  }
 ],
 "metadata": {
  "kernelspec": {
   "display_name": "Python 3 (ipykernel)",
   "language": "python",
   "name": "python3"
  },
  "language_info": {
   "codemirror_mode": {
    "name": "ipython",
    "version": 3
   },
   "file_extension": ".py",
   "mimetype": "text/x-python",
   "name": "python",
   "nbconvert_exporter": "python",
   "pygments_lexer": "ipython3",
   "version": "3.10.13"
  }
 },
 "nbformat": 4,
 "nbformat_minor": 5
}
