{
 "cells": [
  {
   "cell_type": "markdown",
   "id": "2a3f4cc8-139e-4516-956d-ab5ad0b456b5",
   "metadata": {},
   "source": [
    "<span style=\"font-size:larger ; background-color:#333333; color:white\">Random Module</span><br>\n",
    "<span style='font-size:small; background-color:#333333; color:white'>-random module contain the function which are used for generating random numbers.</span>"
   ]
  },
  {
   "cell_type": "code",
   "execution_count": 34,
   "id": "3ef47e69-a0cb-4f5d-a800-d3180a090cef",
   "metadata": {},
   "outputs": [],
   "source": [
    "#importing the numpy library\n",
    "import numpy as np"
   ]
  },
  {
   "cell_type": "code",
   "execution_count": 35,
   "id": "43582c77-dfc0-4cba-bec5-d69bc28eb96e",
   "metadata": {},
   "outputs": [],
   "source": [
    "#from numpy library, importing the random module \n",
    "from numpy import random"
   ]
  },
  {
   "cell_type": "markdown",
   "id": "70281a98-37f4-4918-852d-8334509919e2",
   "metadata": {},
   "source": [
    "<span style=\"font-size:larger ;  color:black\">1. Random Function</span><br>\n",
    "It returns random float number(s) between 0 and 1."
   ]
  },
  {
   "cell_type": "code",
   "execution_count": 36,
   "id": "906aab41-b356-4e25-8fa6-93cf4085d028",
   "metadata": {},
   "outputs": [
    {
     "data": {
      "text/plain": [
       "0.7326367378036437"
      ]
     },
     "execution_count": 36,
     "metadata": {},
     "output_type": "execute_result"
    }
   ],
   "source": [
    "np.random.random()"
   ]
  },
  {
   "cell_type": "code",
   "execution_count": 37,
   "id": "b20f31ea-5fcb-4b40-bec3-51e6585b50f7",
   "metadata": {},
   "outputs": [
    {
     "data": {
      "text/plain": [
       "array([0.99150231, 0.71854431, 0.00655163, 0.81194438])"
      ]
     },
     "execution_count": 37,
     "metadata": {},
     "output_type": "execute_result"
    }
   ],
   "source": [
    "np.random.random(4)"
   ]
  },
  {
   "cell_type": "code",
   "execution_count": 38,
   "id": "cb894645-f65e-4e3d-962d-aa3870f423ea",
   "metadata": {},
   "outputs": [
    {
     "data": {
      "text/plain": [
       "array([[0.96197269, 0.04371433, 0.47475187],\n",
       "       [0.20796391, 0.02649573, 0.28614836]])"
      ]
     },
     "execution_count": 38,
     "metadata": {},
     "output_type": "execute_result"
    }
   ],
   "source": [
    "np.random.random((2,3))"
   ]
  },
  {
   "cell_type": "code",
   "execution_count": 39,
   "id": "eef31d54-9146-468e-87e3-47b66e88ab6f",
   "metadata": {},
   "outputs": [
    {
     "data": {
      "text/plain": [
       "array([[[0.25690737, 0.38459285, 0.12567247],\n",
       "        [0.65074711, 0.50563664, 0.58469037],\n",
       "        [0.06987279, 0.83964412, 0.46156504]],\n",
       "\n",
       "       [[0.26786742, 0.62344036, 0.28216714],\n",
       "        [0.5198229 , 0.30351804, 0.75849188],\n",
       "        [0.53160223, 0.34129627, 0.12204524]],\n",
       "\n",
       "       [[0.27413408, 0.19990364, 0.29824398],\n",
       "        [0.01299008, 0.63193204, 0.23138706],\n",
       "        [0.9727004 , 0.63197136, 0.95490215]]])"
      ]
     },
     "execution_count": 39,
     "metadata": {},
     "output_type": "execute_result"
    }
   ],
   "source": [
    "random.random(((3,3,3)))"
   ]
  },
  {
   "cell_type": "code",
   "execution_count": 40,
   "id": "6124db34-3352-458e-93a4-9cea32ebfd49",
   "metadata": {},
   "outputs": [
    {
     "data": {
      "text/plain": [
       "array([[[0.32425086, 0.62132312, 0.64156401, 0.36156064, 0.81130667],\n",
       "        [0.01022639, 0.40298775, 0.49429751, 0.72147882, 0.8446614 ],\n",
       "        [0.5290065 , 0.79122366, 0.12365645, 0.91228068, 0.5823371 ]],\n",
       "\n",
       "       [[0.30728804, 0.7528439 , 0.86346215, 0.52382872, 0.90735895],\n",
       "        [0.99270522, 0.27520938, 0.12033787, 0.26457255, 0.44676408],\n",
       "        [0.71757662, 0.10770792, 0.19424871, 0.71106461, 0.48371708]]])"
      ]
     },
     "execution_count": 40,
     "metadata": {},
     "output_type": "execute_result"
    }
   ],
   "source": [
    "random.random((2,3,5))"
   ]
  },
  {
   "cell_type": "markdown",
   "id": "c6849e2f-b3b2-462f-bed5-bfb98f7d0074",
   "metadata": {},
   "source": [
    "<span style=\"font-size:larger ;  color:black\">2. Randint Function</span><br>\n",
    "-It generates random integer numbers between given range. <br>\n",
    "-By default, the range starts from 0.<br>\n",
    "-The numbers can repeat."
   ]
  },
  {
   "cell_type": "code",
   "execution_count": 41,
   "id": "56d9e7c0-615e-42d5-8ffe-75d8a06feff7",
   "metadata": {},
   "outputs": [
    {
     "data": {
      "text/plain": [
       "11"
      ]
     },
     "execution_count": 41,
     "metadata": {},
     "output_type": "execute_result"
    }
   ],
   "source": [
    "random.randint(2,13)"
   ]
  },
  {
   "cell_type": "code",
   "execution_count": 42,
   "id": "f1452abd-baec-4131-af06-86501bdfc305",
   "metadata": {},
   "outputs": [
    {
     "data": {
      "text/plain": [
       "array([ 8,  6, 13,  6,  9])"
      ]
     },
     "execution_count": 42,
     "metadata": {},
     "output_type": "execute_result"
    }
   ],
   "source": [
    "random.randint(2,20,5)"
   ]
  },
  {
   "cell_type": "code",
   "execution_count": 43,
   "id": "394cf4b3-80f9-43f6-a022-291e6c6878df",
   "metadata": {},
   "outputs": [
    {
     "data": {
      "text/plain": [
       "1"
      ]
     },
     "execution_count": 43,
     "metadata": {},
     "output_type": "execute_result"
    }
   ],
   "source": [
    "random.randint(4)"
   ]
  },
  {
   "cell_type": "markdown",
   "id": "3e943096-b379-485b-8e26-7406bb366716",
   "metadata": {},
   "source": [
    "<span style='font-size:larger ; color:black'>3. Rand Function </span><br>\n",
    "It returns random floar numbers between 0 and 1"
   ]
  },
  {
   "cell_type": "code",
   "execution_count": 44,
   "id": "2d2c5d64-05cb-4ea6-b858-9937ba2b794b",
   "metadata": {},
   "outputs": [
    {
     "data": {
      "text/plain": [
       "0.16626382173374477"
      ]
     },
     "execution_count": 44,
     "metadata": {},
     "output_type": "execute_result"
    }
   ],
   "source": [
    "random.rand()"
   ]
  },
  {
   "cell_type": "code",
   "execution_count": 45,
   "id": "bd01ab4c-93c6-4a08-ba3d-bc14d2a84d5b",
   "metadata": {},
   "outputs": [
    {
     "data": {
      "text/plain": [
       "array([0.61011932, 0.37367438, 0.40043977, 0.22341946])"
      ]
     },
     "execution_count": 45,
     "metadata": {},
     "output_type": "execute_result"
    }
   ],
   "source": [
    "np.random.rand(4)"
   ]
  },
  {
   "cell_type": "code",
   "execution_count": 46,
   "id": "89c9524c-220c-410d-a9f2-d16d8bb1875a",
   "metadata": {},
   "outputs": [
    {
     "data": {
      "text/plain": [
       "array([[0.32198163, 0.99189652, 0.32716964],\n",
       "       [0.48508448, 0.31883439, 0.58188479]])"
      ]
     },
     "execution_count": 46,
     "metadata": {},
     "output_type": "execute_result"
    }
   ],
   "source": [
    "random.rand(2,3)"
   ]
  },
  {
   "cell_type": "code",
   "execution_count": 47,
   "id": "51a26d25-f26a-4ca3-9ca9-60c2b3890da9",
   "metadata": {},
   "outputs": [
    {
     "data": {
      "text/plain": [
       "array([[[0.52490514, 0.28334626, 0.15102944, 0.22713234, 0.92564764],\n",
       "        [0.58902266, 0.67940078, 0.80746542, 0.72827334, 0.54638192],\n",
       "        [0.50246489, 0.77269383, 0.547659  , 0.47193425, 0.63285903]],\n",
       "\n",
       "       [[0.77556946, 0.10717074, 0.75045652, 0.23391043, 0.28080576],\n",
       "        [0.63985147, 0.91024501, 0.94817799, 0.72264366, 0.89152861],\n",
       "        [0.33720147, 0.74244895, 0.09295806, 0.81149528, 0.43039937]]])"
      ]
     },
     "execution_count": 47,
     "metadata": {},
     "output_type": "execute_result"
    }
   ],
   "source": [
    "random.rand(2,3,5)"
   ]
  },
  {
   "cell_type": "markdown",
   "id": "cb23fcac-537d-449e-9728-f9c367c72f2e",
   "metadata": {},
   "source": [
    "<span style='font-size:larger ; color:black'>4. Randn Function </span><br>\n",
    "It returns random float numbers (Positive and negative both) in the form of array."
   ]
  },
  {
   "cell_type": "code",
   "execution_count": 48,
   "id": "f6fe6a7b-1814-4be5-9cac-22076e440b9c",
   "metadata": {},
   "outputs": [
    {
     "data": {
      "text/plain": [
       "array([[[-0.78261858,  1.62369414, -0.89368988],\n",
       "        [ 3.59727546, -0.10072507, -1.58721605]],\n",
       "\n",
       "       [[ 0.1266367 ,  1.48203215, -0.50826379],\n",
       "        [ 0.21507498, -0.2600439 , -1.18142037]],\n",
       "\n",
       "       [[-0.12668983,  1.67095743,  1.90766086],\n",
       "        [ 0.16331341,  0.39574965, -0.2274875 ]],\n",
       "\n",
       "       [[ 0.29626017, -0.30850495,  0.19599564],\n",
       "        [ 0.90721567, -2.37416665,  2.07457182]]])"
      ]
     },
     "execution_count": 48,
     "metadata": {},
     "output_type": "execute_result"
    }
   ],
   "source": [
    "random.randn(4,2,3)"
   ]
  },
  {
   "cell_type": "code",
   "execution_count": 49,
   "id": "58f8dc9c-902b-452e-988a-6ca90cb6a405",
   "metadata": {},
   "outputs": [
    {
     "data": {
      "text/plain": [
       "array([ 0.18648803, -1.33487682,  0.5053688 ,  0.30859223])"
      ]
     },
     "execution_count": 49,
     "metadata": {},
     "output_type": "execute_result"
    }
   ],
   "source": [
    "random.randn(4)"
   ]
  },
  {
   "cell_type": "code",
   "execution_count": 50,
   "id": "97f3185d-f0ac-474b-853c-0a49a8f83e14",
   "metadata": {},
   "outputs": [
    {
     "data": {
      "text/plain": [
       "0.4596682039082476"
      ]
     },
     "execution_count": 50,
     "metadata": {},
     "output_type": "execute_result"
    }
   ],
   "source": [
    "random.randn()"
   ]
  },
  {
   "cell_type": "code",
   "execution_count": 51,
   "id": "d8cd310f-3a14-4264-af8e-9a39d11ea584",
   "metadata": {},
   "outputs": [
    {
     "data": {
      "text/plain": [
       "array([[ 1.48703925, -0.36980239,  0.69176332,  1.91527656, -0.43419327],\n",
       "       [-2.03666491,  1.22020739, -0.69432567,  0.25498552, -0.53839797],\n",
       "       [-0.13863812, -0.75638913, -2.05204621, -0.96557783, -1.27892238]])"
      ]
     },
     "execution_count": 51,
     "metadata": {},
     "output_type": "execute_result"
    }
   ],
   "source": [
    "random.randn(3,5)"
   ]
  },
  {
   "cell_type": "markdown",
   "id": "02732469-21a6-43f0-aa3e-a91837da05f0",
   "metadata": {},
   "source": [
    "<span style='font-size:larger ; color:black'> 5.Uniform Function </span><br>\n",
    "-It returns random float numbers between the given range of values.<br>\n",
    "-The random numbers can't repeat.<br> \n",
    "-By default, the range starts from 0.<br>\n",
    "-If nothing is passed in ().it will return a float number between 0 and 1."
   ]
  },
  {
   "cell_type": "code",
   "execution_count": 52,
   "id": "c73ef8c9-3280-446c-9e2c-85a33c761221",
   "metadata": {},
   "outputs": [
    {
     "data": {
      "text/plain": [
       "4.151126929805198"
      ]
     },
     "execution_count": 52,
     "metadata": {},
     "output_type": "execute_result"
    }
   ],
   "source": [
    "np.random.uniform(3,6)"
   ]
  },
  {
   "cell_type": "code",
   "execution_count": 53,
   "id": "92bf9709-04bf-4b1e-89e5-2b267d9980c5",
   "metadata": {},
   "outputs": [
    {
     "data": {
      "text/plain": [
       "array([3.425738  , 3.60112422, 3.57861508, 3.19316542, 3.50119386,\n",
       "       3.04733609, 3.13289633, 3.07015408, 3.48412807, 3.79894956,\n",
       "       3.72664546, 3.63744821, 3.68217395, 3.19045733, 3.2041137 ,\n",
       "       3.49785645, 3.97301287])"
      ]
     },
     "execution_count": 53,
     "metadata": {},
     "output_type": "execute_result"
    }
   ],
   "source": [
    "np.random.uniform(3,4,17)"
   ]
  },
  {
   "cell_type": "code",
   "execution_count": 54,
   "id": "530ee2c8-0c27-444a-8e0a-e66d7c99e93e",
   "metadata": {},
   "outputs": [
    {
     "data": {
      "text/plain": [
       "2.830108729239069"
      ]
     },
     "execution_count": 54,
     "metadata": {},
     "output_type": "execute_result"
    }
   ],
   "source": [
    "np.random.uniform(5)"
   ]
  },
  {
   "cell_type": "markdown",
   "id": "6f3aea6f-94c1-4284-986d-780459db2c09",
   "metadata": {},
   "source": [
    "<span style='font-size:larger; color:black'>6.Choice Function </span><br>\n",
    "-It returns random integer numbers from the given sequence.<br>\n",
    "-The range starts from 0 by default.<br>\n",
    "-If only 1 element is passed, then it will return a number between 0 and that element.<br>\n",
    "-By defult, replace=True, which means the number can repeat."
   ]
  },
  {
   "cell_type": "code",
   "execution_count": 55,
   "id": "290bc474-2903-4d42-a2d4-f348569fc496",
   "metadata": {},
   "outputs": [
    {
     "data": {
      "text/plain": [
       "5"
      ]
     },
     "execution_count": 55,
     "metadata": {},
     "output_type": "execute_result"
    }
   ],
   "source": [
    "np.random.choice([2,5,3,5,6,67,75,5,55])"
   ]
  },
  {
   "cell_type": "code",
   "execution_count": 56,
   "id": "89b3dcb4-1a55-436d-a398-35845e3bca74",
   "metadata": {},
   "outputs": [
    {
     "data": {
      "text/plain": [
       "array([1, 9, 4, 9, 5])"
      ]
     },
     "execution_count": 56,
     "metadata": {},
     "output_type": "execute_result"
    }
   ],
   "source": [
    "np.random.choice(10,5)"
   ]
  },
  {
   "cell_type": "code",
   "execution_count": 57,
   "id": "7722110f-76d8-4905-9edf-da5bf74b23f9",
   "metadata": {},
   "outputs": [
    {
     "data": {
      "text/plain": [
       "7"
      ]
     },
     "execution_count": 57,
     "metadata": {},
     "output_type": "execute_result"
    }
   ],
   "source": [
    "np.random.choice(12)"
   ]
  },
  {
   "cell_type": "code",
   "execution_count": 58,
   "id": "07c5bbc4-04ad-4c75-be60-032e96c78402",
   "metadata": {},
   "outputs": [
    {
     "data": {
      "text/plain": [
       "array([ 5,  5, 75, 55, 55])"
      ]
     },
     "execution_count": 58,
     "metadata": {},
     "output_type": "execute_result"
    }
   ],
   "source": [
    "np.random.choice([2,5,3,5,6,67,75,5,55],size=5)"
   ]
  },
  {
   "cell_type": "code",
   "execution_count": 59,
   "id": "baf0abff-9ed3-45d6-a0a2-8999b4f2388c",
   "metadata": {},
   "outputs": [
    {
     "data": {
      "text/plain": [
       "array([3, 6, 5, 5, 5])"
      ]
     },
     "execution_count": 59,
     "metadata": {},
     "output_type": "execute_result"
    }
   ],
   "source": [
    "np.random.choice([2,5,3,5,6,67,75,5,55],size=5, replace=False)"
   ]
  },
  {
   "cell_type": "markdown",
   "id": "c9dcf93b-4489-402d-aead-b2010fffb478",
   "metadata": {},
   "source": [
    "<span style='font-size:larger; color:black'>7. Linspace Function </span><br>\n",
    "-Linspace Function return evenly linear spaced values within a given interval<br>\n",
    "-Note by deafult it shows 50 values<br>\n",
    "<span style=\"font-size:larger ; color:black\">\n",
    "np.linspace(start_value, stop_value, num=50, endpoint= False, retstep=True,dtype=None) </span>"
   ]
  },
  {
   "cell_type": "code",
   "execution_count": 60,
   "id": "6b4ae248-437b-48fb-a912-1a75bee37b31",
   "metadata": {},
   "outputs": [
    {
     "name": "stdout",
     "output_type": "stream",
     "text": [
      "[ 2.  4.  6.  8. 10. 12. 14. 16. 18. 20.]\n"
     ]
    }
   ],
   "source": [
    "N = np.linspace(2, 20, num=10 )\n",
    "print(N)"
   ]
  },
  {
   "cell_type": "code",
   "execution_count": 61,
   "id": "429556fc-0070-487b-a05a-5d94edf2592d",
   "metadata": {},
   "outputs": [
    {
     "name": "stdout",
     "output_type": "stream",
     "text": [
      "[ 2.   3.8  5.6  7.4  9.2 11.  12.8 14.6 16.4 18.2]\n"
     ]
    }
   ],
   "source": [
    "N1 = np.linspace(2,20, num=10, endpoint=False)\n",
    "print(N1)"
   ]
  },
  {
   "cell_type": "code",
   "execution_count": 62,
   "id": "299c76d4-8c0c-4278-9e7c-94eefcc68928",
   "metadata": {},
   "outputs": [
    {
     "name": "stdout",
     "output_type": "stream",
     "text": [
      "[ 2.   3.8  5.6  7.4  9.2 11.  12.8 14.6 16.4 18.2]\n"
     ]
    }
   ],
   "source": [
    "N2 = np.linspace(2,20, num=10, endpoint=False)\n",
    "print(N2)"
   ]
  },
  {
   "cell_type": "code",
   "execution_count": 63,
   "id": "e793988a-5ce9-4b32-982b-f1e1770d9b6c",
   "metadata": {},
   "outputs": [
    {
     "name": "stdout",
     "output_type": "stream",
     "text": [
      "(array([ 2.,  4.,  6.,  8., 10., 12., 14., 16., 18., 20.]), 2.0)\n"
     ]
    }
   ],
   "source": [
    "N3 = np.linspace(2,20, num=10, endpoint=True, retstep = True)\n",
    "print(N3)"
   ]
  },
  {
   "cell_type": "code",
   "execution_count": 64,
   "id": "99ad97c9-7ce5-4f52-9ca9-e875d1b53ebe",
   "metadata": {},
   "outputs": [
    {
     "name": "stdout",
     "output_type": "stream",
     "text": [
      "(array(['2.0', '4.0', '6.0', '8.0', '10.0', '12.0', '14.0', '16.0', '18.0',\n",
      "       '20.0'], dtype='<U32'), 2.0)\n"
     ]
    }
   ],
   "source": [
    "N4 = np.linspace(2,20, num=10, endpoint=True, retstep=True, dtype=str)\n",
    "print(N4)"
   ]
  }
 ],
 "metadata": {
  "kernelspec": {
   "display_name": "Python 3 (ipykernel)",
   "language": "python",
   "name": "python3"
  },
  "language_info": {
   "codemirror_mode": {
    "name": "ipython",
    "version": 3
   },
   "file_extension": ".py",
   "mimetype": "text/x-python",
   "name": "python",
   "nbconvert_exporter": "python",
   "pygments_lexer": "ipython3",
   "version": "3.10.13"
  }
 },
 "nbformat": 4,
 "nbformat_minor": 5
}
