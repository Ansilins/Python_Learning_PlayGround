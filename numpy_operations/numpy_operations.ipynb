{
 "cells": [
  {
   "cell_type": "markdown",
   "id": "6eba7f5b-943d-420f-8395-3a5da8d2278d",
   "metadata": {},
   "source": [
    "<span style=\"font-size:larger; background-color:#333333; color:white\">Numpy Basics</span> \n",
    "\n",
    "<span style=\"font-size:small; background-color:#333333; color:white\">\n",
    "1. Array <br>\n",
    "2. Array Attributes - Shape, Reshape, Size, Dimension, Dtype. <br>\n",
    "3. 1-D Array <br>\n",
    "4. 2-D Array <br>\n",
    "5. 3-D Array <br>\n",
    "6. Zeros Array <br>\n",
    "7. Ones Array <br>\n",
    "8. Full Array <br>\n",
    "9. Random Function <br>\n",
    "10. Linspace Function <br>\n",
    "</span>"
   ]
  },
  {
   "cell_type": "code",
   "execution_count": 3,
   "id": "081e0d14-8233-4aa7-8a6f-0318035d0bbd",
   "metadata": {},
   "outputs": [],
   "source": [
    "#importing Numpy.\n",
    "import numpy as np"
   ]
  },
  {
   "cell_type": "markdown",
   "id": "5e70117c-25a4-4bb8-b085-f71cff7b4d84",
   "metadata": {},
   "source": [
    "<span style=\"font-size:larger; background-color:#333333; color:white\">Numpy Arrays: 1-D, 2-D, 3-D Arrays</span>"
   ]
  },
  {
   "cell_type": "code",
   "execution_count": 2,
   "id": "78fa87e6-b737-42c7-9629-54f28da56454",
   "metadata": {},
   "outputs": [],
   "source": [
    "# Create a NumPy array named A1 containing the elements.\n",
    "A1 = np.array([1,2,3,4,5])"
   ]
  },
  {
   "cell_type": "code",
   "execution_count": 3,
   "id": "24136d33-17e1-4677-ba69-602b533a1593",
   "metadata": {},
   "outputs": [
    {
     "name": "stdout",
     "output_type": "stream",
     "text": [
      "[1 2 3 4 5]\n"
     ]
    }
   ],
   "source": [
    "#print the Numpy array.\n",
    "print(A1)"
   ]
  },
  {
   "cell_type": "code",
   "execution_count": 4,
   "id": "90ee0aa5-a337-4ab9-aae9-939f4ea13d34",
   "metadata": {},
   "outputs": [
    {
     "data": {
      "text/plain": [
       "numpy.ndarray"
      ]
     },
     "execution_count": 4,
     "metadata": {},
     "output_type": "execute_result"
    }
   ],
   "source": [
    "#Check the type of the variable A1.\n",
    "type(A1) "
   ]
  },
  {
   "cell_type": "code",
   "execution_count": 5,
   "id": "497ebcf8-4ca6-4e11-a345-e2eed135e055",
   "metadata": {},
   "outputs": [
    {
     "data": {
      "text/plain": [
       "(5,)"
      ]
     },
     "execution_count": 5,
     "metadata": {},
     "output_type": "execute_result"
    }
   ],
   "source": [
    "#check the shape of the variable A1.\n",
    "A1.shape"
   ]
  },
  {
   "cell_type": "code",
   "execution_count": 6,
   "id": "bd07362c-bb6d-497e-beef-bf8df08fbbca",
   "metadata": {},
   "outputs": [
    {
     "data": {
      "text/plain": [
       "5"
      ]
     },
     "execution_count": 6,
     "metadata": {},
     "output_type": "execute_result"
    }
   ],
   "source": [
    "#check the size of the variable A1.\n",
    "A1.size"
   ]
  },
  {
   "cell_type": "code",
   "execution_count": 7,
   "id": "cd35d588-1be2-4814-8c27-6ebbb7d0092c",
   "metadata": {},
   "outputs": [],
   "source": [
    "#Create a NumPy array named A2 containing a 2D array with two rows and four columns.\n",
    "A2 = np.array([[1,3,4,5], [1,2,4,5,]])"
   ]
  },
  {
   "cell_type": "code",
   "execution_count": 8,
   "id": "d2a8ebbc-08c6-42b2-97b9-94832d25baec",
   "metadata": {},
   "outputs": [
    {
     "data": {
      "text/plain": [
       "2"
      ]
     },
     "execution_count": 8,
     "metadata": {},
     "output_type": "execute_result"
    }
   ],
   "source": [
    "#Check the number of dimensions of the NumPy array A2.\n",
    "A2.ndim"
   ]
  },
  {
   "cell_type": "code",
   "execution_count": 9,
   "id": "64a65f4a-e7e9-493e-a671-a2459ad743e6",
   "metadata": {},
   "outputs": [
    {
     "data": {
      "text/plain": [
       "8"
      ]
     },
     "execution_count": 9,
     "metadata": {},
     "output_type": "execute_result"
    }
   ],
   "source": [
    "#check the size of the variable A2.\n",
    "A2.size"
   ]
  },
  {
   "cell_type": "code",
   "execution_count": 10,
   "id": "ee8e1fb9-b69d-4086-8bc8-e445dbf9ab68",
   "metadata": {},
   "outputs": [],
   "source": [
    "#Create a NumPy array named A3 containing a 3D array with two rows and four columns.\n",
    "A3 = np.array([[[2,3,4], [2,3,4], [3,4,5]]])"
   ]
  },
  {
   "cell_type": "code",
   "execution_count": 11,
   "id": "27d5d43d-bce4-49bb-abc1-756ad8ccb894",
   "metadata": {},
   "outputs": [
    {
     "name": "stdout",
     "output_type": "stream",
     "text": [
      "[[[2 3 4]\n",
      "  [2 3 4]\n",
      "  [3 4 5]]]\n"
     ]
    }
   ],
   "source": [
    "#print the Numpy array.\n",
    "print(A3)"
   ]
  },
  {
   "cell_type": "code",
   "execution_count": 12,
   "id": "ba226516-0063-4d1e-9850-3d298b684405",
   "metadata": {},
   "outputs": [
    {
     "data": {
      "text/plain": [
       "9"
      ]
     },
     "execution_count": 12,
     "metadata": {},
     "output_type": "execute_result"
    }
   ],
   "source": [
    "#check the size of the variable A3.\n",
    "A3.size"
   ]
  },
  {
   "cell_type": "code",
   "execution_count": 13,
   "id": "6835a48e-c2ad-4eff-a83e-5a1595948d62",
   "metadata": {},
   "outputs": [
    {
     "data": {
      "text/plain": [
       "(1, 3, 3)"
      ]
     },
     "execution_count": 13,
     "metadata": {},
     "output_type": "execute_result"
    }
   ],
   "source": [
    "#check the size of the variable A3.\n",
    "A3.shape"
   ]
  },
  {
   "cell_type": "code",
   "execution_count": 14,
   "id": "be937f6f-7bb6-41a3-b66d-fbf3b5d1214b",
   "metadata": {},
   "outputs": [
    {
     "data": {
      "text/plain": [
       "numpy.ndarray"
      ]
     },
     "execution_count": 14,
     "metadata": {},
     "output_type": "execute_result"
    }
   ],
   "source": [
    "#check the type of the variabe A3.\n",
    "type(A3)"
   ]
  },
  {
   "cell_type": "markdown",
   "id": "e1c2e7ba-53cc-4302-968e-033c6f95d61c",
   "metadata": {},
   "source": [
    "<span style=\"font-size:larger ; background-color:#333333; color:white\">Numpy - Zeros Array</span>\n",
    "\n",
    "<span style=\"font-size:medium; background-color:#333333; color:white\">ZA = np.zeros(shape, dtype)</span>\n",
    "\n",
    "<span style=\"font-size:small; background-color:#333333; color:white\">\n",
    "- We can define the shape and data-type of zeros array..<br>\n",
    "- We can create 1-D, 2-D, as well as 3-D zeros array.<br>\n",
    "- The default data-type is float.\n",
    "</span>\n"
   ]
  },
  {
   "cell_type": "code",
   "execution_count": 50,
   "id": "6c5a453d-b6ba-4475-8e5b-d4040a06eef5",
   "metadata": {},
   "outputs": [
    {
     "data": {
      "text/plain": [
       "array([0., 0., 0.])"
      ]
     },
     "execution_count": 50,
     "metadata": {},
     "output_type": "execute_result"
    }
   ],
   "source": [
    "# Create a zeros array of 1 dimension.\n",
    "Z1 = np.zeros(3)    \n",
    "Z1"
   ]
  },
  {
   "cell_type": "code",
   "execution_count": 52,
   "id": "20885ce5-447e-488b-9618-0cf95ad75e8a",
   "metadata": {},
   "outputs": [
    {
     "data": {
      "text/plain": [
       "array([0, 0, 0, 0, 0, 0, 0, 0, 0, 0, 0, 0, 0, 0, 0])"
      ]
     },
     "execution_count": 52,
     "metadata": {},
     "output_type": "execute_result"
    }
   ],
   "source": [
    "#Create a zeros array of 1 dimension with data type as intgeger.\n",
    "Z2 = np.zeros(15, dtype = int)\n",
    "Z2"
   ]
  },
  {
   "cell_type": "code",
   "execution_count": 53,
   "id": "de85ab47-08e9-443e-95ba-10e085bfd878",
   "metadata": {},
   "outputs": [
    {
     "data": {
      "text/plain": [
       "numpy.ndarray"
      ]
     },
     "execution_count": 53,
     "metadata": {},
     "output_type": "execute_result"
    }
   ],
   "source": [
    "#check the type.\n",
    "type(Z2)"
   ]
  },
  {
   "cell_type": "code",
   "execution_count": 54,
   "id": "191000ab-ea77-406b-a4a1-4c530cd19ae2",
   "metadata": {},
   "outputs": [
    {
     "data": {
      "text/plain": [
       "1"
      ]
     },
     "execution_count": 54,
     "metadata": {},
     "output_type": "execute_result"
    }
   ],
   "source": [
    "#check the dimension.\n",
    "np.ndim(Z2)"
   ]
  },
  {
   "cell_type": "code",
   "execution_count": 64,
   "id": "43b1ea32-6055-42a0-9dee-6fa517a4eaa8",
   "metadata": {},
   "outputs": [
    {
     "data": {
      "text/plain": [
       "array([[0., 0., 0., 0.],\n",
       "       [0., 0., 0., 0.],\n",
       "       [0., 0., 0., 0.]])"
      ]
     },
     "execution_count": 64,
     "metadata": {},
     "output_type": "execute_result"
    }
   ],
   "source": [
    "#create a zeros array of 2 dimensions\n",
    "Z3 = np.zeros((3,4))\n",
    "Z3"
   ]
  },
  {
   "cell_type": "code",
   "execution_count": 68,
   "id": "d28c491f-ae32-4cc9-ab50-54d6f63c05f3",
   "metadata": {},
   "outputs": [
    {
     "data": {
      "text/plain": [
       "array([[0, 0, 0, 0],\n",
       "       [0, 0, 0, 0],\n",
       "       [0, 0, 0, 0]])"
      ]
     },
     "execution_count": 68,
     "metadata": {},
     "output_type": "execute_result"
    }
   ],
   "source": [
    "#create a zeros arrayof 2 dimensions.\n",
    "Z4 = np.zeros((3,4), dtype=int)\n",
    "Z4"
   ]
  },
  {
   "cell_type": "code",
   "execution_count": 78,
   "id": "70e14e3a-93b5-4831-a16c-212a921c69f4",
   "metadata": {},
   "outputs": [
    {
     "data": {
      "text/plain": [
       "(3, 4)"
      ]
     },
     "execution_count": 78,
     "metadata": {},
     "output_type": "execute_result"
    }
   ],
   "source": [
    "#check the shape \n",
    "Z4.shape"
   ]
  },
  {
   "cell_type": "code",
   "execution_count": 71,
   "id": "936b92e6-7261-4370-8ade-8844ac03516d",
   "metadata": {},
   "outputs": [
    {
     "data": {
      "text/plain": [
       "array([[[0., 0., 0., 0.],\n",
       "        [0., 0., 0., 0.],\n",
       "        [0., 0., 0., 0.]],\n",
       "\n",
       "       [[0., 0., 0., 0.],\n",
       "        [0., 0., 0., 0.],\n",
       "        [0., 0., 0., 0.]]])"
      ]
     },
     "execution_count": 71,
     "metadata": {},
     "output_type": "execute_result"
    }
   ],
   "source": [
    "#create a zeros array of 3 dimensions.\n",
    "np.zeros((2,3,4))"
   ]
  },
  {
   "cell_type": "code",
   "execution_count": 82,
   "id": "e5f126b8-03a3-457a-b813-815e322fc82f",
   "metadata": {},
   "outputs": [
    {
     "data": {
      "text/plain": [
       "array([[[0, 0, 0],\n",
       "        [0, 0, 0],\n",
       "        [0, 0, 0]],\n",
       "\n",
       "       [[0, 0, 0],\n",
       "        [0, 0, 0],\n",
       "        [0, 0, 0]],\n",
       "\n",
       "       [[0, 0, 0],\n",
       "        [0, 0, 0],\n",
       "        [0, 0, 0]]])"
      ]
     },
     "execution_count": 82,
     "metadata": {},
     "output_type": "execute_result"
    }
   ],
   "source": [
    "#create a zeros array of 3 dimensions with data type as integer.\n",
    "Z5 = np.zeros((3,3,3), dtype=int)\n",
    "Z5"
   ]
  },
  {
   "cell_type": "code",
   "execution_count": 83,
   "id": "87c3783e-a71b-4cb6-898d-eb05fb3c2c0a",
   "metadata": {},
   "outputs": [
    {
     "data": {
      "text/plain": [
       "3"
      ]
     },
     "execution_count": 83,
     "metadata": {},
     "output_type": "execute_result"
    }
   ],
   "source": [
    "#check the dimensions\n",
    "Z5.ndim"
   ]
  },
  {
   "cell_type": "code",
   "execution_count": 84,
   "id": "2d04d981-a262-4a35-8b25-402bc24e9e39",
   "metadata": {},
   "outputs": [
    {
     "data": {
      "text/plain": [
       "27"
      ]
     },
     "execution_count": 84,
     "metadata": {},
     "output_type": "execute_result"
    }
   ],
   "source": [
    "#check the size \n",
    "Z5.size"
   ]
  },
  {
   "cell_type": "markdown",
   "id": "68745148-9662-4052-9dd6-4414b9233dcb",
   "metadata": {},
   "source": [
    "<span style=\"font-size:larger ; background-color:#333333; color:white\">Numpy - Ones Array</span>\n",
    "\n",
    "<span style=\"font-size:medium; background-color:#333333; color:white\">ZA = np.Ones(shape, dtype)</span>\n",
    "\n",
    "<span style=\"font-size:small; background-color:#333333; color:white\">\n",
    "- We can define the shape and data-type of zeros array..<br>\n",
    "- We can create 1-D, 2-D, as well as 3-D zeros array.<br>\n",
    "- The default data-type is float.\n",
    "</span>\n"
   ]
  },
  {
   "cell_type": "code",
   "execution_count": 88,
   "id": "d34c7080-ee24-49e4-9ef8-f760c846884f",
   "metadata": {},
   "outputs": [
    {
     "data": {
      "text/plain": [
       "array([1., 1., 1.])"
      ]
     },
     "execution_count": 88,
     "metadata": {},
     "output_type": "execute_result"
    }
   ],
   "source": [
    "# Create a Ones array of 1 dimension.\n",
    "B1 = np.ones(3)    \n",
    "B1"
   ]
  },
  {
   "cell_type": "code",
   "execution_count": 91,
   "id": "410ba9a8-de6b-42d0-97a9-c62a3ba50ac1",
   "metadata": {},
   "outputs": [
    {
     "data": {
      "text/plain": [
       "array([1, 1, 1, 1, 1])"
      ]
     },
     "execution_count": 91,
     "metadata": {},
     "output_type": "execute_result"
    }
   ],
   "source": [
    "#Create a Ones array of 1 dimension with data type as intgeger.\n",
    "B2 = np.ones(5, dtype = int)\n",
    "B2"
   ]
  },
  {
   "cell_type": "code",
   "execution_count": 90,
   "id": "0a022c4a-4187-422c-8820-91a67f9a43cb",
   "metadata": {},
   "outputs": [
    {
     "data": {
      "text/plain": [
       "numpy.ndarray"
      ]
     },
     "execution_count": 90,
     "metadata": {},
     "output_type": "execute_result"
    }
   ],
   "source": [
    "#check the type.\n",
    "type(B2)"
   ]
  },
  {
   "cell_type": "code",
   "execution_count": 92,
   "id": "207b0ea6-3528-4618-b2fb-2e39e0daecf4",
   "metadata": {},
   "outputs": [
    {
     "data": {
      "text/plain": [
       "1"
      ]
     },
     "execution_count": 92,
     "metadata": {},
     "output_type": "execute_result"
    }
   ],
   "source": [
    "#check the dimension.\n",
    "np.ndim(B2)"
   ]
  },
  {
   "cell_type": "code",
   "execution_count": 94,
   "id": "e8088524-847a-44a9-87b3-e374d3127935",
   "metadata": {},
   "outputs": [
    {
     "data": {
      "text/plain": [
       "array([[1., 1., 1., 1.],\n",
       "       [1., 1., 1., 1.],\n",
       "       [1., 1., 1., 1.]])"
      ]
     },
     "execution_count": 94,
     "metadata": {},
     "output_type": "execute_result"
    }
   ],
   "source": [
    "#create a Ones array of 2 dimensions\n",
    "B3 = np.ones((3,4))\n",
    "B3"
   ]
  },
  {
   "cell_type": "code",
   "execution_count": 95,
   "id": "083dc8c0-a75a-49f9-a157-d913595a5a9b",
   "metadata": {},
   "outputs": [
    {
     "data": {
      "text/plain": [
       "array([[1, 1, 1, 1],\n",
       "       [1, 1, 1, 1],\n",
       "       [1, 1, 1, 1]])"
      ]
     },
     "execution_count": 95,
     "metadata": {},
     "output_type": "execute_result"
    }
   ],
   "source": [
    "#create a Ones arrayof 2 dimensions.\n",
    "B4 = np.ones((3,4), dtype=int)\n",
    "B4"
   ]
  },
  {
   "cell_type": "code",
   "execution_count": 96,
   "id": "0fa4b8c0-e23d-4e0f-b366-0cb6e263c816",
   "metadata": {},
   "outputs": [
    {
     "data": {
      "text/plain": [
       "(3, 4)"
      ]
     },
     "execution_count": 96,
     "metadata": {},
     "output_type": "execute_result"
    }
   ],
   "source": [
    "#check the shape \n",
    "B4.shape"
   ]
  },
  {
   "cell_type": "code",
   "execution_count": 101,
   "id": "3981d1d5-9e11-418f-96b8-0eedef759528",
   "metadata": {},
   "outputs": [
    {
     "data": {
      "text/plain": [
       "array([[[1., 1., 1., 1.],\n",
       "        [1., 1., 1., 1.],\n",
       "        [1., 1., 1., 1.]],\n",
       "\n",
       "       [[1., 1., 1., 1.],\n",
       "        [1., 1., 1., 1.],\n",
       "        [1., 1., 1., 1.]]])"
      ]
     },
     "execution_count": 101,
     "metadata": {},
     "output_type": "execute_result"
    }
   ],
   "source": [
    "#create a Ones array of 3 dimensions.\n",
    "np.ones((2,3,4))"
   ]
  },
  {
   "cell_type": "code",
   "execution_count": 100,
   "id": "202cd33f-8f29-44e4-92ee-0174c15337c7",
   "metadata": {},
   "outputs": [
    {
     "data": {
      "text/plain": [
       "array([[[1, 1, 1],\n",
       "        [1, 1, 1],\n",
       "        [1, 1, 1]],\n",
       "\n",
       "       [[1, 1, 1],\n",
       "        [1, 1, 1],\n",
       "        [1, 1, 1]],\n",
       "\n",
       "       [[1, 1, 1],\n",
       "        [1, 1, 1],\n",
       "        [1, 1, 1]]])"
      ]
     },
     "execution_count": 100,
     "metadata": {},
     "output_type": "execute_result"
    }
   ],
   "source": [
    "#create a Ones array of 3 dimensions with data type as integer.\n",
    "B5 = np.ones((3,3,3), dtype=int)\n",
    "B5"
   ]
  },
  {
   "cell_type": "code",
   "execution_count": 102,
   "id": "a3fc2602-6b5d-4cca-bc22-79a33856703d",
   "metadata": {},
   "outputs": [
    {
     "data": {
      "text/plain": [
       "3"
      ]
     },
     "execution_count": 102,
     "metadata": {},
     "output_type": "execute_result"
    }
   ],
   "source": [
    "#check the dimensions\n",
    "B5.ndim"
   ]
  },
  {
   "cell_type": "code",
   "execution_count": 103,
   "id": "347e14ed-c67e-4e83-a302-590ef3545c29",
   "metadata": {},
   "outputs": [
    {
     "data": {
      "text/plain": [
       "27"
      ]
     },
     "execution_count": 103,
     "metadata": {},
     "output_type": "execute_result"
    }
   ],
   "source": [
    "#check the size \n",
    "B5.size"
   ]
  },
  {
   "cell_type": "markdown",
   "id": "80f680da-7721-4472-988d-62bd29f47f2f",
   "metadata": {},
   "source": [
    "<span style=\"font-size:larger ; background-color:#333333; color:white\">Numpy - Full Array</span><br>\n",
    "<span style=\"font-size:larger ; background-color:#333333; color:white\">Full Array - An array in which all values are same(constant)</span>\n",
    "\n",
    "<span style=\"font-size:medium; background-color:#333333; color:white\">ZA = np.full(shape, fill_value)</span>\n",
    "\n",
    "<span style=\"font-size:small; background-color:#333333; color:white\">\n",
    "- We can ddefine the shape, and pass the value to be  filled in the 'Full Array'.<br>\n",
    "- We can create 1-D, 2-D, as well as 3-D Full Array, with integer, float or string values.<br>\n",
    "- The default data-type is integer.\n",
    "</span>\n"
   ]
  },
  {
   "cell_type": "code",
   "execution_count": 25,
   "id": "b3a51dd8-b6f6-489f-88cc-5c302d2ec5f3",
   "metadata": {},
   "outputs": [
    {
     "name": "stdout",
     "output_type": "stream",
     "text": [
      "[79 79 79]\n"
     ]
    }
   ],
   "source": [
    "#creating a Full Array, of 1 dimension, with 79 at each position\n",
    "\n",
    "C1 = np.full(3,79)\n",
    "print(C1)\n"
   ]
  },
  {
   "cell_type": "code",
   "execution_count": 26,
   "id": "e0a78d18-1f78-4271-be79-54efa2ec83c1",
   "metadata": {},
   "outputs": [
    {
     "name": "stdout",
     "output_type": "stream",
     "text": [
      "[79. 79. 79.]\n"
     ]
    }
   ],
   "source": [
    "#Creating a Full Array of 1 diension, with 79 and the data type as float.\n",
    "C1 = np.full(3,79,dtype=float)\n",
    "print(C1)"
   ]
  },
  {
   "cell_type": "code",
   "execution_count": 29,
   "id": "25395100-eed3-4031-9fce-e145acdd5a16",
   "metadata": {},
   "outputs": [
    {
     "data": {
      "text/plain": [
       "numpy.ndarray"
      ]
     },
     "execution_count": 29,
     "metadata": {},
     "output_type": "execute_result"
    }
   ],
   "source": [
    "#checking the type of C1\n",
    "type(C1)"
   ]
  },
  {
   "cell_type": "code",
   "execution_count": 30,
   "id": "49f2b80e-067f-49f2-89b5-74267f6bba5e",
   "metadata": {},
   "outputs": [
    {
     "data": {
      "text/plain": [
       "1"
      ]
     },
     "execution_count": 30,
     "metadata": {},
     "output_type": "execute_result"
    }
   ],
   "source": [
    "#checking the dimension of C1\n",
    "C1.ndim"
   ]
  },
  {
   "cell_type": "code",
   "execution_count": 34,
   "id": "fca6c64e-ac57-45b5-88e7-d896e64690a3",
   "metadata": {},
   "outputs": [
    {
     "name": "stdout",
     "output_type": "stream",
     "text": [
      "[[99.9 99.9 99.9]\n",
      " [99.9 99.9 99.9]]\n"
     ]
    }
   ],
   "source": [
    "#creating a full array, of 1 dimension with 99.9 at each position\n",
    "C2 = np.full((2,3), 99.9)\n",
    "print(C2)"
   ]
  },
  {
   "cell_type": "code",
   "execution_count": 35,
   "id": "1c800be2-ab20-4b5b-9df5-3a0fee85ee08",
   "metadata": {},
   "outputs": [
    {
     "name": "stdout",
     "output_type": "stream",
     "text": [
      "[[99 99 99]\n",
      " [99 99 99]]\n"
     ]
    }
   ],
   "source": [
    "#creating a full array, of 2 dimension with data type as int \n",
    "C2 = np.full((2,3), 99.9, dtype=int)\n",
    "print(C2)"
   ]
  },
  {
   "cell_type": "code",
   "execution_count": 37,
   "id": "f429b804-5295-44eb-9607-59f5de740c5b",
   "metadata": {},
   "outputs": [
    {
     "name": "stdout",
     "output_type": "stream",
     "text": [
      "[['9' '9' '9']\n",
      " ['9' '9' '9']]\n"
     ]
    }
   ],
   "source": [
    "#creating a full array of 2 dimension with data type as string \n",
    "C2 = np.full((2,3), 99.9, dtype=str)\n",
    "print(C2)"
   ]
  },
  {
   "cell_type": "code",
   "execution_count": 38,
   "id": "bd762c6f-5b03-47ad-8eb8-bab3fedb449f",
   "metadata": {},
   "outputs": [
    {
     "data": {
      "text/plain": [
       "(2, 3)"
      ]
     },
     "execution_count": 38,
     "metadata": {},
     "output_type": "execute_result"
    }
   ],
   "source": [
    "#checking the shape of 'C2'\n",
    "C2.shape"
   ]
  },
  {
   "cell_type": "code",
   "execution_count": 46,
   "id": "ec2e6138-c231-4108-bcbf-55a41495eea7",
   "metadata": {},
   "outputs": [
    {
     "name": "stdout",
     "output_type": "stream",
     "text": [
      "[[['python' 'python' 'python' 'python']\n",
      "  ['python' 'python' 'python' 'python']\n",
      "  ['python' 'python' 'python' 'python']]\n",
      "\n",
      " [['python' 'python' 'python' 'python']\n",
      "  ['python' 'python' 'python' 'python']\n",
      "  ['python' 'python' 'python' 'python']]]\n"
     ]
    }
   ],
   "source": [
    "#creating a full array with string datatype, of 3 dimensions with \"python\" at each position\n",
    "\n",
    "C3 = np.full((2,3,4), 'python')\n",
    "print(C3)"
   ]
  },
  {
   "cell_type": "code",
   "execution_count": 51,
   "id": "737c4e92-c106-4f28-b3da-65b0d37ebfc3",
   "metadata": {},
   "outputs": [
    {
     "data": {
      "text/plain": [
       "3"
      ]
     },
     "execution_count": 51,
     "metadata": {},
     "output_type": "execute_result"
    }
   ],
   "source": [
    "#checking the dimension of C3, with new method. \n",
    "np.ndim(C3)"
   ]
  },
  {
   "cell_type": "code",
   "execution_count": 54,
   "id": "451c6f71-210f-4d5f-a2a5-65c7357e2a1d",
   "metadata": {},
   "outputs": [
    {
     "data": {
      "text/plain": [
       "24"
      ]
     },
     "execution_count": 54,
     "metadata": {},
     "output_type": "execute_result"
    }
   ],
   "source": [
    "C3.size"
   ]
  },
  {
   "cell_type": "markdown",
   "id": "74e5cfb7-5994-4dc0-aeba-1d76fe04008e",
   "metadata": {},
   "source": [
    "<span style=\"font-size:larger ; background-color:#333333; color:white\">The Random Module contain the function which are used for generating random numbers.</span><br>\n"
   ]
  },
  {
   "cell_type": "code",
   "execution_count": 56,
   "id": "1f11de30-3782-4802-9d4a-0707a2fe3aa3",
   "metadata": {},
   "outputs": [],
   "source": [
    "#importing the numpy library\n",
    "import numpy as np"
   ]
  },
  {
   "cell_type": "code",
   "execution_count": 55,
   "id": "672fe871-555f-4e14-844d-7c5dbd608197",
   "metadata": {},
   "outputs": [],
   "source": [
    "#from numpy library, importing the random module \n",
    "from numpy import random"
   ]
  },
  {
   "cell_type": "markdown",
   "id": "339db4f3-5872-4e40-80e9-4a68a8cb21f1",
   "metadata": {},
   "source": [
    "<span style=\"font-size:larger ;  color:black\">1. Random Function</span><br>\n",
    "It returns random float number(s) between 0 and 1."
   ]
  },
  {
   "cell_type": "code",
   "execution_count": 73,
   "id": "02bd31be-67eb-4bbb-aab1-f9de6824f7ca",
   "metadata": {},
   "outputs": [
    {
     "data": {
      "text/plain": [
       "0.890743225050126"
      ]
     },
     "execution_count": 73,
     "metadata": {},
     "output_type": "execute_result"
    }
   ],
   "source": [
    "np.random.random()"
   ]
  },
  {
   "cell_type": "code",
   "execution_count": 77,
   "id": "f732e237-8b07-45b6-b3e8-7237e6798235",
   "metadata": {},
   "outputs": [
    {
     "data": {
      "text/plain": [
       "array([0.12058427, 0.08957807, 0.62061146, 0.1349687 ])"
      ]
     },
     "execution_count": 77,
     "metadata": {},
     "output_type": "execute_result"
    }
   ],
   "source": [
    "np.random.random(4)"
   ]
  },
  {
   "cell_type": "code",
   "execution_count": 79,
   "id": "fc8a0d35-ce99-4178-82c3-93d36f631156",
   "metadata": {},
   "outputs": [
    {
     "data": {
      "text/plain": [
       "array([[0.8778371 , 0.9475572 , 0.61556616],\n",
       "       [0.137471  , 0.52102531, 0.16051855]])"
      ]
     },
     "execution_count": 79,
     "metadata": {},
     "output_type": "execute_result"
    }
   ],
   "source": [
    "np.random.random((2,3))"
   ]
  },
  {
   "cell_type": "code",
   "execution_count": 82,
   "id": "278eb4e3-156c-40c5-a776-8a5aa0cfb397",
   "metadata": {},
   "outputs": [
    {
     "data": {
      "text/plain": [
       "array([[[0.16088569, 0.96920002, 0.12048066],\n",
       "        [0.71061159, 0.22302433, 0.92465405],\n",
       "        [0.00568583, 0.68615664, 0.77792677]],\n",
       "\n",
       "       [[0.35513371, 0.0293275 , 0.68566253],\n",
       "        [0.29049756, 0.33886332, 0.97829429],\n",
       "        [0.98946014, 0.14615963, 0.64101583]],\n",
       "\n",
       "       [[0.82866432, 0.2056226 , 0.3392275 ],\n",
       "        [0.6710358 , 0.0799861 , 0.85850466],\n",
       "        [0.04816045, 0.69036576, 0.90555153]]])"
      ]
     },
     "execution_count": 82,
     "metadata": {},
     "output_type": "execute_result"
    }
   ],
   "source": [
    "random.random(((3,3,3)))"
   ]
  },
  {
   "cell_type": "code",
   "execution_count": 84,
   "id": "2089ac33-e40c-41b5-805a-8489c72c3599",
   "metadata": {},
   "outputs": [
    {
     "data": {
      "text/plain": [
       "array([[[0.39979783, 0.16279539, 0.62566832],\n",
       "        [0.80841686, 0.38468527, 0.5693477 ],\n",
       "        [0.56185945, 0.73655012, 0.17686432]],\n",
       "\n",
       "       [[0.87160286, 0.58185986, 0.10635048],\n",
       "        [0.86935772, 0.06860758, 0.84216047],\n",
       "        [0.38686431, 0.0809544 , 0.80534535]],\n",
       "\n",
       "       [[0.0821053 , 0.48646732, 0.16613098],\n",
       "        [0.41894811, 0.42349232, 0.2093576 ],\n",
       "        [0.20738074, 0.86467868, 0.37934593]]])"
      ]
     },
     "execution_count": 84,
     "metadata": {},
     "output_type": "execute_result"
    }
   ],
   "source": [
    "random.random((3,3,3))"
   ]
  },
  {
   "cell_type": "code",
   "execution_count": null,
   "id": "fac68b04-a431-4df8-865c-91971e7ec42a",
   "metadata": {},
   "outputs": [],
   "source": []
  }
 ],
 "metadata": {
  "kernelspec": {
   "display_name": "Python 3 (ipykernel)",
   "language": "python",
   "name": "python3"
  },
  "language_info": {
   "codemirror_mode": {
    "name": "ipython",
    "version": 3
   },
   "file_extension": ".py",
   "mimetype": "text/x-python",
   "name": "python",
   "nbconvert_exporter": "python",
   "pygments_lexer": "ipython3",
   "version": "3.10.13"
  }
 },
 "nbformat": 4,
 "nbformat_minor": 5
}
