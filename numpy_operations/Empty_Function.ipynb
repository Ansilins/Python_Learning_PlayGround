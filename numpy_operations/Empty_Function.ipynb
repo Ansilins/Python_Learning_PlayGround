{
 "cells": [
  {
   "cell_type": "markdown",
   "id": "fc378eda-ba05-4f45-9b3c-29bb21edb1a0",
   "metadata": {},
   "source": [
    "<span style='font-size:larger;background-color:#333333; color:white'> Empty Function</span><br>\n",
    "<span style='font-size:larger'>syntax: np.empty(shape.dtype)</span><br>\n",
    "-Shape can give in list or tuple form <br>\n",
    "-The default datatype is float "
   ]
  },
  {
   "cell_type": "code",
   "execution_count": null,
   "id": "cfe0d83c-51e2-4248-8034-23771a04f9e5",
   "metadata": {},
   "outputs": [],
   "source": []
  }
 ],
 "metadata": {
  "kernelspec": {
   "display_name": "Python 3 (ipykernel)",
   "language": "python",
   "name": "python3"
  },
  "language_info": {
   "codemirror_mode": {
    "name": "ipython",
    "version": 3
   },
   "file_extension": ".py",
   "mimetype": "text/x-python",
   "name": "python",
   "nbconvert_exporter": "python",
   "pygments_lexer": "ipython3",
   "version": "3.10.13"
  }
 },
 "nbformat": 4,
 "nbformat_minor": 5
}
