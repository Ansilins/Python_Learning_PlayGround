{
 "cells": [
  {
   "cell_type": "markdown",
   "id": "2bb32ed7-964f-403e-bdc1-70f989cf835f",
   "metadata": {},
   "source": [
    "<span style=\"font-size:larger ; background-color:#333333; color:white\">Numpy - Full Array</span><br>\n",
    "<span style=\"font-size:larger ; background-color:#333333; color:white\">Full Array - An array in which all values are same(constant)</span>\n",
    "\n",
    "<span style=\"font-size:medium; background-color:#333333; color:white\">ZA = np.full(shape, fill_value)</span>\n",
    "\n",
    "<span style=\"font-size:small; background-color:#333333; color:white\">\n",
    "- We can ddefine the shape, and pass the value to be  filled in the 'Full Array'.<br>\n",
    "- We can create 1-D, 2-D, as well as 3-D Full Array, with integer, float or string values.<br>\n",
    "- The default data-type is integer.\n",
    "</span>\n"
   ]
  },
  {
   "cell_type": "code",
   "execution_count": null,
   "id": "fc18ef32-3007-4ffc-88a9-2e2dd0674fe7",
   "metadata": {},
   "outputs": [],
   "source": [
    "#creating a Full Array, of 1 dimension, with 79 at each position\n",
    "C1 = np.full(3,79)\n",
    "print(C1)"
   ]
  },
  {
   "cell_type": "code",
   "execution_count": null,
   "id": "8b045a90-510f-4a12-9062-41b62bc43e2f",
   "metadata": {},
   "outputs": [],
   "source": [
    "#Creating a Full Array of 1 diension, with 79 and the data type as float.\n",
    "C1 = np.full(3,79,dtype=float)\n",
    "print(C1)"
   ]
  },
  {
   "cell_type": "code",
   "execution_count": null,
   "id": "da5f2cfc-ebf6-48bd-bbe3-059ab11421dc",
   "metadata": {},
   "outputs": [],
   "source": [
    "#checking the type of C1\n",
    "type(C1)"
   ]
  },
  {
   "cell_type": "code",
   "execution_count": null,
   "id": "af15942c-2dcf-4a24-a19c-ecd20d9ff668",
   "metadata": {},
   "outputs": [],
   "source": [
    "#checking the dimension of C1\n",
    "C1.ndim"
   ]
  },
  {
   "cell_type": "code",
   "execution_count": null,
   "id": "8992f99e-72b5-494e-a882-6b1639327a9a",
   "metadata": {},
   "outputs": [],
   "source": [
    "#creating a full array, of 1 dimension with 99.9 at each position\n",
    "C2 = np.full((2,3), 99.9)\n",
    "print(C2)"
   ]
  },
  {
   "cell_type": "code",
   "execution_count": null,
   "id": "4975bb69-4b29-491e-aa4e-603f40e2c312",
   "metadata": {},
   "outputs": [],
   "source": [
    "#creating a full array, of 2 dimension with data type as int \n",
    "C2 = np.full((2,3), 99.9, dtype=int)\n",
    "print(C2)"
   ]
  },
  {
   "cell_type": "code",
   "execution_count": null,
   "id": "19261051-6284-4776-b7f1-5700735583e9",
   "metadata": {},
   "outputs": [],
   "source": [
    "#creating a full array of 2 dimension with data type as string \n",
    "C2 = np.full((2,3), 99.9, dtype=str)\n",
    "print(C2)"
   ]
  },
  {
   "cell_type": "code",
   "execution_count": null,
   "id": "b6fe0228-2b73-484f-8a12-8b7c834fca14",
   "metadata": {},
   "outputs": [],
   "source": [
    "#checking the shape of 'C2'\n",
    "C2.shape"
   ]
  },
  {
   "cell_type": "code",
   "execution_count": null,
   "id": "fff94efa-9f6a-471d-a99a-bafdc434ef4a",
   "metadata": {},
   "outputs": [],
   "source": [
    "#creating a full array with string datatype, of 3 dimensions with \"python\" at each position\n",
    "C3 = np.full((2,3,4), 'python')\n",
    "print(C3)"
   ]
  },
  {
   "cell_type": "code",
   "execution_count": null,
   "id": "13cfe2a7-ca18-4562-9559-66d8607a97a2",
   "metadata": {},
   "outputs": [],
   "source": [
    "C3.size"
   ]
  },
  {
   "cell_type": "code",
   "execution_count": null,
   "id": "37b45156-8be8-4afc-85cc-c3a161385a0c",
   "metadata": {},
   "outputs": [],
   "source": [
    "#checking the dimension of C3, with new method. \n",
    "np.ndim(C3)x"
   ]
  },
  {
   "cell_type": "code",
   "execution_count": null,
   "id": "b689eba1-a8b6-4804-b316-07120ef76b5a",
   "metadata": {},
   "outputs": [],
   "source": []
  },
  {
   "cell_type": "code",
   "execution_count": null,
   "id": "62e4b36b-cd34-4740-88bc-86dd55aca606",
   "metadata": {},
   "outputs": [],
   "source": []
  },
  {
   "cell_type": "code",
   "execution_count": null,
   "id": "9c9fdb34-c53c-446d-955e-0788ff566c9b",
   "metadata": {},
   "outputs": [],
   "source": []
  },
  {
   "cell_type": "code",
   "execution_count": null,
   "id": "e9678aa5-e3da-4481-935d-00e090f1b9f4",
   "metadata": {},
   "outputs": [],
   "source": []
  },
  {
   "cell_type": "code",
   "execution_count": null,
   "id": "3f8224cb-44c2-41af-be31-eccffda1132a",
   "metadata": {},
   "outputs": [],
   "source": []
  }
 ],
 "metadata": {
  "kernelspec": {
   "display_name": "Python 3 (ipykernel)",
   "language": "python",
   "name": "python3"
  },
  "language_info": {
   "codemirror_mode": {
    "name": "ipython",
    "version": 3
   },
   "file_extension": ".py",
   "mimetype": "text/x-python",
   "name": "python",
   "nbconvert_exporter": "python",
   "pygments_lexer": "ipython3",
   "version": "3.10.13"
  }
 },
 "nbformat": 4,
 "nbformat_minor": 5
}
