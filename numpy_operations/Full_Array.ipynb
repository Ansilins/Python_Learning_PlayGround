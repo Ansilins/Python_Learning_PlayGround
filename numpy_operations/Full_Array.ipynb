{
 "cells": [
  {
   "cell_type": "markdown",
   "id": "2bb32ed7-964f-403e-bdc1-70f989cf835f",
   "metadata": {},
   "source": [
    "<span style=\"font-size:larger ; background-color:#333333; color:white\">Numpy - Full Array</span><br>\n",
    "<span style=\"font-size:larger ; background-color:#333333; color:white\">Full Array - An array in which all values are same(constant)</span>\n",
    "\n",
    "<span style=\"font-size:medium; background-color:#333333; color:white\">ZA = np.full(shape, fill_value)</span>\n",
    "\n",
    "<span style=\"font-size:small; background-color:#333333; color:white\">\n",
    "- We can ddefine the shape, and pass the value to be  filled in the 'Full Array'.<br>\n",
    "- We can create 1-D, 2-D, as well as 3-D Full Array, with integer, float or string values.<br>\n",
    "- The default data-type is integer.\n",
    "</span>\n"
   ]
  },
  {
   "cell_type": "code",
   "execution_count": 1,
   "id": "80e9aa6e-bc97-4bf1-bc51-a16e967b2b4e",
   "metadata": {},
   "outputs": [],
   "source": [
    "import numpy as np"
   ]
  },
  {
   "cell_type": "code",
   "execution_count": 2,
   "id": "fc18ef32-3007-4ffc-88a9-2e2dd0674fe7",
   "metadata": {},
   "outputs": [
    {
     "name": "stdout",
     "output_type": "stream",
     "text": [
      "[79 79 79]\n"
     ]
    }
   ],
   "source": [
    "#creating a Full Array, of 1 dimension, with 79 at each position\n",
    "C1 = np.full(3,79)\n",
    "print(C1)"
   ]
  },
  {
   "cell_type": "code",
   "execution_count": 3,
   "id": "8b045a90-510f-4a12-9062-41b62bc43e2f",
   "metadata": {},
   "outputs": [
    {
     "name": "stdout",
     "output_type": "stream",
     "text": [
      "[79. 79. 79.]\n"
     ]
    }
   ],
   "source": [
    "#Creating a Full Array of 1 diension, with 79 and the data type as float.\n",
    "C1 = np.full(3,79,dtype=float)\n",
    "print(C1)"
   ]
  },
  {
   "cell_type": "code",
   "execution_count": 4,
   "id": "da5f2cfc-ebf6-48bd-bbe3-059ab11421dc",
   "metadata": {},
   "outputs": [
    {
     "data": {
      "text/plain": [
       "numpy.ndarray"
      ]
     },
     "execution_count": 4,
     "metadata": {},
     "output_type": "execute_result"
    }
   ],
   "source": [
    "#checking the type of C1\n",
    "type(C1)"
   ]
  },
  {
   "cell_type": "code",
   "execution_count": 5,
   "id": "af15942c-2dcf-4a24-a19c-ecd20d9ff668",
   "metadata": {},
   "outputs": [
    {
     "data": {
      "text/plain": [
       "1"
      ]
     },
     "execution_count": 5,
     "metadata": {},
     "output_type": "execute_result"
    }
   ],
   "source": [
    "#checking the dimension of C1\n",
    "C1.ndim"
   ]
  },
  {
   "cell_type": "code",
   "execution_count": 6,
   "id": "8992f99e-72b5-494e-a882-6b1639327a9a",
   "metadata": {},
   "outputs": [
    {
     "name": "stdout",
     "output_type": "stream",
     "text": [
      "[[99.9 99.9 99.9]\n",
      " [99.9 99.9 99.9]]\n"
     ]
    }
   ],
   "source": [
    "#creating a full array, of 1 dimension with 99.9 at each position\n",
    "C2 = np.full((2,3), 99.9)\n",
    "print(C2)"
   ]
  },
  {
   "cell_type": "code",
   "execution_count": 7,
   "id": "4975bb69-4b29-491e-aa4e-603f40e2c312",
   "metadata": {},
   "outputs": [
    {
     "name": "stdout",
     "output_type": "stream",
     "text": [
      "[[99 99 99]\n",
      " [99 99 99]]\n"
     ]
    }
   ],
   "source": [
    "#creating a full array, of 2 dimension with data type as int \n",
    "C2 = np.full((2,3), 99.9, dtype=int)\n",
    "print(C2)"
   ]
  },
  {
   "cell_type": "code",
   "execution_count": 8,
   "id": "19261051-6284-4776-b7f1-5700735583e9",
   "metadata": {},
   "outputs": [
    {
     "name": "stdout",
     "output_type": "stream",
     "text": [
      "[['9' '9' '9']\n",
      " ['9' '9' '9']]\n"
     ]
    }
   ],
   "source": [
    "#creating a full array of 2 dimension with data type as string \n",
    "C2 = np.full((2,3), 99.9, dtype=str)\n",
    "print(C2)"
   ]
  },
  {
   "cell_type": "code",
   "execution_count": 9,
   "id": "b6fe0228-2b73-484f-8a12-8b7c834fca14",
   "metadata": {},
   "outputs": [
    {
     "data": {
      "text/plain": [
       "(2, 3)"
      ]
     },
     "execution_count": 9,
     "metadata": {},
     "output_type": "execute_result"
    }
   ],
   "source": [
    "#checking the shape of 'C2'\n",
    "C2.shape"
   ]
  },
  {
   "cell_type": "code",
   "execution_count": 10,
   "id": "fff94efa-9f6a-471d-a99a-bafdc434ef4a",
   "metadata": {},
   "outputs": [
    {
     "name": "stdout",
     "output_type": "stream",
     "text": [
      "[[['python' 'python' 'python' 'python']\n",
      "  ['python' 'python' 'python' 'python']\n",
      "  ['python' 'python' 'python' 'python']]\n",
      "\n",
      " [['python' 'python' 'python' 'python']\n",
      "  ['python' 'python' 'python' 'python']\n",
      "  ['python' 'python' 'python' 'python']]]\n"
     ]
    }
   ],
   "source": [
    "#creating a full array with string datatype, of 3 dimensions with \"python\" at each position\n",
    "C3 = np.full((2,3,4), 'python')\n",
    "print(C3)"
   ]
  },
  {
   "cell_type": "code",
   "execution_count": 11,
   "id": "13cfe2a7-ca18-4562-9559-66d8607a97a2",
   "metadata": {},
   "outputs": [
    {
     "data": {
      "text/plain": [
       "24"
      ]
     },
     "execution_count": 11,
     "metadata": {},
     "output_type": "execute_result"
    }
   ],
   "source": [
    "C3.size"
   ]
  },
  {
   "cell_type": "code",
   "execution_count": 13,
   "id": "37b45156-8be8-4afc-85cc-c3a161385a0c",
   "metadata": {},
   "outputs": [
    {
     "data": {
      "text/plain": [
       "3"
      ]
     },
     "execution_count": 13,
     "metadata": {},
     "output_type": "execute_result"
    }
   ],
   "source": [
    "#checking the dimension of C3, with new method. \n",
    "np.ndim(C3)"
   ]
  }
 ],
 "metadata": {
  "kernelspec": {
   "display_name": "Python 3 (ipykernel)",
   "language": "python",
   "name": "python3"
  },
  "language_info": {
   "codemirror_mode": {
    "name": "ipython",
    "version": 3
   },
   "file_extension": ".py",
   "mimetype": "text/x-python",
   "name": "python",
   "nbconvert_exporter": "python",
   "pygments_lexer": "ipython3",
   "version": "3.10.13"
  }
 },
 "nbformat": 4,
 "nbformat_minor": 5
}
