{
 "cells": [
  {
   "cell_type": "markdown",
   "id": "5e70117c-25a4-4bb8-b085-f71cff7b4d84",
   "metadata": {},
   "source": [
    "<span style=\"font-size:larger; background-color:#333333; color:white\">Numpy Basics: 1-D, 2-D, 3-D Arrays</span><br>\n",
    "<span style=\"font-size:medium; background-color:#333333; color:white\">Numpy Arrays: 1-D, 2-D, 3-D Arrays</span>"
   ]
  },
  {
   "cell_type": "code",
   "execution_count": 3,
   "id": "081e0d14-8233-4aa7-8a6f-0318035d0bbd",
   "metadata": {},
   "outputs": [],
   "source": [
    "#importing Numpy.\n",
    "import numpy as np"
   ]
  },
  {
   "cell_type": "code",
   "execution_count": 4,
   "id": "78fa87e6-b737-42c7-9629-54f28da56454",
   "metadata": {},
   "outputs": [],
   "source": [
    "# Create a NumPy array named A1 containing the elements.\n",
    "A1 = np.array([1,2,3,4,5])"
   ]
  },
  {
   "cell_type": "code",
   "execution_count": 5,
   "id": "24136d33-17e1-4677-ba69-602b533a1593",
   "metadata": {},
   "outputs": [
    {
     "name": "stdout",
     "output_type": "stream",
     "text": [
      "[1 2 3 4 5]\n"
     ]
    }
   ],
   "source": [
    "#print the Numpy array.\n",
    "print(A1)"
   ]
  },
  {
   "cell_type": "code",
   "execution_count": 6,
   "id": "90ee0aa5-a337-4ab9-aae9-939f4ea13d34",
   "metadata": {},
   "outputs": [
    {
     "data": {
      "text/plain": [
       "numpy.ndarray"
      ]
     },
     "execution_count": 6,
     "metadata": {},
     "output_type": "execute_result"
    }
   ],
   "source": [
    "#Check the type of the variable A1.\n",
    "type(A1) "
   ]
  },
  {
   "cell_type": "code",
   "execution_count": 7,
   "id": "497ebcf8-4ca6-4e11-a345-e2eed135e055",
   "metadata": {},
   "outputs": [
    {
     "data": {
      "text/plain": [
       "(5,)"
      ]
     },
     "execution_count": 7,
     "metadata": {},
     "output_type": "execute_result"
    }
   ],
   "source": [
    "#check the shape of the variable A1.\n",
    "A1.shape"
   ]
  },
  {
   "cell_type": "code",
   "execution_count": 8,
   "id": "bd07362c-bb6d-497e-beef-bf8df08fbbca",
   "metadata": {},
   "outputs": [
    {
     "data": {
      "text/plain": [
       "5"
      ]
     },
     "execution_count": 8,
     "metadata": {},
     "output_type": "execute_result"
    }
   ],
   "source": [
    "#check the size of the variable A1.\n",
    "A1.size"
   ]
  },
  {
   "cell_type": "code",
   "execution_count": 9,
   "id": "cd35d588-1be2-4814-8c27-6ebbb7d0092c",
   "metadata": {},
   "outputs": [],
   "source": [
    "#Create a NumPy array named A2 containing a 2D array with two rows and four columns.\n",
    "A2 = np.array([[1,3,4,5], [1,2,4,5,]])"
   ]
  },
  {
   "cell_type": "code",
   "execution_count": 10,
   "id": "d2a8ebbc-08c6-42b2-97b9-94832d25baec",
   "metadata": {},
   "outputs": [
    {
     "data": {
      "text/plain": [
       "2"
      ]
     },
     "execution_count": 10,
     "metadata": {},
     "output_type": "execute_result"
    }
   ],
   "source": [
    "#Check the number of dimensions of the NumPy array A2.\n",
    "A2.ndim"
   ]
  },
  {
   "cell_type": "code",
   "execution_count": 11,
   "id": "64a65f4a-e7e9-493e-a671-a2459ad743e6",
   "metadata": {},
   "outputs": [
    {
     "data": {
      "text/plain": [
       "8"
      ]
     },
     "execution_count": 11,
     "metadata": {},
     "output_type": "execute_result"
    }
   ],
   "source": [
    "#check the size of the variable A2.\n",
    "A2.size"
   ]
  },
  {
   "cell_type": "code",
   "execution_count": 12,
   "id": "ee8e1fb9-b69d-4086-8bc8-e445dbf9ab68",
   "metadata": {},
   "outputs": [],
   "source": [
    "#Create a NumPy array named A3 containing a 3D array with two rows and four columns.\n",
    "A3 = np.array([[[2,3,4], [2,3,4], [3,4,5]]])"
   ]
  },
  {
   "cell_type": "code",
   "execution_count": 13,
   "id": "27d5d43d-bce4-49bb-abc1-756ad8ccb894",
   "metadata": {},
   "outputs": [
    {
     "name": "stdout",
     "output_type": "stream",
     "text": [
      "[[[2 3 4]\n",
      "  [2 3 4]\n",
      "  [3 4 5]]]\n"
     ]
    }
   ],
   "source": [
    "#print the Numpy array.\n",
    "print(A3)"
   ]
  },
  {
   "cell_type": "code",
   "execution_count": 14,
   "id": "ba226516-0063-4d1e-9850-3d298b684405",
   "metadata": {},
   "outputs": [
    {
     "data": {
      "text/plain": [
       "9"
      ]
     },
     "execution_count": 14,
     "metadata": {},
     "output_type": "execute_result"
    }
   ],
   "source": [
    "#check the size of the variable A3.\n",
    "A3.size"
   ]
  },
  {
   "cell_type": "code",
   "execution_count": 15,
   "id": "6835a48e-c2ad-4eff-a83e-5a1595948d62",
   "metadata": {},
   "outputs": [
    {
     "data": {
      "text/plain": [
       "(1, 3, 3)"
      ]
     },
     "execution_count": 15,
     "metadata": {},
     "output_type": "execute_result"
    }
   ],
   "source": [
    "#check the size of the variable A3.\n",
    "A3.shape"
   ]
  },
  {
   "cell_type": "code",
   "execution_count": 16,
   "id": "be937f6f-7bb6-41a3-b66d-fbf3b5d1214b",
   "metadata": {},
   "outputs": [
    {
     "data": {
      "text/plain": [
       "numpy.ndarray"
      ]
     },
     "execution_count": 16,
     "metadata": {},
     "output_type": "execute_result"
    }
   ],
   "source": [
    "#check the type of the variabe A3.\n",
    "type(A3)"
   ]
  }
 ],
 "metadata": {
  "kernelspec": {
   "display_name": "Python 3 (ipykernel)",
   "language": "python",
   "name": "python3"
  },
  "language_info": {
   "codemirror_mode": {
    "name": "ipython",
    "version": 3
   },
   "file_extension": ".py",
   "mimetype": "text/x-python",
   "name": "python",
   "nbconvert_exporter": "python",
   "pygments_lexer": "ipython3",
   "version": "3.10.13"
  }
 },
 "nbformat": 4,
 "nbformat_minor": 5
}
