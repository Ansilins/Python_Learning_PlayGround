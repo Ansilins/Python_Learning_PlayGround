{
 "cells": [
  {
   "cell_type": "markdown",
   "id": "6eba7f5b-943d-420f-8395-3a5da8d2278d",
   "metadata": {},
   "source": [
    "<span style=\"font-size:larger; background-color:#333333; color:white\">Numpy Basics</span> \n",
    "\n",
    "<span style=\"font-size:small; background-color:#333333; color:white\">\n",
    "1. Array <br>\n",
    "2. Array Attributes - Shape, Reshape, Size, Dimension, Dtype. <br>\n",
    "3. 1-D Array <br>\n",
    "4. 2-D Array <br>\n",
    "5. 3-D Array <br>\n",
    "6. Zeros Array <br>\n",
    "7. Ones Array <br>\n",
    "8. Full Array <br>\n",
    "9. Random Function <br>\n",
    "10. Linspace Function <br>\n",
    "</span>"
   ]
  },
  {
   "cell_type": "code",
   "execution_count": 3,
   "id": "081e0d14-8233-4aa7-8a6f-0318035d0bbd",
   "metadata": {},
   "outputs": [],
   "source": [
    "#importing Numpy.\n",
    "import numpy as np"
   ]
  },
  {
   "cell_type": "markdown",
   "id": "5e70117c-25a4-4bb8-b085-f71cff7b4d84",
   "metadata": {},
   "source": [
    "<span style=\"font-size:larger; background-color:#333333; color:white\">Numpy Arrays: 1-D, 2-D, 3-D Arrays</span>"
   ]
  },
  {
   "cell_type": "code",
   "execution_count": 2,
   "id": "78fa87e6-b737-42c7-9629-54f28da56454",
   "metadata": {},
   "outputs": [],
   "source": [
    "# Create a NumPy array named A1 containing the elements.\n",
    "A1 = np.array([1,2,3,4,5])"
   ]
  },
  {
   "cell_type": "code",
   "execution_count": 3,
   "id": "24136d33-17e1-4677-ba69-602b533a1593",
   "metadata": {},
   "outputs": [
    {
     "name": "stdout",
     "output_type": "stream",
     "text": [
      "[1 2 3 4 5]\n"
     ]
    }
   ],
   "source": [
    "#print the Numpy array.\n",
    "print(A1)"
   ]
  },
  {
   "cell_type": "code",
   "execution_count": 4,
   "id": "90ee0aa5-a337-4ab9-aae9-939f4ea13d34",
   "metadata": {},
   "outputs": [
    {
     "data": {
      "text/plain": [
       "numpy.ndarray"
      ]
     },
     "execution_count": 4,
     "metadata": {},
     "output_type": "execute_result"
    }
   ],
   "source": [
    "#Check the type of the variable A1.\n",
    "type(A1) "
   ]
  },
  {
   "cell_type": "code",
   "execution_count": 5,
   "id": "497ebcf8-4ca6-4e11-a345-e2eed135e055",
   "metadata": {},
   "outputs": [
    {
     "data": {
      "text/plain": [
       "(5,)"
      ]
     },
     "execution_count": 5,
     "metadata": {},
     "output_type": "execute_result"
    }
   ],
   "source": [
    "#check the shape of the variable A1.\n",
    "A1.shape"
   ]
  },
  {
   "cell_type": "code",
   "execution_count": 6,
   "id": "bd07362c-bb6d-497e-beef-bf8df08fbbca",
   "metadata": {},
   "outputs": [
    {
     "data": {
      "text/plain": [
       "5"
      ]
     },
     "execution_count": 6,
     "metadata": {},
     "output_type": "execute_result"
    }
   ],
   "source": [
    "#check the size of the variable A1.\n",
    "A1.size"
   ]
  },
  {
   "cell_type": "code",
   "execution_count": 7,
   "id": "cd35d588-1be2-4814-8c27-6ebbb7d0092c",
   "metadata": {},
   "outputs": [],
   "source": [
    "#Create a NumPy array named A2 containing a 2D array with two rows and four columns.\n",
    "A2 = np.array([[1,3,4,5], [1,2,4,5,]])"
   ]
  },
  {
   "cell_type": "code",
   "execution_count": 8,
   "id": "d2a8ebbc-08c6-42b2-97b9-94832d25baec",
   "metadata": {},
   "outputs": [
    {
     "data": {
      "text/plain": [
       "2"
      ]
     },
     "execution_count": 8,
     "metadata": {},
     "output_type": "execute_result"
    }
   ],
   "source": [
    "#Check the number of dimensions of the NumPy array A2.\n",
    "A2.ndim"
   ]
  },
  {
   "cell_type": "code",
   "execution_count": 9,
   "id": "64a65f4a-e7e9-493e-a671-a2459ad743e6",
   "metadata": {},
   "outputs": [
    {
     "data": {
      "text/plain": [
       "8"
      ]
     },
     "execution_count": 9,
     "metadata": {},
     "output_type": "execute_result"
    }
   ],
   "source": [
    "#check the size of the variable A2.\n",
    "A2.size"
   ]
  },
  {
   "cell_type": "code",
   "execution_count": 10,
   "id": "ee8e1fb9-b69d-4086-8bc8-e445dbf9ab68",
   "metadata": {},
   "outputs": [],
   "source": [
    "#Create a NumPy array named A3 containing a 3D array with two rows and four columns.\n",
    "A3 = np.array([[[2,3,4], [2,3,4], [3,4,5]]])"
   ]
  },
  {
   "cell_type": "code",
   "execution_count": 11,
   "id": "27d5d43d-bce4-49bb-abc1-756ad8ccb894",
   "metadata": {},
   "outputs": [
    {
     "name": "stdout",
     "output_type": "stream",
     "text": [
      "[[[2 3 4]\n",
      "  [2 3 4]\n",
      "  [3 4 5]]]\n"
     ]
    }
   ],
   "source": [
    "#print the Numpy array.\n",
    "print(A3)"
   ]
  },
  {
   "cell_type": "code",
   "execution_count": 12,
   "id": "ba226516-0063-4d1e-9850-3d298b684405",
   "metadata": {},
   "outputs": [
    {
     "data": {
      "text/plain": [
       "9"
      ]
     },
     "execution_count": 12,
     "metadata": {},
     "output_type": "execute_result"
    }
   ],
   "source": [
    "#check the size of the variable A3.\n",
    "A3.size"
   ]
  },
  {
   "cell_type": "code",
   "execution_count": 13,
   "id": "6835a48e-c2ad-4eff-a83e-5a1595948d62",
   "metadata": {},
   "outputs": [
    {
     "data": {
      "text/plain": [
       "(1, 3, 3)"
      ]
     },
     "execution_count": 13,
     "metadata": {},
     "output_type": "execute_result"
    }
   ],
   "source": [
    "#check the size of the variable A3.\n",
    "A3.shape"
   ]
  },
  {
   "cell_type": "code",
   "execution_count": 14,
   "id": "be937f6f-7bb6-41a3-b66d-fbf3b5d1214b",
   "metadata": {},
   "outputs": [
    {
     "data": {
      "text/plain": [
       "numpy.ndarray"
      ]
     },
     "execution_count": 14,
     "metadata": {},
     "output_type": "execute_result"
    }
   ],
   "source": [
    "#check the type of the variabe A3.\n",
    "type(A3)"
   ]
  },
  {
   "cell_type": "markdown",
   "id": "e1c2e7ba-53cc-4302-968e-033c6f95d61c",
   "metadata": {},
   "source": []
  },
  {
   "cell_type": "code",
   "execution_count": null,
   "id": "6c5a453d-b6ba-4475-8e5b-d4040a06eef5",
   "metadata": {},
   "outputs": [],
   "source": []
  },
  {
   "cell_type": "markdown",
   "id": "94010de1-160e-4b37-a9a0-09605fb5bd57",
   "metadata": {},
   "source": [
    "---------------------------------------------------------------------------------------------------------------------------------------------"
   ]
  },
  {
   "cell_type": "markdown",
   "id": "74e5cfb7-5994-4dc0-aeba-1d76fe04008e",
   "metadata": {},
   "source": []
  },
  {
   "cell_type": "code",
   "execution_count": 2,
   "id": "1f11de30-3782-4802-9d4a-0707a2fe3aa3",
   "metadata": {},
   "outputs": [],
   "source": [
    "#importing the numpy library\n",
    "import numpy as np"
   ]
  },
  {
   "cell_type": "code",
   "execution_count": 3,
   "id": "672fe871-555f-4e14-844d-7c5dbd608197",
   "metadata": {},
   "outputs": [],
   "source": [
    "#from numpy library, importing the random module \n",
    "from numpy import random"
   ]
  },
  {
   "cell_type": "markdown",
   "id": "339db4f3-5872-4e40-80e9-4a68a8cb21f1",
   "metadata": {},
   "source": [
    "<span style=\"font-size:larger ;  color:black\">1. Random Function</span><br>\n",
    "It returns random float number(s) between 0 and 1."
   ]
  },
  {
   "cell_type": "code",
   "execution_count": 73,
   "id": "02bd31be-67eb-4bbb-aab1-f9de6824f7ca",
   "metadata": {},
   "outputs": [
    {
     "data": {
      "text/plain": [
       "0.890743225050126"
      ]
     },
     "execution_count": 73,
     "metadata": {},
     "output_type": "execute_result"
    }
   ],
   "source": [
    "np.random.random()"
   ]
  },
  {
   "cell_type": "code",
   "execution_count": 77,
   "id": "f732e237-8b07-45b6-b3e8-7237e6798235",
   "metadata": {},
   "outputs": [
    {
     "data": {
      "text/plain": [
       "array([0.12058427, 0.08957807, 0.62061146, 0.1349687 ])"
      ]
     },
     "execution_count": 77,
     "metadata": {},
     "output_type": "execute_result"
    }
   ],
   "source": [
    "np.random.random(4)"
   ]
  },
  {
   "cell_type": "code",
   "execution_count": 79,
   "id": "fc8a0d35-ce99-4178-82c3-93d36f631156",
   "metadata": {},
   "outputs": [
    {
     "data": {
      "text/plain": [
       "array([[0.8778371 , 0.9475572 , 0.61556616],\n",
       "       [0.137471  , 0.52102531, 0.16051855]])"
      ]
     },
     "execution_count": 79,
     "metadata": {},
     "output_type": "execute_result"
    }
   ],
   "source": [
    "np.random.random((2,3))"
   ]
  },
  {
   "cell_type": "markdown",
   "id": "a4654087-e006-4f0b-b222-11e47a715d71",
   "metadata": {},
   "source": [
    "random.random(((3,3,3)))"
   ]
  },
  {
   "cell_type": "code",
   "execution_count": 4,
   "id": "2089ac33-e40c-41b5-805a-8489c72c3599",
   "metadata": {},
   "outputs": [
    {
     "data": {
      "text/plain": [
       "array([[[0.9494507 , 0.11600265, 0.05387388, 0.20251036, 0.03959577],\n",
       "        [0.00896619, 0.55698511, 0.43870684, 0.47477408, 0.82639191],\n",
       "        [0.76351873, 0.75894225, 0.41189692, 0.53669228, 0.19490883]],\n",
       "\n",
       "       [[0.84558864, 0.4080591 , 0.27108785, 0.61881349, 0.067901  ],\n",
       "        [0.68815087, 0.05687113, 0.34810072, 0.96626304, 0.72583748],\n",
       "        [0.16513146, 0.8763876 , 0.86803267, 0.98284902, 0.5486939 ]]])"
      ]
     },
     "execution_count": 4,
     "metadata": {},
     "output_type": "execute_result"
    }
   ],
   "source": [
    "random.random((2,3,5))"
   ]
  },
  {
   "cell_type": "markdown",
   "id": "953dde12-7786-400b-bcd8-cc7994519298",
   "metadata": {},
   "source": [
    "---------------------------------------------------------------------------------------------------------------------------------------------"
   ]
  },
  {
   "cell_type": "markdown",
   "id": "a0f5a810-f5f5-49d1-bc84-d119ef3923aa",
   "metadata": {},
   "source": [
    "<span style=\"font-size:larger ;  color:black\">2. Randint Function</span><br>\n",
    "-It generates random integer numbers between given range. <br>\n",
    "-By default, the range starts from 0.<br>\n",
    "-The numbers can repeat."
   ]
  },
  {
   "cell_type": "code",
   "execution_count": 9,
   "id": "8a7b4f3b-268b-4548-a704-9bf0de78e70a",
   "metadata": {},
   "outputs": [
    {
     "data": {
      "text/plain": [
       "6"
      ]
     },
     "execution_count": 9,
     "metadata": {},
     "output_type": "execute_result"
    }
   ],
   "source": [
    "random.randint(2,13)"
   ]
  },
  {
   "cell_type": "code",
   "execution_count": 14,
   "id": "838770ab-b996-44e5-9db4-cf5fe4824131",
   "metadata": {},
   "outputs": [
    {
     "data": {
      "text/plain": [
       "array([13, 13,  8, 16,  8])"
      ]
     },
     "execution_count": 14,
     "metadata": {},
     "output_type": "execute_result"
    }
   ],
   "source": [
    "random.randint(2,20,5)"
   ]
  },
  {
   "cell_type": "code",
   "execution_count": 16,
   "id": "5f2feb7f-d5fc-444d-a4c1-1c48e648d0cc",
   "metadata": {},
   "outputs": [
    {
     "data": {
      "text/plain": [
       "2"
      ]
     },
     "execution_count": 16,
     "metadata": {},
     "output_type": "execute_result"
    }
   ],
   "source": [
    "random.randint(4)"
   ]
  },
  {
   "cell_type": "markdown",
   "id": "bdbe64e4-69ac-4fdb-beed-563c04b95954",
   "metadata": {},
   "source": [
    "---------------------------------------------------------------------------------------------------------------------------------------------"
   ]
  },
  {
   "cell_type": "markdown",
   "id": "e80cbab9-048f-41a5-ae8b-6a0784871eb3",
   "metadata": {},
   "source": [
    "<span style='font-size:larger ; color:black'>3. Rand Function </span><br>\n",
    "It returns random floar numbers between 0 and 1"
   ]
  },
  {
   "cell_type": "code",
   "execution_count": 22,
   "id": "52bb3536-ef48-4edb-9e5b-ce3c4128046e",
   "metadata": {},
   "outputs": [
    {
     "data": {
      "text/plain": [
       "0.902079472614698"
      ]
     },
     "execution_count": 22,
     "metadata": {},
     "output_type": "execute_result"
    }
   ],
   "source": [
    "random.rand()"
   ]
  },
  {
   "cell_type": "code",
   "execution_count": 23,
   "id": "4cc58b86-2e83-4ed4-ab50-85935acf76cb",
   "metadata": {},
   "outputs": [
    {
     "data": {
      "text/plain": [
       "array([0.2913952 , 0.65915336, 0.83081173, 0.75047717])"
      ]
     },
     "execution_count": 23,
     "metadata": {},
     "output_type": "execute_result"
    }
   ],
   "source": [
    "np.random.rand(4)"
   ]
  },
  {
   "cell_type": "code",
   "execution_count": 24,
   "id": "f140b253-1b79-4bfc-adb9-ae71d957caed",
   "metadata": {},
   "outputs": [
    {
     "data": {
      "text/plain": [
       "array([[0.98409065, 0.76771711, 0.7844836 ],\n",
       "       [0.30141106, 0.01738509, 0.96454336]])"
      ]
     },
     "execution_count": 24,
     "metadata": {},
     "output_type": "execute_result"
    }
   ],
   "source": [
    "random.rand(2,3)"
   ]
  },
  {
   "cell_type": "code",
   "execution_count": 25,
   "id": "6880162d-7f04-41c0-a7c7-77e5b32f7b2c",
   "metadata": {},
   "outputs": [
    {
     "data": {
      "text/plain": [
       "array([[[0.1453006 , 0.23685648, 0.86803028, 0.17458674, 0.89210906],\n",
       "        [0.59260807, 0.73637715, 0.87538061, 0.1075027 , 0.5821254 ],\n",
       "        [0.70517858, 0.17976635, 0.59172474, 0.92271914, 0.70277193]],\n",
       "\n",
       "       [[0.94701399, 0.74759603, 0.30584265, 0.90300277, 0.74969341],\n",
       "        [0.34943254, 0.43254502, 0.4320307 , 0.5995874 , 0.95076259],\n",
       "        [0.32976877, 0.52159125, 0.57150815, 0.4043727 , 0.88883577]]])"
      ]
     },
     "execution_count": 25,
     "metadata": {},
     "output_type": "execute_result"
    }
   ],
   "source": [
    "random.rand(2,3,5)"
   ]
  },
  {
   "cell_type": "markdown",
   "id": "15535d05-764f-4a4a-a9d8-264ed3199cbc",
   "metadata": {},
   "source": [
    "---------------------------------------------------------------------------------------------------------------------------------------------"
   ]
  },
  {
   "cell_type": "markdown",
   "id": "58ff7731-2ec8-48cd-9d4d-0e16f2445b58",
   "metadata": {},
   "source": [
    "<span style='font-size:larger ; color:black'>4. Randn Function </span><br>\n",
    "It returns random float numbers (Positive and negative both) in the form of array."
   ]
  },
  {
   "cell_type": "code",
   "execution_count": 10,
   "id": "878cd65b-3384-4b46-9bfd-e6333537b0ff",
   "metadata": {},
   "outputs": [
    {
     "data": {
      "text/plain": [
       "1.0117858104924193"
      ]
     },
     "execution_count": 10,
     "metadata": {},
     "output_type": "execute_result"
    }
   ],
   "source": [
    "random.randn()"
   ]
  },
  {
   "cell_type": "markdown",
   "id": "4c5ecfa9-f8cd-448c-a189-7e6112a64d69",
   "metadata": {},
   "source": [
    "random.randn(4)"
   ]
  },
  {
   "cell_type": "code",
   "execution_count": 12,
   "id": "757b3902-52c0-4ce8-a19f-a68a7a493ad3",
   "metadata": {},
   "outputs": [
    {
     "data": {
      "text/plain": [
       "array([[-1.20069145, -0.03472116,  0.22668206,  1.4916043 ,  1.63323661],\n",
       "       [ 0.43315079, -1.11374784,  0.88312598,  0.19682902,  2.24461767],\n",
       "       [ 0.28102145, -0.35503167, -0.64658351, -0.35863829, -1.03521524]])"
      ]
     },
     "execution_count": 12,
     "metadata": {},
     "output_type": "execute_result"
    }
   ],
   "source": [
    "random.randn(3,5)"
   ]
  },
  {
   "cell_type": "markdown",
   "id": "cfe88c56-c60d-423f-a7ab-c77f0e1368f4",
   "metadata": {},
   "source": [
    "random.randn(4,2,3)"
   ]
  },
  {
   "cell_type": "markdown",
   "id": "fa6de70d-988f-4c6e-890b-0a69a657d60c",
   "metadata": {},
   "source": [
    "---------------------------------------------------------------------------------------------------------------------------------------------"
   ]
  },
  {
   "cell_type": "markdown",
   "id": "bdf90a6f-0a92-497e-a1b3-56e2812ac325",
   "metadata": {},
   "source": [
    "<span style='font-size:larger ; color:black'> 5.Uniform Function </span><br>\n",
    "-It returns random float numbers between the given range of values.<br>\n",
    "-The random numbers can't repeat.<br> \n",
    "-By default, the range starts from 0.<br>\n",
    "-If nothing is passed in ().it will return a float number between 0 and 1."
   ]
  },
  {
   "cell_type": "code",
   "execution_count": 25,
   "id": "603524ae-860d-401b-87d5-9494324981f2",
   "metadata": {},
   "outputs": [
    {
     "data": {
      "text/plain": [
       "5.333453849844753"
      ]
     },
     "execution_count": 25,
     "metadata": {},
     "output_type": "execute_result"
    }
   ],
   "source": [
    "np.random.uniform(3,6)"
   ]
  },
  {
   "cell_type": "code",
   "execution_count": 26,
   "id": "656085f5-5fd4-4905-91a1-61e2354672ce",
   "metadata": {},
   "outputs": [
    {
     "data": {
      "text/plain": [
       "array([3.55455217, 3.19668035, 3.8593357 , 3.53295096, 3.37352863,\n",
       "       3.99365474, 3.27809816, 3.26399556, 3.77859439, 3.85974414,\n",
       "       3.57660044, 3.05903182, 3.19358436, 3.45347234, 3.19584345,\n",
       "       3.5496284 , 3.17516816])"
      ]
     },
     "execution_count": 26,
     "metadata": {},
     "output_type": "execute_result"
    }
   ],
   "source": [
    "np.random.uniform(3,4,17)"
   ]
  },
  {
   "cell_type": "code",
   "execution_count": 27,
   "id": "5661912e-dd65-4a75-b58b-efb23fc9c099",
   "metadata": {},
   "outputs": [
    {
     "data": {
      "text/plain": [
       "2.0557173244258675"
      ]
     },
     "execution_count": 27,
     "metadata": {},
     "output_type": "execute_result"
    }
   ],
   "source": [
    "np.random.uniform(5)"
   ]
  },
  {
   "cell_type": "markdown",
   "id": "869613f5-bd7c-44bf-83c5-8d75e8273952",
   "metadata": {},
   "source": [
    "---------------------------------------------------------------------------------------------------------------------------------------------"
   ]
  },
  {
   "cell_type": "markdown",
   "id": "d72c4b97-79a4-4b9b-a18a-bb61a88aa644",
   "metadata": {},
   "source": [
    "<span style='font-size:larger; color:black'>6.Choice Function </span><br>\n",
    "-It returns random integer numbers from the given sequence.<br>\n",
    "-The range starts from 0 by default.<br>\n",
    "-If only 1 element is passed, then it will return a number between 0 and that element.<br>\n",
    "-By defult, replace=True, which means the number can repeat."
   ]
  },
  {
   "cell_type": "code",
   "execution_count": 28,
   "id": "85fe7d84-148e-4fd4-aef5-4b8258e6ef56",
   "metadata": {},
   "outputs": [
    {
     "data": {
      "text/plain": [
       "3"
      ]
     },
     "execution_count": 28,
     "metadata": {},
     "output_type": "execute_result"
    }
   ],
   "source": [
    "np.random.choice([2,5,3,5,6,67,75,5,55])"
   ]
  },
  {
   "cell_type": "code",
   "execution_count": 30,
   "id": "9f176740-6107-4810-af6e-3b7458eebbea",
   "metadata": {},
   "outputs": [
    {
     "data": {
      "text/plain": [
       "array([5, 2])"
      ]
     },
     "execution_count": 30,
     "metadata": {},
     "output_type": "execute_result"
    }
   ],
   "source": [
    "np.random.choice([2,5,3,5,6,67,75,5,55],2)"
   ]
  },
  {
   "cell_type": "code",
   "execution_count": 34,
   "id": "39ad86a9-430e-4edc-81d3-d045754265e6",
   "metadata": {},
   "outputs": [
    {
     "data": {
      "text/plain": [
       "array([3, 0, 1, 4, 8])"
      ]
     },
     "execution_count": 34,
     "metadata": {},
     "output_type": "execute_result"
    }
   ],
   "source": [
    "np.random.choice(10,5)"
   ]
  },
  {
   "cell_type": "code",
   "execution_count": 35,
   "id": "db5ae0fa-d4d4-4522-8686-09b795c1941d",
   "metadata": {},
   "outputs": [
    {
     "data": {
      "text/plain": [
       "4"
      ]
     },
     "execution_count": 35,
     "metadata": {},
     "output_type": "execute_result"
    }
   ],
   "source": [
    "np.random.choice(12)"
   ]
  },
  {
   "cell_type": "code",
   "execution_count": 38,
   "id": "b1545ff4-fb02-461d-a00e-385c2fc8b720",
   "metadata": {},
   "outputs": [
    {
     "data": {
      "text/plain": [
       "array([ 5,  6,  2,  2, 75])"
      ]
     },
     "execution_count": 38,
     "metadata": {},
     "output_type": "execute_result"
    }
   ],
   "source": [
    "np.random.choice([2,5,3,5,6,67,75,5,55],size=5)"
   ]
  },
  {
   "cell_type": "code",
   "execution_count": 45,
   "id": "9dfd5720-82ae-41b4-a502-7a28c7676e51",
   "metadata": {},
   "outputs": [
    {
     "data": {
      "text/plain": [
       "array([ 6, 55,  5,  3, 67])"
      ]
     },
     "execution_count": 45,
     "metadata": {},
     "output_type": "execute_result"
    }
   ],
   "source": [
    "np.random.choice([2,5,3,5,6,67,75,5,55],size=5, replace=False)"
   ]
  },
  {
   "cell_type": "markdown",
   "id": "e3afb23b-d554-48a3-869e-d45c1c8dd1cb",
   "metadata": {},
   "source": [
    "---------------------------------------------------------------------------------------------------------------------------------------------"
   ]
  },
  {
   "cell_type": "markdown",
   "id": "d960af3b-36e8-4eb6-8502-86dcc7e62b68",
   "metadata": {},
   "source": [
    "<span style='font-size:larger; color:black'>7. Linspace Function </span><br>\n",
    "-Linspace Function return evenly linear spaced values within a given interval<br>\n",
    "-Note by deafult it shows 50 values<br>\n",
    "<span style=\"font-size:larger ; color:black\">\n",
    "np.linspace(start_value, stop_value, num=50, endpoint= False, retstep=True,dtype=None) </span>"
   ]
  },
  {
   "cell_type": "code",
   "execution_count": 56,
   "id": "e0cb9a7a-694e-4194-8d0e-4c6255823513",
   "metadata": {},
   "outputs": [
    {
     "name": "stdout",
     "output_type": "stream",
     "text": [
      "[ 2.  4.  6.  8. 10. 12. 14. 16. 18. 20.]\n"
     ]
    }
   ],
   "source": [
    "N = np.linspace(2, 20, num=10 )\n",
    "\n",
    "print(N)"
   ]
  },
  {
   "cell_type": "code",
   "execution_count": 57,
   "id": "a1faf5f9-20d1-44dc-a519-d8adabf5f5dc",
   "metadata": {},
   "outputs": [
    {
     "name": "stdout",
     "output_type": "stream",
     "text": [
      "[ 2.   3.8  5.6  7.4  9.2 11.  12.8 14.6 16.4 18.2]\n"
     ]
    }
   ],
   "source": [
    "N1 = np.linspace(2,20, num=10, endpoint=False)\n",
    "print(N1)"
   ]
  },
  {
   "cell_type": "code",
   "execution_count": 67,
   "id": "0f64015c-8efc-49a1-a957-8e4a633a0823",
   "metadata": {},
   "outputs": [
    {
     "name": "stdout",
     "output_type": "stream",
     "text": [
      "[ 2.   3.8  5.6  7.4  9.2 11.  12.8 14.6 16.4 18.2]\n"
     ]
    }
   ],
   "source": [
    "N2 = np.linspace(2,20, num=10, endpoint=False)\n",
    "print(N2)"
   ]
  },
  {
   "cell_type": "code",
   "execution_count": 68,
   "id": "a566598c-9732-43bf-bd73-c6d56c0da22a",
   "metadata": {},
   "outputs": [
    {
     "name": "stdout",
     "output_type": "stream",
     "text": [
      "(array([ 2.,  4.,  6.,  8., 10., 12., 14., 16., 18., 20.]), 2.0)\n"
     ]
    }
   ],
   "source": [
    "N3 = np.linspace(2,20, num=10, endpoint=True, retstep = True)\n",
    "print(N3)"
   ]
  },
  {
   "cell_type": "code",
   "execution_count": 74,
   "id": "93757b2e-e810-4804-869a-3804886549f9",
   "metadata": {},
   "outputs": [
    {
     "name": "stdout",
     "output_type": "stream",
     "text": [
      "(array(['2.0', '4.0', '6.0', '8.0', '10.0', '12.0', '14.0', '16.0', '18.0',\n",
      "       '20.0'], dtype='<U32'), 2.0)\n"
     ]
    }
   ],
   "source": [
    "N4 = np.linspace(2,20, num=10, endpoint=True, retstep=True, dtype=str)\n",
    "print(N4)"
   ]
  },
  {
   "cell_type": "markdown",
   "id": "ccc9eeea-7ffa-4d9b-86bf-d90ac4ac79b0",
   "metadata": {},
   "source": [
    "---------------------------------------------------------------------------------------------------------------------------------------------"
   ]
  },
  {
   "cell_type": "markdown",
   "id": "b723b2ed-03fe-413e-9517-03d6f5709a9e",
   "metadata": {},
   "source": [
    "<span style='font-size:larger;background-color:#333333; color:white'> Empty Function</span><br>\n",
    "<span style='font-size:larger'>syntax: np.empty(shape.dtype)</span><br>\n",
    "-Shape can give in list or tuple form <br>\n",
    "-The default datatype is float "
   ]
  },
  {
   "cell_type": "code",
   "execution_count": null,
   "id": "1a317446-254c-422c-a1e0-b5b544c75695",
   "metadata": {},
   "outputs": [],
   "source": []
  }
 ],
 "metadata": {
  "kernelspec": {
   "display_name": "Python 3 (ipykernel)",
   "language": "python",
   "name": "python3"
  },
  "language_info": {
   "codemirror_mode": {
    "name": "ipython",
    "version": 3
   },
   "file_extension": ".py",
   "mimetype": "text/x-python",
   "name": "python",
   "nbconvert_exporter": "python",
   "pygments_lexer": "ipython3",
   "version": "3.10.13"
  }
 },
 "nbformat": 4,
 "nbformat_minor": 5
}
