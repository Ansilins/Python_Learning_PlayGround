{
 "cells": [
  {
   "cell_type": "markdown",
   "id": "7cd9b8c8-7804-49a5-b745-3ce67db09454",
   "metadata": {},
   "source": [
    "<span style=\"font-size:larger;background:#333333;color:white\">Diagonal Function</span><br>\n",
    "<span style=\"font-size:medium;color:black\">It is used to z the diagonal elements of an array, or, used to construct a new diagonal array</span><br>\n",
    "<span style=\"font-size:medium;color:black\">syntax:</span><br>\n",
    "np.diag(a,k)"
   ]
  },
  {
   "cell_type": "markdown",
   "id": "1a29bca6-177f-43c3-9425-61c5c3dce42a",
   "metadata": {},
   "source": [
    "<span style=\"font-size:medium;color:black\">Note:</span><br>\n",
    "-If 'a' is a 2-D array,\n"
   ]
  },
  {
   "cell_type": "code",
   "execution_count": 40,
   "id": "61b02ee4-4289-4ab5-bd49-0685ef2014b3",
   "metadata": {},
   "outputs": [],
   "source": [
    "#to import numpy library\n",
    "import numpy as np"
   ]
  },
  {
   "cell_type": "code",
   "execution_count": 41,
   "id": "e7bc08d5-dca6-46b2-a487-4b7629290c07",
   "metadata": {},
   "outputs": [],
   "source": [
    "#creating a 2-D array of 3x3 \n",
    "a = np.array([[1,2,3],[4,5,6],[1,2,3]])"
   ]
  },
  {
   "cell_type": "code",
   "execution_count": 42,
   "id": "2b463459-e459-433a-9d91-73126e40b794",
   "metadata": {},
   "outputs": [
    {
     "data": {
      "text/plain": [
       "array([[1, 2, 3],\n",
       "       [4, 5, 6],\n",
       "       [1, 2, 3]])"
      ]
     },
     "execution_count": 42,
     "metadata": {},
     "output_type": "execute_result"
    }
   ],
   "source": [
    "a"
   ]
  },
  {
   "cell_type": "code",
   "execution_count": 43,
   "id": "7443c8a8-85b9-423b-8af2-c8b2aaa091b7",
   "metadata": {},
   "outputs": [
    {
     "data": {
      "text/plain": [
       "2"
      ]
     },
     "execution_count": 43,
     "metadata": {},
     "output_type": "execute_result"
    }
   ],
   "source": [
    "#to check the dimension of array a\n",
    "a.ndim"
   ]
  },
  {
   "cell_type": "code",
   "execution_count": 44,
   "id": "70892025-5028-41de-ba06-8ee2d29d5d6f",
   "metadata": {},
   "outputs": [
    {
     "data": {
      "text/plain": [
       "array([1, 5, 3])"
      ]
     },
     "execution_count": 44,
     "metadata": {},
     "output_type": "execute_result"
    }
   ],
   "source": [
    "#extracting the diagonal elements of array 'a'\n",
    "np.diag(a)"
   ]
  },
  {
   "cell_type": "code",
   "execution_count": 45,
   "id": "f5d9dcbb-54ef-4b47-9843-a87fe55610d7",
   "metadata": {},
   "outputs": [],
   "source": [
    "#creating a 1-D array\n",
    "a1 = np.array([1,2,4,5,6,6])"
   ]
  },
  {
   "cell_type": "code",
   "execution_count": 46,
   "id": "213c4811-cd53-40e6-94de-192618d07d8b",
   "metadata": {},
   "outputs": [
    {
     "data": {
      "text/plain": [
       "array([1, 2, 4, 5, 6, 6])"
      ]
     },
     "execution_count": 46,
     "metadata": {},
     "output_type": "execute_result"
    }
   ],
   "source": [
    "a1"
   ]
  },
  {
   "cell_type": "code",
   "execution_count": 47,
   "id": "691a9022-46a7-4b12-9f76-9a1afa14939f",
   "metadata": {},
   "outputs": [
    {
     "data": {
      "text/plain": [
       "1"
      ]
     },
     "execution_count": 47,
     "metadata": {},
     "output_type": "execute_result"
    }
   ],
   "source": [
    "#to check the dimension of array a1\n",
    "a1.ndim"
   ]
  },
  {
   "cell_type": "code",
   "execution_count": 48,
   "id": "d3fa23db-7b90-4b85-918b-09e688ed562f",
   "metadata": {},
   "outputs": [
    {
     "data": {
      "text/plain": [
       "array([[1, 0, 0, 0, 0, 0],\n",
       "       [0, 2, 0, 0, 0, 0],\n",
       "       [0, 0, 4, 0, 0, 0],\n",
       "       [0, 0, 0, 5, 0, 0],\n",
       "       [0, 0, 0, 0, 6, 0],\n",
       "       [0, 0, 0, 0, 0, 6]])"
      ]
     },
     "execution_count": 48,
     "metadata": {},
     "output_type": "execute_result"
    }
   ],
   "source": [
    "#constructing a 2-D diagonal array with elements of array a1\n",
    "np.diag(a1)"
   ]
  },
  {
   "cell_type": "code",
   "execution_count": 49,
   "id": "d93f29e1-1c55-40dc-8395-fcddb4b350c8",
   "metadata": {},
   "outputs": [],
   "source": [
    "#creating a 2-D array of 3x3 \n",
    "b = np.array([[1,2,3],[4,5,6],[1,2,3]])"
   ]
  },
  {
   "cell_type": "code",
   "execution_count": 50,
   "id": "67d91fa1-c097-4f92-a6f9-b7ad7583214e",
   "metadata": {},
   "outputs": [
    {
     "data": {
      "text/plain": [
       "array([[1, 2, 3],\n",
       "       [4, 5, 6],\n",
       "       [1, 2, 3]])"
      ]
     },
     "execution_count": 50,
     "metadata": {},
     "output_type": "execute_result"
    }
   ],
   "source": [
    "b"
   ]
  },
  {
   "cell_type": "code",
   "execution_count": 51,
   "id": "0e89ebc5-e424-4bea-977b-b758c0433b86",
   "metadata": {},
   "outputs": [
    {
     "data": {
      "text/plain": [
       "array([1, 5, 3])"
      ]
     },
     "execution_count": 51,
     "metadata": {},
     "output_type": "execute_result"
    }
   ],
   "source": [
    "#when k=0, it will consider the main diagonal\n",
    "np.diag(b,k=0)"
   ]
  },
  {
   "cell_type": "code",
   "execution_count": 52,
   "id": "853c1826-fabb-4ff7-a0e6-8f3186551987",
   "metadata": {},
   "outputs": [
    {
     "data": {
      "text/plain": [
       "array([3])"
      ]
     },
     "execution_count": 52,
     "metadata": {},
     "output_type": "execute_result"
    }
   ],
   "source": [
    "#when k>0, it will consider the uppper diagonal \n",
    "np.diag(b,k=2)"
   ]
  },
  {
   "cell_type": "code",
   "execution_count": 53,
   "id": "64a8356f-1c43-4ea9-a7e0-c37108e60fa2",
   "metadata": {},
   "outputs": [
    {
     "data": {
      "text/plain": [
       "array([1])"
      ]
     },
     "execution_count": 53,
     "metadata": {},
     "output_type": "execute_result"
    }
   ],
   "source": [
    "#when k<0, it will consider the lower diagonal \n",
    "np.diag(b,k=-2)"
   ]
  },
  {
   "cell_type": "code",
   "execution_count": 54,
   "id": "533d4054-4e63-4a63-85ff-24edc51ef9aa",
   "metadata": {},
   "outputs": [],
   "source": [
    "#creating a 1-D array\n",
    "b1 = np.array([1,2,4,5,6,6])"
   ]
  },
  {
   "cell_type": "code",
   "execution_count": 55,
   "id": "688b1f53-75a4-4502-ac60-bae2308d3717",
   "metadata": {},
   "outputs": [
    {
     "data": {
      "text/plain": [
       "array([1, 2, 4, 5, 6, 6])"
      ]
     },
     "execution_count": 55,
     "metadata": {},
     "output_type": "execute_result"
    }
   ],
   "source": [
    "b1"
   ]
  },
  {
   "cell_type": "code",
   "execution_count": 56,
   "id": "c6f45f8d-7d73-4cc3-a269-8a11d098e77b",
   "metadata": {},
   "outputs": [
    {
     "data": {
      "text/plain": [
       "array([[1, 0, 0, 0, 0, 0],\n",
       "       [0, 2, 0, 0, 0, 0],\n",
       "       [0, 0, 4, 0, 0, 0],\n",
       "       [0, 0, 0, 5, 0, 0],\n",
       "       [0, 0, 0, 0, 6, 0],\n",
       "       [0, 0, 0, 0, 0, 6]])"
      ]
     },
     "execution_count": 56,
     "metadata": {},
     "output_type": "execute_result"
    }
   ],
   "source": [
    "#when k=0, it will consider the main diagonal\n",
    "np.diag(b1,k=0)"
   ]
  },
  {
   "cell_type": "code",
   "execution_count": 57,
   "id": "87d2873c-613c-4e92-8c85-1a89e25095cd",
   "metadata": {},
   "outputs": [
    {
     "data": {
      "text/plain": [
       "array([[0, 0, 1, 0, 0, 0, 0, 0],\n",
       "       [0, 0, 0, 2, 0, 0, 0, 0],\n",
       "       [0, 0, 0, 0, 4, 0, 0, 0],\n",
       "       [0, 0, 0, 0, 0, 5, 0, 0],\n",
       "       [0, 0, 0, 0, 0, 0, 6, 0],\n",
       "       [0, 0, 0, 0, 0, 0, 0, 6],\n",
       "       [0, 0, 0, 0, 0, 0, 0, 0],\n",
       "       [0, 0, 0, 0, 0, 0, 0, 0]])"
      ]
     },
     "execution_count": 57,
     "metadata": {},
     "output_type": "execute_result"
    }
   ],
   "source": [
    "#when k>0, it will consider the uppper diagonal\n",
    "np.diag(b1,k=2)"
   ]
  },
  {
   "cell_type": "code",
   "execution_count": 58,
   "id": "31764168-e6cc-49c3-bc10-6d74223b11c1",
   "metadata": {},
   "outputs": [
    {
     "data": {
      "text/plain": [
       "array([[0, 0, 0, 0, 0, 0, 0, 0],\n",
       "       [0, 0, 0, 0, 0, 0, 0, 0],\n",
       "       [1, 0, 0, 0, 0, 0, 0, 0],\n",
       "       [0, 2, 0, 0, 0, 0, 0, 0],\n",
       "       [0, 0, 4, 0, 0, 0, 0, 0],\n",
       "       [0, 0, 0, 5, 0, 0, 0, 0],\n",
       "       [0, 0, 0, 0, 6, 0, 0, 0],\n",
       "       [0, 0, 0, 0, 0, 6, 0, 0]])"
      ]
     },
     "execution_count": 58,
     "metadata": {},
     "output_type": "execute_result"
    }
   ],
   "source": [
    "#when k<0, it will consider the lower diagonal\n",
    "np.diag(b1,k=-2)"
   ]
  }
 ],
 "metadata": {
  "kernelspec": {
   "display_name": "Python 3 (ipykernel)",
   "language": "python",
   "name": "python3"
  },
  "language_info": {
   "codemirror_mode": {
    "name": "ipython",
    "version": 3
   },
   "file_extension": ".py",
   "mimetype": "text/x-python",
   "name": "python",
   "nbconvert_exporter": "python",
   "pygments_lexer": "ipython3",
   "version": "3.10.13"
  }
 },
 "nbformat": 4,
 "nbformat_minor": 5
}
