{
 "cells": [
  {
   "cell_type": "markdown",
   "id": "f7b100fb-b0ae-46f9-b871-ab13218ade44",
   "metadata": {},
   "source": [
    "<span style=\"font-size:larger ; background-color:#333333; color:white\">Numpy - Zeros Array</span>\n",
    "\n",
    "<span style=\"font-size:medium; background-color:#333333; color:white\">ZA = np.zeros(shape, dtype)</span>\n",
    "\n",
    "<span style=\"font-size:small; background-color:#333333; color:white\">\n",
    "- We can define the shape and data-type of zeros array..<br>\n",
    "- We can create 1-D, 2-D, as well as 3-D zeros array.<br>\n",
    "- The default data-type is float.\n",
    "</span>\n"
   ]
  },
  {
   "cell_type": "code",
   "execution_count": 6,
   "id": "102d7d67-a388-4449-9208-20cd539c58e1",
   "metadata": {},
   "outputs": [],
   "source": [
    "import numpy as np"
   ]
  },
  {
   "cell_type": "code",
   "execution_count": 7,
   "id": "cd24168c-32a0-44c7-a8d4-f63287bce2dd",
   "metadata": {},
   "outputs": [
    {
     "data": {
      "text/plain": [
       "array([0., 0., 0.])"
      ]
     },
     "execution_count": 7,
     "metadata": {},
     "output_type": "execute_result"
    }
   ],
   "source": [
    "# Create a zeros array of 1 dimension.\n",
    "Z1 = np.zeros(3)    \n",
    "Z1"
   ]
  },
  {
   "cell_type": "code",
   "execution_count": 8,
   "id": "fac70df6-f317-4d3d-be39-81fd72633998",
   "metadata": {},
   "outputs": [
    {
     "data": {
      "text/plain": [
       "array([0, 0, 0, 0, 0, 0, 0, 0, 0, 0, 0, 0, 0, 0, 0])"
      ]
     },
     "execution_count": 8,
     "metadata": {},
     "output_type": "execute_result"
    }
   ],
   "source": [
    "#Create a zeros array of 1 dimension with data type as intgeger.\n",
    "Z2 = np.zeros(15, dtype = int)\n",
    "Z2"
   ]
  },
  {
   "cell_type": "code",
   "execution_count": 9,
   "id": "d4aab55b-3011-4e77-a572-ee9dcf24e40e",
   "metadata": {},
   "outputs": [
    {
     "data": {
      "text/plain": [
       "numpy.ndarray"
      ]
     },
     "execution_count": 9,
     "metadata": {},
     "output_type": "execute_result"
    }
   ],
   "source": [
    "#check the type.\n",
    "type(Z2)"
   ]
  },
  {
   "cell_type": "code",
   "execution_count": 10,
   "id": "c5fb2f2b-ef52-44db-bf4f-9a3d685a0a9a",
   "metadata": {},
   "outputs": [
    {
     "data": {
      "text/plain": [
       "1"
      ]
     },
     "execution_count": 10,
     "metadata": {},
     "output_type": "execute_result"
    }
   ],
   "source": [
    "#check the dimension.\n",
    "np.ndim(Z2)"
   ]
  },
  {
   "cell_type": "code",
   "execution_count": 11,
   "id": "c1cf9a35-cf1b-4a36-9a2a-4f06994d1e46",
   "metadata": {},
   "outputs": [
    {
     "data": {
      "text/plain": [
       "array([[0., 0., 0., 0.],\n",
       "       [0., 0., 0., 0.],\n",
       "       [0., 0., 0., 0.]])"
      ]
     },
     "execution_count": 11,
     "metadata": {},
     "output_type": "execute_result"
    }
   ],
   "source": [
    "#create a zeros array of 2 dimensions\n",
    "Z3 = np.zeros((3,4))\n",
    "Z3"
   ]
  },
  {
   "cell_type": "code",
   "execution_count": 12,
   "id": "db61a394-56fe-4fc2-9a3a-0f08af275fb1",
   "metadata": {},
   "outputs": [
    {
     "data": {
      "text/plain": [
       "array([[0, 0, 0, 0],\n",
       "       [0, 0, 0, 0],\n",
       "       [0, 0, 0, 0]])"
      ]
     },
     "execution_count": 12,
     "metadata": {},
     "output_type": "execute_result"
    }
   ],
   "source": [
    "#create a zeros arrayof 2 dimensions.\n",
    "Z4 = np.zeros((3,4), dtype=int)\n",
    "Z4"
   ]
  },
  {
   "cell_type": "code",
   "execution_count": 13,
   "id": "f38f968c-35e8-4705-9e62-858881b3eee0",
   "metadata": {},
   "outputs": [
    {
     "data": {
      "text/plain": [
       "(3, 4)"
      ]
     },
     "execution_count": 13,
     "metadata": {},
     "output_type": "execute_result"
    }
   ],
   "source": [
    "#check the shape \n",
    "Z4.shape"
   ]
  },
  {
   "cell_type": "code",
   "execution_count": 14,
   "id": "ae5f3402-7aba-4984-bff9-ffe25bbffb2e",
   "metadata": {},
   "outputs": [
    {
     "data": {
      "text/plain": [
       "array([[[0., 0., 0., 0.],\n",
       "        [0., 0., 0., 0.],\n",
       "        [0., 0., 0., 0.]],\n",
       "\n",
       "       [[0., 0., 0., 0.],\n",
       "        [0., 0., 0., 0.],\n",
       "        [0., 0., 0., 0.]]])"
      ]
     },
     "execution_count": 14,
     "metadata": {},
     "output_type": "execute_result"
    }
   ],
   "source": [
    "#create a zeros array of 3 dimensions.\n",
    "np.zeros((2,3,4))"
   ]
  },
  {
   "cell_type": "code",
   "execution_count": 15,
   "id": "454ff972-af36-40fe-93af-a5ebfc88be31",
   "metadata": {},
   "outputs": [
    {
     "data": {
      "text/plain": [
       "array([[[0, 0, 0],\n",
       "        [0, 0, 0],\n",
       "        [0, 0, 0]],\n",
       "\n",
       "       [[0, 0, 0],\n",
       "        [0, 0, 0],\n",
       "        [0, 0, 0]],\n",
       "\n",
       "       [[0, 0, 0],\n",
       "        [0, 0, 0],\n",
       "        [0, 0, 0]]])"
      ]
     },
     "execution_count": 15,
     "metadata": {},
     "output_type": "execute_result"
    }
   ],
   "source": [
    "#create a zeros array of 3 dimensions with data type as integer.\n",
    "Z5 = np.zeros((3,3,3), dtype=int)\n",
    "Z5"
   ]
  },
  {
   "cell_type": "code",
   "execution_count": 16,
   "id": "761729b6-a696-466b-a8c2-50d182fe1ad6",
   "metadata": {},
   "outputs": [
    {
     "data": {
      "text/plain": [
       "3"
      ]
     },
     "execution_count": 16,
     "metadata": {},
     "output_type": "execute_result"
    }
   ],
   "source": [
    "#check the dimensions\n",
    "Z5.ndim"
   ]
  },
  {
   "cell_type": "code",
   "execution_count": 17,
   "id": "2bbb4077-f92c-49fd-ae13-f96a6e5d19fc",
   "metadata": {},
   "outputs": [
    {
     "data": {
      "text/plain": [
       "27"
      ]
     },
     "execution_count": 17,
     "metadata": {},
     "output_type": "execute_result"
    }
   ],
   "source": [
    "#check the size \n",
    "Z5.size"
   ]
  }
 ],
 "metadata": {
  "kernelspec": {
   "display_name": "Python 3 (ipykernel)",
   "language": "python",
   "name": "python3"
  },
  "language_info": {
   "codemirror_mode": {
    "name": "ipython",
    "version": 3
   },
   "file_extension": ".py",
   "mimetype": "text/x-python",
   "name": "python",
   "nbconvert_exporter": "python",
   "pygments_lexer": "ipython3",
   "version": "3.10.13"
  }
 },
 "nbformat": 4,
 "nbformat_minor": 5
}
