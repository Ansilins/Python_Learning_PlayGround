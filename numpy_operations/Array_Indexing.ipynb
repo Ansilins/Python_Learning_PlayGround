{
 "cells": [
  {
   "cell_type": "markdown",
   "id": "3effd31b-b220-4584-a52c-de865870ad31",
   "metadata": {},
   "source": [
    "<span style=\"font-size:larger;background:#333333;color:white\">__Array_Indexing__</span><br>\n",
    "<span style='font-size:medium'>Indexing is used to obrain particular elements or rows or columns from the numpy array.</span><br>\n",
    "<br>\n",
    "Here, we pass the index of the element to access it.<br>\n",
    "The Index starts from 0, not from 1.<br>\n",
    "It returns elements till \"stop index -1\" index"
   ]
  },
  {
   "cell_type": "code",
   "execution_count": 2,
   "id": "3d4012e3-a431-4406-b5e7-473d65e35e4b",
   "metadata": {},
   "outputs": [],
   "source": [
    "import numpy as np"
   ]
  },
  {
   "cell_type": "markdown",
   "id": "11f7944c-6d0d-4cb4-aa18-4faa13bb3267",
   "metadata": {},
   "source": [
    "<span style='font-size:medium'>**Indexing in 1-D Array.**</span><br>\n",
    "format : array[start index : stop index]"
   ]
  },
  {
   "cell_type": "code",
   "execution_count": 4,
   "id": "7359d6c9-88c4-40a5-ad65-3516327c0964",
   "metadata": {},
   "outputs": [],
   "source": [
    "a = np.array([1,2,3,4,4,5])"
   ]
  },
  {
   "cell_type": "code",
   "execution_count": 5,
   "id": "41f30408-3b95-4193-8265-89ade4564139",
   "metadata": {},
   "outputs": [
    {
     "data": {
      "text/plain": [
       "array([1, 2, 3, 4, 4, 5])"
      ]
     },
     "execution_count": 5,
     "metadata": {},
     "output_type": "execute_result"
    }
   ],
   "source": [
    "a"
   ]
  },
  {
   "cell_type": "code",
   "execution_count": 54,
   "id": "7e0e2ead-dea5-4d4b-b8dc-633a5dc00544",
   "metadata": {},
   "outputs": [
    {
     "data": {
      "text/plain": [
       "1"
      ]
     },
     "execution_count": 54,
     "metadata": {},
     "output_type": "execute_result"
    }
   ],
   "source": [
    "a[0]"
   ]
  },
  {
   "cell_type": "code",
   "execution_count": 7,
   "id": "6f460607-10ed-484f-b2f4-5868faa4ca80",
   "metadata": {},
   "outputs": [
    {
     "data": {
      "text/plain": [
       "4"
      ]
     },
     "execution_count": 7,
     "metadata": {},
     "output_type": "execute_result"
    }
   ],
   "source": [
    "a[3]"
   ]
  },
  {
   "cell_type": "code",
   "execution_count": 8,
   "id": "32548c0f-967f-4fb5-a247-6b4a9167017c",
   "metadata": {},
   "outputs": [
    {
     "data": {
      "text/plain": [
       "array([1, 2, 3, 4, 4, 5])"
      ]
     },
     "execution_count": 8,
     "metadata": {},
     "output_type": "execute_result"
    }
   ],
   "source": [
    "a[:]"
   ]
  },
  {
   "cell_type": "code",
   "execution_count": 9,
   "id": "529d7269-d376-476a-881a-609d38de66e9",
   "metadata": {},
   "outputs": [
    {
     "data": {
      "text/plain": [
       "array([1, 2, 3, 4, 4, 5])"
      ]
     },
     "execution_count": 9,
     "metadata": {},
     "output_type": "execute_result"
    }
   ],
   "source": [
    "a[0:]"
   ]
  },
  {
   "cell_type": "code",
   "execution_count": 10,
   "id": "8b217351-c6c4-4df0-aee1-e90166a104bc",
   "metadata": {},
   "outputs": [
    {
     "data": {
      "text/plain": [
       "array([3, 4, 4, 5])"
      ]
     },
     "execution_count": 10,
     "metadata": {},
     "output_type": "execute_result"
    }
   ],
   "source": [
    "a[2:]"
   ]
  },
  {
   "cell_type": "code",
   "execution_count": 15,
   "id": "e714b796-8d2e-49d4-a445-be99859ecdb2",
   "metadata": {},
   "outputs": [
    {
     "data": {
      "text/plain": [
       "array([1])"
      ]
     },
     "execution_count": 15,
     "metadata": {},
     "output_type": "execute_result"
    }
   ],
   "source": [
    "#1 - 1 = 0\n",
    "a[:1]    "
   ]
  },
  {
   "cell_type": "code",
   "execution_count": 16,
   "id": "aadc4487-ab21-4501-8c8c-81c46812516c",
   "metadata": {},
   "outputs": [
    {
     "data": {
      "text/plain": [
       "array([1, 2, 3, 4, 4])"
      ]
     },
     "execution_count": 16,
     "metadata": {},
     "output_type": "execute_result"
    }
   ],
   "source": [
    "#5 - 1 = 4\n",
    "a[:5]"
   ]
  },
  {
   "cell_type": "code",
   "execution_count": 17,
   "id": "331930c1-8737-484b-a027-a2bdf5e55862",
   "metadata": {},
   "outputs": [
    {
     "data": {
      "text/plain": [
       "array([1, 2, 3, 4, 4, 5])"
      ]
     },
     "execution_count": 17,
     "metadata": {},
     "output_type": "execute_result"
    }
   ],
   "source": [
    "a"
   ]
  },
  {
   "cell_type": "code",
   "execution_count": 18,
   "id": "3fdf1161-9faf-4f0c-9c26-c79623b77579",
   "metadata": {},
   "outputs": [
    {
     "data": {
      "text/plain": [
       "array([2])"
      ]
     },
     "execution_count": 18,
     "metadata": {},
     "output_type": "execute_result"
    }
   ],
   "source": [
    "a[1:2]"
   ]
  },
  {
   "cell_type": "code",
   "execution_count": 19,
   "id": "a7f6e28b-f685-4fc0-8dd6-ca6f3e4b4b44",
   "metadata": {},
   "outputs": [
    {
     "data": {
      "text/plain": [
       "array([3, 4])"
      ]
     },
     "execution_count": 19,
     "metadata": {},
     "output_type": "execute_result"
    }
   ],
   "source": [
    "a[2:4]"
   ]
  },
  {
   "cell_type": "markdown",
   "id": "343a3cd7-0d32-439f-b112-b42bc9454654",
   "metadata": {},
   "source": [
    "---"
   ]
  },
  {
   "cell_type": "markdown",
   "id": "9c8ba34e-99ae-4ff6-9005-b691ceac78b0",
   "metadata": {},
   "source": [
    "<span style='font-size:medium'>**Indexing in 2-D Array.**</span><br>\n",
    "format : array[row_indexing, column_indexing]"
   ]
  },
  {
   "cell_type": "code",
   "execution_count": 22,
   "id": "d5fb22cb-e59d-4cd6-a0f7-c6fd5efd9804",
   "metadata": {},
   "outputs": [],
   "source": [
    "b = np.array([[11,12,13],[22,23,24]])"
   ]
  },
  {
   "cell_type": "code",
   "execution_count": 24,
   "id": "52e7b496-8f3f-4f6d-b781-0529243c5ade",
   "metadata": {},
   "outputs": [
    {
     "data": {
      "text/plain": [
       "array([[11, 12, 13],\n",
       "       [22, 23, 24]])"
      ]
     },
     "execution_count": 24,
     "metadata": {},
     "output_type": "execute_result"
    }
   ],
   "source": [
    "b"
   ]
  },
  {
   "cell_type": "code",
   "execution_count": 26,
   "id": "5eec02d1-b591-47e9-99b4-c96d6c20d49d",
   "metadata": {},
   "outputs": [
    {
     "data": {
      "text/plain": [
       "array([11, 12, 13])"
      ]
     },
     "execution_count": 26,
     "metadata": {},
     "output_type": "execute_result"
    }
   ],
   "source": [
    "b[0]"
   ]
  },
  {
   "cell_type": "code",
   "execution_count": 27,
   "id": "288ebe99-2cb4-429f-91a6-26adaac38672",
   "metadata": {},
   "outputs": [
    {
     "data": {
      "text/plain": [
       "array([22, 23, 24])"
      ]
     },
     "execution_count": 27,
     "metadata": {},
     "output_type": "execute_result"
    }
   ],
   "source": [
    "b[1]"
   ]
  },
  {
   "cell_type": "code",
   "execution_count": 28,
   "id": "521d8b70-1651-4787-8ca3-d0ce28b36277",
   "metadata": {},
   "outputs": [
    {
     "data": {
      "text/plain": [
       "array([[11, 12, 13],\n",
       "       [22, 23, 24]])"
      ]
     },
     "execution_count": 28,
     "metadata": {},
     "output_type": "execute_result"
    }
   ],
   "source": [
    "b[:]"
   ]
  },
  {
   "cell_type": "code",
   "execution_count": 30,
   "id": "7106df32-0a82-4037-b315-064d24aa5615",
   "metadata": {},
   "outputs": [
    {
     "data": {
      "text/plain": [
       "12"
      ]
     },
     "execution_count": 30,
     "metadata": {},
     "output_type": "execute_result"
    }
   ],
   "source": [
    "b[0,1]"
   ]
  },
  {
   "cell_type": "code",
   "execution_count": 31,
   "id": "3146a0a5-4cd2-40a6-9150-fc4e2c9ac76d",
   "metadata": {},
   "outputs": [
    {
     "data": {
      "text/plain": [
       "array([12])"
      ]
     },
     "execution_count": 31,
     "metadata": {},
     "output_type": "execute_result"
    }
   ],
   "source": [
    "b[0,1:2]"
   ]
  },
  {
   "cell_type": "code",
   "execution_count": 38,
   "id": "63b71890-ce67-42f0-84d5-9cf24122d90b",
   "metadata": {},
   "outputs": [
    {
     "data": {
      "text/plain": [
       "array([24])"
      ]
     },
     "execution_count": 38,
     "metadata": {},
     "output_type": "execute_result"
    }
   ],
   "source": [
    "b[1,2:3]"
   ]
  },
  {
   "cell_type": "code",
   "execution_count": 39,
   "id": "323f8af7-eded-44f0-8bf9-41809e2cb896",
   "metadata": {},
   "outputs": [
    {
     "data": {
      "text/plain": [
       "array([22, 23, 24])"
      ]
     },
     "execution_count": 39,
     "metadata": {},
     "output_type": "execute_result"
    }
   ],
   "source": [
    "b[b>14]"
   ]
  },
  {
   "cell_type": "markdown",
   "id": "6bc5097f-2abb-44f2-a200-5d6da2794cfc",
   "metadata": {},
   "source": [
    "---"
   ]
  },
  {
   "cell_type": "markdown",
   "id": "25e9b736-4b8f-4c5a-956f-064f8eef2a77",
   "metadata": {},
   "source": [
    "<span style='font-size:medium'>**Indexing in 3-D Array.**</span><br>\n",
    "format : array[matrix_indexing,row_indexing, column_indexing]"
   ]
  },
  {
   "cell_type": "code",
   "execution_count": 42,
   "id": "d65c832a-19eb-4cc6-85ee-35905bea3efb",
   "metadata": {},
   "outputs": [],
   "source": [
    "c = np.array([[[1,2,3],[4,5,6],[7,8,9]],[[11,22,33],[44,55,66],[77,88,99]]])"
   ]
  },
  {
   "cell_type": "code",
   "execution_count": 43,
   "id": "43539892-2c3c-4c4c-a57d-c512fb0fe75c",
   "metadata": {},
   "outputs": [
    {
     "data": {
      "text/plain": [
       "array([[[ 1,  2,  3],\n",
       "        [ 4,  5,  6],\n",
       "        [ 7,  8,  9]],\n",
       "\n",
       "       [[11, 22, 33],\n",
       "        [44, 55, 66],\n",
       "        [77, 88, 99]]])"
      ]
     },
     "execution_count": 43,
     "metadata": {},
     "output_type": "execute_result"
    }
   ],
   "source": [
    "c"
   ]
  },
  {
   "cell_type": "code",
   "execution_count": 44,
   "id": "9866b001-ed03-4074-ac7a-2e482cb88b44",
   "metadata": {},
   "outputs": [
    {
     "data": {
      "text/plain": [
       "array([[1, 2, 3],\n",
       "       [4, 5, 6],\n",
       "       [7, 8, 9]])"
      ]
     },
     "execution_count": 44,
     "metadata": {},
     "output_type": "execute_result"
    }
   ],
   "source": [
    "c[0]"
   ]
  },
  {
   "cell_type": "code",
   "execution_count": 45,
   "id": "c9e2a16b-e445-4a69-8a20-7224a253a098",
   "metadata": {},
   "outputs": [
    {
     "data": {
      "text/plain": [
       "array([[11, 22, 33],\n",
       "       [44, 55, 66],\n",
       "       [77, 88, 99]])"
      ]
     },
     "execution_count": 45,
     "metadata": {},
     "output_type": "execute_result"
    }
   ],
   "source": [
    "c[1]"
   ]
  },
  {
   "cell_type": "code",
   "execution_count": 46,
   "id": "4871d1e6-01ba-43af-87be-26f0f117c41c",
   "metadata": {},
   "outputs": [
    {
     "data": {
      "text/plain": [
       "array([[[ 1,  2,  3],\n",
       "        [ 4,  5,  6],\n",
       "        [ 7,  8,  9]],\n",
       "\n",
       "       [[11, 22, 33],\n",
       "        [44, 55, 66],\n",
       "        [77, 88, 99]]])"
      ]
     },
     "execution_count": 46,
     "metadata": {},
     "output_type": "execute_result"
    }
   ],
   "source": [
    "c[:]"
   ]
  },
  {
   "cell_type": "code",
   "execution_count": 48,
   "id": "78026356-651e-4c2d-b4ac-97ab19876c86",
   "metadata": {},
   "outputs": [
    {
     "data": {
      "text/plain": [
       "array([[4, 5, 6],\n",
       "       [7, 8, 9]])"
      ]
     },
     "execution_count": 48,
     "metadata": {},
     "output_type": "execute_result"
    }
   ],
   "source": [
    "c[0,1:5]"
   ]
  },
  {
   "cell_type": "code",
   "execution_count": 49,
   "id": "08e3ba39-94d8-4fc7-80b0-9dc6e3174576",
   "metadata": {},
   "outputs": [
    {
     "data": {
      "text/plain": [
       "array([[4, 5, 6],\n",
       "       [7, 8, 9]])"
      ]
     },
     "execution_count": 49,
     "metadata": {},
     "output_type": "execute_result"
    }
   ],
   "source": [
    "c[0,1:3,:]"
   ]
  },
  {
   "cell_type": "code",
   "execution_count": 52,
   "id": "36d71bae-1baa-428f-b08e-fcf6e4cd872b",
   "metadata": {},
   "outputs": [
    {
     "data": {
      "text/plain": [
       "array([[22, 33],\n",
       "       [55, 66],\n",
       "       [88, 99]])"
      ]
     },
     "execution_count": 52,
     "metadata": {},
     "output_type": "execute_result"
    }
   ],
   "source": [
    "c[1,:,1:3]"
   ]
  },
  {
   "cell_type": "code",
   "execution_count": 53,
   "id": "d491e6c1-a36a-4c2b-8f50-80e84d327f77",
   "metadata": {},
   "outputs": [
    {
     "data": {
      "text/plain": [
       "55"
      ]
     },
     "execution_count": 53,
     "metadata": {},
     "output_type": "execute_result"
    }
   ],
   "source": [
    "c[1,1,1]"
   ]
  },
  {
   "cell_type": "markdown",
   "id": "2bfd8c3a-36c8-4917-9611-3519f059178c",
   "metadata": {},
   "source": [
    "---"
   ]
  }
 ],
 "metadata": {
  "kernelspec": {
   "display_name": "Python 3 (ipykernel)",
   "language": "python",
   "name": "python3"
  },
  "language_info": {
   "codemirror_mode": {
    "name": "ipython",
    "version": 3
   },
   "file_extension": ".py",
   "mimetype": "text/x-python",
   "name": "python",
   "nbconvert_exporter": "python",
   "pygments_lexer": "ipython3",
   "version": "3.10.13"
  }
 },
 "nbformat": 4,
 "nbformat_minor": 5
}
