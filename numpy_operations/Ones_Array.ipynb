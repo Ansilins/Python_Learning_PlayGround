{
 "cells": [
  {
   "cell_type": "markdown",
   "id": "a560bd18-5a03-4660-ab14-8fcc697231e7",
   "metadata": {},
   "source": [
    "<span style=\"font-size:larger ; background-color:#333333; color:white\">Numpy - Ones Array</span>\n",
    "\n",
    "<span style=\"font-size:medium; background-color:#333333; color:white\">ZA = np.Ones(shape, dtype)</span>\n",
    "\n",
    "<span style=\"font-size:small; background-color:#333333; color:white\">\n",
    "- We can define the shape and data-type of zeros array..<br>\n",
    "- We can create 1-D, 2-D, as well as 3-D zeros array.<br>\n",
    "- The default data-type is float.\n",
    "</span>\n"
   ]
  },
  {
   "cell_type": "code",
   "execution_count": null,
   "id": "be5b71df-e749-4e2f-80e5-e22b0621c2e7",
   "metadata": {},
   "outputs": [],
   "source": [
    "# Create a Ones array of 1 dimension.\n",
    "B1 = np.ones(3)    \n",
    "B1"
   ]
  },
  {
   "cell_type": "code",
   "execution_count": null,
   "id": "2fd4a13b-c39c-46fa-96c7-4b3e779a2d19",
   "metadata": {},
   "outputs": [],
   "source": [
    "#Create a Ones array of 1 dimension with data type as intgeger.\n",
    "B2 = np.ones(5, dtype = int)\n",
    "B2"
   ]
  },
  {
   "cell_type": "code",
   "execution_count": null,
   "id": "e58bcc77-faf6-4df7-895b-df7ad03977b4",
   "metadata": {},
   "outputs": [],
   "source": [
    "#check the type.\n",
    "type(B2)"
   ]
  },
  {
   "cell_type": "code",
   "execution_count": null,
   "id": "1e527638-45c4-475f-a371-7cdbc8fd7b31",
   "metadata": {},
   "outputs": [],
   "source": []
  },
  {
   "cell_type": "code",
   "execution_count": null,
   "id": "7dc66bf4-8c74-43c2-8fe2-0a7dca1bcda7",
   "metadata": {},
   "outputs": [],
   "source": []
  },
  {
   "cell_type": "code",
   "execution_count": null,
   "id": "661d8ad3-4903-43ec-ae1e-e828e42bba43",
   "metadata": {},
   "outputs": [],
   "source": []
  },
  {
   "cell_type": "code",
   "execution_count": null,
   "id": "855ddd55-d5fd-45ba-b51e-51efdb125989",
   "metadata": {},
   "outputs": [],
   "source": []
  }
 ],
 "metadata": {
  "kernelspec": {
   "display_name": "Python 3 (ipykernel)",
   "language": "python",
   "name": "python3"
  },
  "language_info": {
   "codemirror_mode": {
    "name": "ipython",
    "version": 3
   },
   "file_extension": ".py",
   "mimetype": "text/x-python",
   "name": "python",
   "nbconvert_exporter": "python",
   "pygments_lexer": "ipython3",
   "version": "3.10.13"
  }
 },
 "nbformat": 4,
 "nbformat_minor": 5
}
