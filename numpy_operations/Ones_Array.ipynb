{
 "cells": [
  {
   "cell_type": "markdown",
   "id": "a560bd18-5a03-4660-ab14-8fcc697231e7",
   "metadata": {},
   "source": [
    "<span style=\"font-size:larger ; background-color:#333333; color:white\">Numpy - Ones Array</span>\n",
    "\n",
    "<span style=\"font-size:medium; background-color:#333333; color:white\">ZA = np.Ones(shape, dtype)</span>\n",
    "\n",
    "<span style=\"font-size:small; background-color:#333333; color:white\">\n",
    "- We can define the shape and data-type of zeros array..<br>\n",
    "- We can create 1-D, 2-D, as well as 3-D zeros array.<br>\n",
    "- The default data-type is float.\n",
    "</span>\n"
   ]
  },
  {
   "cell_type": "code",
   "execution_count": 34,
   "id": "5155c03e-737f-4244-8e12-9f868ced1159",
   "metadata": {},
   "outputs": [],
   "source": [
    "import numpy as np"
   ]
  },
  {
   "cell_type": "code",
   "execution_count": 35,
   "id": "be5b71df-e749-4e2f-80e5-e22b0621c2e7",
   "metadata": {},
   "outputs": [
    {
     "data": {
      "text/plain": [
       "array([1., 1., 1.])"
      ]
     },
     "execution_count": 35,
     "metadata": {},
     "output_type": "execute_result"
    }
   ],
   "source": [
    "# Create a ones array of 1 dimension.\n",
    "Z1 = np.ones(3)    \n",
    "Z1"
   ]
  },
  {
   "cell_type": "code",
   "execution_count": 36,
   "id": "2fd4a13b-c39c-46fa-96c7-4b3e779a2d19",
   "metadata": {},
   "outputs": [
    {
     "data": {
      "text/plain": [
       "array([1, 1, 1, 1, 1, 1, 1, 1, 1, 1, 1, 1, 1, 1, 1])"
      ]
     },
     "execution_count": 36,
     "metadata": {},
     "output_type": "execute_result"
    }
   ],
   "source": [
    "#Create a ones array of 1 dimension with data type as intgeger.\n",
    "Z2 = np.ones(15, dtype = int)\n",
    "Z2"
   ]
  },
  {
   "cell_type": "code",
   "execution_count": 37,
   "id": "e58bcc77-faf6-4df7-895b-df7ad03977b4",
   "metadata": {},
   "outputs": [
    {
     "data": {
      "text/plain": [
       "numpy.ndarray"
      ]
     },
     "execution_count": 37,
     "metadata": {},
     "output_type": "execute_result"
    }
   ],
   "source": [
    "#check the type.\n",
    "type(Z2)"
   ]
  },
  {
   "cell_type": "code",
   "execution_count": 38,
   "id": "760dd5a7-5d3a-4c9a-9b3e-79d8b6b162f8",
   "metadata": {},
   "outputs": [
    {
     "data": {
      "text/plain": [
       "1"
      ]
     },
     "execution_count": 38,
     "metadata": {},
     "output_type": "execute_result"
    }
   ],
   "source": [
    "#check the dimension.\n",
    "np.ndim(Z2)"
   ]
  },
  {
   "cell_type": "code",
   "execution_count": 39,
   "id": "a00e70f7-dad6-4f30-a43e-52898af0de8a",
   "metadata": {},
   "outputs": [
    {
     "data": {
      "text/plain": [
       "array([[1., 1., 1., 1.],\n",
       "       [1., 1., 1., 1.],\n",
       "       [1., 1., 1., 1.]])"
      ]
     },
     "execution_count": 39,
     "metadata": {},
     "output_type": "execute_result"
    }
   ],
   "source": [
    "#create a ones array of 2 dimensions\n",
    "Z3 = np.ones((3,4))\n",
    "Z3"
   ]
  },
  {
   "cell_type": "code",
   "execution_count": 40,
   "id": "78d0f7a3-700d-4ca3-b7e3-035bf852c1f0",
   "metadata": {},
   "outputs": [
    {
     "data": {
      "text/plain": [
       "array([[1, 1, 1, 1],\n",
       "       [1, 1, 1, 1],\n",
       "       [1, 1, 1, 1]])"
      ]
     },
     "execution_count": 40,
     "metadata": {},
     "output_type": "execute_result"
    }
   ],
   "source": [
    "#create a ones arrayof 2 dimensions.\n",
    "Z4 = np.ones((3,4), dtype=int)\n",
    "Z4"
   ]
  },
  {
   "cell_type": "code",
   "execution_count": 41,
   "id": "5e9668cd-7226-4300-9312-9e4f962de943",
   "metadata": {},
   "outputs": [
    {
     "data": {
      "text/plain": [
       "(3, 4)"
      ]
     },
     "execution_count": 41,
     "metadata": {},
     "output_type": "execute_result"
    }
   ],
   "source": [
    "#check the shape \n",
    "Z4.shape"
   ]
  },
  {
   "cell_type": "code",
   "execution_count": 42,
   "id": "ca623965-a312-4e58-b94a-d5dd774c302a",
   "metadata": {},
   "outputs": [
    {
     "data": {
      "text/plain": [
       "array([[[1., 1., 1., 1.],\n",
       "        [1., 1., 1., 1.],\n",
       "        [1., 1., 1., 1.]],\n",
       "\n",
       "       [[1., 1., 1., 1.],\n",
       "        [1., 1., 1., 1.],\n",
       "        [1., 1., 1., 1.]]])"
      ]
     },
     "execution_count": 42,
     "metadata": {},
     "output_type": "execute_result"
    }
   ],
   "source": [
    "#create a ones array of 3 dimensions.\n",
    "np.ones((2,3,4))"
   ]
  },
  {
   "cell_type": "code",
   "execution_count": 43,
   "id": "f22d5134-032f-405e-b0bf-c9ff4af83ef4",
   "metadata": {},
   "outputs": [
    {
     "data": {
      "text/plain": [
       "array([[[1, 1, 1],\n",
       "        [1, 1, 1],\n",
       "        [1, 1, 1]],\n",
       "\n",
       "       [[1, 1, 1],\n",
       "        [1, 1, 1],\n",
       "        [1, 1, 1]],\n",
       "\n",
       "       [[1, 1, 1],\n",
       "        [1, 1, 1],\n",
       "        [1, 1, 1]]])"
      ]
     },
     "execution_count": 43,
     "metadata": {},
     "output_type": "execute_result"
    }
   ],
   "source": [
    "#create a ones array of 3 dimensions with data type as integer.\n",
    "Z5 = np.ones((3,3,3), dtype=int)\n",
    "Z5"
   ]
  },
  {
   "cell_type": "code",
   "execution_count": 44,
   "id": "1e59d6c9-a279-46b7-869f-97f2e69f453b",
   "metadata": {},
   "outputs": [
    {
     "data": {
      "text/plain": [
       "3"
      ]
     },
     "execution_count": 44,
     "metadata": {},
     "output_type": "execute_result"
    }
   ],
   "source": [
    "#check the dimensions\n",
    "Z5.ndim"
   ]
  },
  {
   "cell_type": "code",
   "execution_count": 45,
   "id": "a7974489-7254-4875-952a-a31eef85334a",
   "metadata": {},
   "outputs": [
    {
     "data": {
      "text/plain": [
       "27"
      ]
     },
     "execution_count": 45,
     "metadata": {},
     "output_type": "execute_result"
    }
   ],
   "source": [
    "#check the size \n",
    "Z5.size"
   ]
  }
 ],
 "metadata": {
  "kernelspec": {
   "display_name": "Python 3 (ipykernel)",
   "language": "python",
   "name": "python3"
  },
  "language_info": {
   "codemirror_mode": {
    "name": "ipython",
    "version": 3
   },
   "file_extension": ".py",
   "mimetype": "text/x-python",
   "name": "python",
   "nbconvert_exporter": "python",
   "pygments_lexer": "ipython3",
   "version": "3.10.13"
  }
 },
 "nbformat": 4,
 "nbformat_minor": 5
}
