{
 "cells": [
  {
   "cell_type": "markdown",
   "id": "a31b6b58-7097-4dd0-8bfb-b77f2e344f0f",
   "metadata": {},
   "source": [
    "<span style='font-size:larger'>Identity Array Function</span><br>\n",
    "<span style='font-size:medium'>Syntax:</span>\n",
    "<span stype='font-size:small'>np.identity(shape,dtype)<br>\n",
    "-It takes a single integer value only as shape.<br>\n",
    "-The No. of Rows and columns will be equal to the given integer value.<br>\n",
    "-The default datatype is float."
   ]
  },
  {
   "cell_type": "code",
   "execution_count": 2,
   "id": "57941049-2160-4b15-9bfc-643c051de916",
   "metadata": {},
   "outputs": [],
   "source": [
    "#To import numpy library\n",
    "import numpy as np"
   ]
  },
  {
   "cell_type": "code",
   "execution_count": 9,
   "id": "9af9ece3-5795-471d-88cf-877aca937f10",
   "metadata": {},
   "outputs": [],
   "source": [
    "#creating an identity arrray of 4,4.\n",
    "a = np.identity(4)"
   ]
  },
  {
   "cell_type": "code",
   "execution_count": 10,
   "id": "180773c2-1eca-4c7d-b63d-b15b3c1d53a4",
   "metadata": {},
   "outputs": [
    {
     "data": {
      "text/plain": [
       "array([[1., 0., 0., 0.],\n",
       "       [0., 1., 0., 0.],\n",
       "       [0., 0., 1., 0.],\n",
       "       [0., 0., 0., 1.]])"
      ]
     },
     "execution_count": 10,
     "metadata": {},
     "output_type": "execute_result"
    }
   ],
   "source": [
    "a"
   ]
  },
  {
   "cell_type": "code",
   "execution_count": 11,
   "id": "dddf9a99-7856-4e72-a390-e9f927bab320",
   "metadata": {},
   "outputs": [],
   "source": [
    "#creating an identity array of 4x4, with Integer datatype\n",
    "a1 = np.identity(4,dtype=int)"
   ]
  },
  {
   "cell_type": "code",
   "execution_count": 13,
   "id": "44d50e9c-6eca-4845-a196-8b0edd4149d4",
   "metadata": {},
   "outputs": [
    {
     "data": {
      "text/plain": [
       "array([[1, 0, 0, 0],\n",
       "       [0, 1, 0, 0],\n",
       "       [0, 0, 1, 0],\n",
       "       [0, 0, 0, 1]])"
      ]
     },
     "execution_count": 13,
     "metadata": {},
     "output_type": "execute_result"
    }
   ],
   "source": [
    "a1"
   ]
  },
  {
   "cell_type": "code",
   "execution_count": 17,
   "id": "27711fcb-4587-4275-a0ea-523a754d9b14",
   "metadata": {},
   "outputs": [
    {
     "data": {
      "text/plain": [
       "2"
      ]
     },
     "execution_count": 17,
     "metadata": {},
     "output_type": "execute_result"
    }
   ],
   "source": [
    "#to check the dimension of array 'a1'\n",
    "a1.ndim"
   ]
  },
  {
   "cell_type": "code",
   "execution_count": 18,
   "id": "1409fd8a-efcb-4a55-80ac-878351bd27fc",
   "metadata": {},
   "outputs": [
    {
     "data": {
      "text/plain": [
       "(4, 4)"
      ]
     },
     "execution_count": 18,
     "metadata": {},
     "output_type": "execute_result"
    }
   ],
   "source": [
    "#to check the shape of array 'a1'\n",
    "a1.shape"
   ]
  },
  {
   "cell_type": "code",
   "execution_count": 20,
   "id": "a608d424-b800-496e-8b33-48179cfb0133",
   "metadata": {},
   "outputs": [
    {
     "data": {
      "text/plain": [
       "16"
      ]
     },
     "execution_count": 20,
     "metadata": {},
     "output_type": "execute_result"
    }
   ],
   "source": [
    "#to check the size of array 'a1'\n",
    "a1.size"
   ]
  },
  {
   "cell_type": "code",
   "execution_count": 21,
   "id": "a78bb970-6c85-4dfe-8bbf-bbf57ab2dc58",
   "metadata": {},
   "outputs": [
    {
     "data": {
      "text/plain": [
       "array([[21,  0,  0,  0],\n",
       "       [ 0, 21,  0,  0],\n",
       "       [ 0,  0, 21,  0],\n",
       "       [ 0,  0,  0, 21]])"
      ]
     },
     "execution_count": 21,
     "metadata": {},
     "output_type": "execute_result"
    }
   ],
   "source": [
    "#multiplaying array a1 by an integer value\n",
    "a1*21"
   ]
  },
  {
   "cell_type": "code",
   "execution_count": 24,
   "id": "1b881b19-2604-4529-9469-1d0c6d9a0b1c",
   "metadata": {},
   "outputs": [],
   "source": [
    "#multiplaying array a1 by an float value\n",
    "a2 = a1*3.999"
   ]
  },
  {
   "cell_type": "code",
   "execution_count": 25,
   "id": "b7777024-e8ef-4580-98aa-fdd60601bafb",
   "metadata": {},
   "outputs": [
    {
     "data": {
      "text/plain": [
       "array([[3.999, 0.   , 0.   , 0.   ],\n",
       "       [0.   , 3.999, 0.   , 0.   ],\n",
       "       [0.   , 0.   , 3.999, 0.   ],\n",
       "       [0.   , 0.   , 0.   , 3.999]])"
      ]
     },
     "execution_count": 25,
     "metadata": {},
     "output_type": "execute_result"
    }
   ],
   "source": [
    "a2"
   ]
  },
  {
   "cell_type": "code",
   "execution_count": 26,
   "id": "f1f3a893-409e-4660-8fbc-ab3807062310",
   "metadata": {},
   "outputs": [
    {
     "data": {
      "text/plain": [
       "array([[19.995,  0.   ,  0.   ,  0.   ],\n",
       "       [ 0.   , 19.995,  0.   ,  0.   ],\n",
       "       [ 0.   ,  0.   , 19.995,  0.   ],\n",
       "       [ 0.   ,  0.   ,  0.   , 19.995]])"
      ]
     },
     "execution_count": 26,
     "metadata": {},
     "output_type": "execute_result"
    }
   ],
   "source": [
    "a2*5"
   ]
  }
 ],
 "metadata": {
  "kernelspec": {
   "display_name": "Python 3 (ipykernel)",
   "language": "python",
   "name": "python3"
  },
  "language_info": {
   "codemirror_mode": {
    "name": "ipython",
    "version": 3
   },
   "file_extension": ".py",
   "mimetype": "text/x-python",
   "name": "python",
   "nbconvert_exporter": "python",
   "pygments_lexer": "ipython3",
   "version": "3.10.13"
  }
 },
 "nbformat": 4,
 "nbformat_minor": 5
}
