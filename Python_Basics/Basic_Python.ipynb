{
 "cells": [
  {
   "cell_type": "markdown",
   "id": "9f383152-f3a6-41c3-a48b-6b4a9d84d73b",
   "metadata": {},
   "source": [
    "<span style='font-size:larger;background-color:black;color:white'>Python Basics</span><br>\n",
    "-This notebook will cover Python problems. I'll tackle these basic challenges in my own unique style."
   ]
  },
  {
   "cell_type": "markdown",
   "id": "81422a5c-1588-432e-aee9-42bd31c1e575",
   "metadata": {},
   "source": [
    "<span style='font-size:larger'>To find the type of the variable, basic stuff's</span>"
   ]
  },
  {
   "cell_type": "code",
   "execution_count": 1,
   "id": "1e82f666-8c0b-42a0-baa1-d83e3d685063",
   "metadata": {},
   "outputs": [
    {
     "name": "stdout",
     "output_type": "stream",
     "text": [
      "<class 'int'>\n",
      "<class 'str'>\n"
     ]
    }
   ],
   "source": [
    "a = 10\n",
    "b = \"Ansilins\"\n",
    "\n",
    "print(type(a))\n",
    "print(type(b))s"
   ]
  },
  {
   "cell_type": "markdown",
   "id": "4a7af1dd-35b8-4d7c-9c51-a1f9acb76e8c",
   "metadata": {},
   "source": [
    "<span style='font-size:larger'>Casting</span>"
   ]
  },
  {
   "cell_type": "code",
   "execution_count": 2,
   "id": "6e05c96f-45ee-45a6-a007-322d7647d944",
   "metadata": {},
   "outputs": [
    {
     "name": "stdout",
     "output_type": "stream",
     "text": [
      "15\n"
     ]
    }
   ],
   "source": [
    "a = int(\"5\")\n",
    "b = int(\"10\")\n",
    "\n",
    "temp = a + b\n",
    "print(temp)"
   ]
  },
  {
   "cell_type": "markdown",
   "id": "b3719b1d-a7af-4a51-9b32-149d47563519",
   "metadata": {},
   "source": [
    "<span style='font-size:larger'>Getting INPUT from the user </span>"
   ]
  },
  {
   "cell_type": "code",
   "execution_count": 18,
   "id": "c084feda-765b-49f4-9ffd-541182757c4f",
   "metadata": {},
   "outputs": [
    {
     "name": "stdin",
     "output_type": "stream",
     "text": [
      " 34\n",
      " 53\n"
     ]
    },
    {
     "name": "stdout",
     "output_type": "stream",
     "text": [
      "87\n"
     ]
    }
   ],
   "source": [
    "a = int(input())\n",
    "b = int(input())\n",
    "\n",
    "c = a + b \n",
    "print(c)"
   ]
  },
  {
   "cell_type": "markdown",
   "id": "5dcac5d5-39fe-4c25-90ab-ee91a8b8fce4",
   "metadata": {},
   "source": [
    "<span style='font-size:larger;background-color:black;color:white'>Lets dive into the Basic Problems</span><br>\n",
    "<span style='font-size:larger'>(1)Get input for variable name and age. print it</span>"
   ]
  },
  {
   "cell_type": "code",
   "execution_count": 19,
   "id": "65a5f8ed-4abe-40a0-8110-7f345f52b726",
   "metadata": {},
   "outputs": [
    {
     "name": "stdin",
     "output_type": "stream",
     "text": [
      "Enter your name :  Akil\n",
      "Enter your age :  23\n"
     ]
    },
    {
     "name": "stdout",
     "output_type": "stream",
     "text": [
      "My name is :  Akil\n",
      "My age is :  23\n"
     ]
    }
   ],
   "source": [
    "name = input(\"Enter your name : \")\n",
    "age = int(input(\"Enter your age : \"))\n",
    "\n",
    "print(\"My name is : \",  name)\n",
    "print(\"My age is : \",age)"
   ]
  },
  {
   "cell_type": "markdown",
   "id": "94ec1426-387a-4f47-a988-fded25aa3d90",
   "metadata": {},
   "source": [
    "<span style='font-size:larger'>(2) Get Input for variable name and age, address. print it.\n",
    "</span>"
   ]
  },
  {
   "cell_type": "code",
   "execution_count": 22,
   "id": "527e807f-9be0-4cac-bffd-59e78ad3578f",
   "metadata": {},
   "outputs": [
    {
     "name": "stdin",
     "output_type": "stream",
     "text": [
      "Enter your name :  Binesh\n",
      "Enter your age :  23\n",
      "Enter your address Irenipuram,Kanyakumrai,Tamil Nadu, 629123\n"
     ]
    },
    {
     "name": "stdout",
     "output_type": "stream",
     "text": [
      "Name is :  Binesh\n",
      "Age is :  23\n",
      "address is :  Irenipuram,Kanyakumrai,Tamil Nadu, 629123\n"
     ]
    }
   ],
   "source": [
    "name = input(\"Enter your name : \")\n",
    "age = int(input(\"Enter your age : \"))\n",
    "address = input(\"Enter your address\")\n",
    "\n",
    "print(\"Name is : \", name)\n",
    "print(\"Age is : \", age)\n",
    "print(\"address is : \", address)"
   ]
  },
  {
   "cell_type": "markdown",
   "id": "ed040780-d4fe-4080-a5c0-57bbe32a1a21",
   "metadata": {},
   "source": [
    "<span style='font-size:larger'>(3) Multiple all 3 variables, add all 3 variables, divide the multiplied value by added value, and print it.\n",
    "</span>"
   ]
  },
  {
   "cell_type": "code",
   "execution_count": 23,
   "id": "8392842d-fbd2-4325-8683-8a80bc4d5c84",
   "metadata": {},
   "outputs": [
    {
     "name": "stdin",
     "output_type": "stream",
     "text": [
      " 23\n",
      " 43\n",
      " 56\n"
     ]
    },
    {
     "name": "stdout",
     "output_type": "stream",
     "text": [
      "Calculated value is :  453.9672131147541\n"
     ]
    }
   ],
   "source": [
    "a = int(input())\n",
    "b = int(input())\n",
    "c = int(input())\n",
    "\n",
    "mul = a*b*c\n",
    "add = a+b+c\n",
    "\n",
    "temp = (mul/add)\n",
    "\n",
    "print(\"Calculated value is : \", temp)"
   ]
  },
  {
   "cell_type": "markdown",
   "id": "38102ccc-8a08-4fd1-b034-fe5d864693cc",
   "metadata": {},
   "source": [
    "<span style='font-size:larger'>(4) Get Input for variable name, score, department <br>\n",
    "Get score for 100, divide 100/10\n",
    "</span>"
   ]
  },
  {
   "cell_type": "code",
   "execution_count": 24,
   "id": "fb59bdf4-d3ee-4905-9085-504c2804d756",
   "metadata": {},
   "outputs": [
    {
     "name": "stdin",
     "output_type": "stream",
     "text": [
      "Enter your name :  Jeffer \n",
      "Ente the score :  79\n",
      "Enter your Department :  school of law\n"
     ]
    },
    {
     "name": "stdout",
     "output_type": "stream",
     "text": [
      "Name is :  Jeffer \n",
      "Score is :  7.9\n",
      "Department :  school of law\n"
     ]
    }
   ],
   "source": [
    "name = input(\"Enter your name : \")\n",
    "score = int(input(\"Ente the score : \"))\n",
    "department = input(\"Enter your Department : \")\n",
    "\n",
    "cal_score = score/10\n",
    "\n",
    "print(\"Name is : \", name)\n",
    "print(\"Score is : \", cal_score)\n",
    "print(\"Department : \", department)\n",
    "\n",
    "#This is also fair \n",
    "#print(\"Score is : \", score/10 )"
   ]
  },
  {
   "cell_type": "markdown",
   "id": "997c32ce-65f8-45d2-9b58-d6af3277fee3",
   "metadata": {},
   "source": [
    "---"
   ]
  }
 ],
 "metadata": {
  "kernelspec": {
   "display_name": "Python 3 (ipykernel)",
   "language": "python",
   "name": "python3"
  },
  "language_info": {
   "codemirror_mode": {
    "name": "ipython",
    "version": 3
   },
   "file_extension": ".py",
   "mimetype": "text/x-python",
   "name": "python",
   "nbconvert_exporter": "python",
   "pygments_lexer": "ipython3",
   "version": "3.10.13"
  }
 },
 "nbformat": 4,
 "nbformat_minor": 5
}
