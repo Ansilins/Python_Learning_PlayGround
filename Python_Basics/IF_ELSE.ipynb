{
 "cells": [
  {
   "cell_type": "markdown",
   "id": "318ffe8b-a0dc-4c2a-b07b-4f16b177aced",
   "metadata": {},
   "source": [
    "<span style='font-size:larger;background-color:black;color:white'>IF_ELSE</span><br>"
   ]
  },
  {
   "cell_type": "markdown",
   "id": "05a30cfe-5867-48ae-b933-98bfc1584cf8",
   "metadata": {},
   "source": [
    "<span style='font-size:larger'>-IF/ELSE using Boolean values : True, False </span>\n",
    "\n"
   ]
  },
  {
   "cell_type": "code",
   "execution_count": 5,
   "id": "5985ca21-af5f-40c2-940b-b40bda28138e",
   "metadata": {},
   "outputs": [
    {
     "name": "stdout",
     "output_type": "stream",
     "text": [
      "Yes\n",
      "NO\n"
     ]
    }
   ],
   "source": [
    "if(True):\n",
    "    print(\"Yes\")\n",
    "else:\n",
    "    print(\"No\")\n",
    "\n",
    "if(False):\n",
    "    print(\"YES\")\n",
    "else:\n",
    "    print(\"NO\")"
   ]
  },
  {
   "cell_type": "markdown",
   "id": "0a383cdd-da6c-49e4-a450-3fafbdcd85ab",
   "metadata": {},
   "source": [
    "<span style='font-size:larger'>Comparison Operator (Example)</span>"
   ]
  },
  {
   "cell_type": "code",
   "execution_count": 11,
   "id": "15fe4884-4723-40eb-b365-09831e1d3bf5",
   "metadata": {},
   "outputs": [
    {
     "name": "stdout",
     "output_type": "stream",
     "text": [
      "Ee sala cup namde\n"
     ]
    }
   ],
   "source": [
    "rcb = \"win\"\n",
    "#rcb = \"lose\"\n",
    "\n",
    "if(rcb == \"win\"):\n",
    "    print(\"Ee sala cup namde\")\n",
    "else:\n",
    "    print(\"valakam pola namaku cup ila\")"
   ]
  },
  {
   "cell_type": "markdown",
   "id": "c732a502-9c9c-49bd-9394-6e86bd99a133",
   "metadata": {},
   "source": [
    "<span style='font-size:larger'>\n",
    "Get user input for variable Stelgin, If Stelgin == Died Print \"Surya meets ferrin\" Else \"Surya weds Stelgin\"\n",
    "</span>"
   ]
  },
  {
   "cell_type": "code",
   "execution_count": 12,
   "id": "0d2330c6-4b36-4e7d-bb47-2f774bf31f7b",
   "metadata": {},
   "outputs": [
    {
     "name": "stdin",
     "output_type": "stream",
     "text": [
      " Died\n"
     ]
    },
    {
     "name": "stdout",
     "output_type": "stream",
     "text": [
      "Surya meets ferrin\n"
     ]
    }
   ],
   "source": [
    "stelgin = input()\n",
    "\n",
    "if (stelgin == \"Died\"):\n",
    "    print(\"Surya meets ferrin\")\n",
    "else:\n",
    "    print(\"surya weds Stelgin\")"
   ]
  },
  {
   "cell_type": "markdown",
   "id": "9cc42a30-f8d7-4a37-a64c-bc666b2f01af",
   "metadata": {},
   "source": [
    "<span style='font-size:larger'>IF/ELSE Exercises</span>"
   ]
  },
  {
   "cell_type": "markdown",
   "id": "2371d194-a72f-4432-9938-4743645acf11",
   "metadata": {},
   "source": [
    "<span style='font-size:larger'>(1) Get Input for variable mark. if mark > 35 print pass. Else print fail</span>"
   ]
  },
  {
   "cell_type": "code",
   "execution_count": 15,
   "id": "c27e98df-11aa-4c39-8829-e013a07aa528",
   "metadata": {},
   "outputs": [
    {
     "name": "stdin",
     "output_type": "stream",
     "text": [
      " 79\n"
     ]
    },
    {
     "name": "stdout",
     "output_type": "stream",
     "text": [
      "pass\n"
     ]
    }
   ],
   "source": [
    "mark = int(input())\n",
    "\n",
    "if(mark >= 35):\n",
    "    print(\"pass\")\n",
    "\n",
    "else:\n",
    "    print(\"fail\")"
   ]
  },
  {
   "cell_type": "markdown",
   "id": "33a3fc98-7c9e-4c45-be72-e59dd110f194",
   "metadata": {},
   "source": [
    "<span style='font-size:larger'>(2) Get Input for variable income. If income is greater than 70000 scholarship is not available. Else  eligible for scholarship.</span>"
   ]
  },
  {
   "cell_type": "code",
   "execution_count": 17,
   "id": "c6e7ed2d-b992-4d08-963b-078030799474",
   "metadata": {},
   "outputs": [
    {
     "name": "stdin",
     "output_type": "stream",
     "text": [
      " 8000000\n"
     ]
    },
    {
     "name": "stdout",
     "output_type": "stream",
     "text": [
      "Not eligible for scholarship\n"
     ]
    }
   ],
   "source": [
    "income = int(input())\n",
    "\n",
    "if(income >= 70000):\n",
    "    print(\"Not eligible for scholarship\")\n",
    "\n",
    "else:\n",
    "    print(\"Eligible for scholarship\")"
   ]
  },
  {
   "cell_type": "markdown",
   "id": "abb7070e-db19-466b-9875-4b4596dcf76c",
   "metadata": {},
   "source": [
    "<span style='font-size:larger'>(3) Get input for a number and check whether it is divisible by both 3 and 5 or not. If yes then print the number is divisible by 3 \n",
    "     and 5 else print the number is not divisible by 3 and 5..</span>"
   ]
  },
  {
   "cell_type": "code",
   "execution_count": 22,
   "id": "3754477e-bf21-43d1-80d0-2dda35243389",
   "metadata": {},
   "outputs": [
    {
     "name": "stdin",
     "output_type": "stream",
     "text": [
      "Enter the number :  67\n"
     ]
    },
    {
     "name": "stdout",
     "output_type": "stream",
     "text": [
      "Not Divisible\n"
     ]
    },
    {
     "data": {
      "text/plain": [
       "'\\n# This is also fair \\nnum = int(input())\\n\\nif(num%3 == 0 and num%5 == 0):\\n    print(\"Divisible\")\\nelse:\\n    print(\"Not Divisible\")\\n'"
      ]
     },
     "execution_count": 22,
     "metadata": {},
     "output_type": "execute_result"
    }
   ],
   "source": [
    "num = int(input(\"Enter the number : \"))\n",
    "temp = num % 3\n",
    "\n",
    "temp1 = num % 5\n",
    " \n",
    "if(temp == 0 and temp1 == 0):\n",
    "    print(\"Divisible\")\n",
    "else:\n",
    "    print(\"Not Divisible\")\n",
    "    \n",
    "'''\n",
    "# This is also fair \n",
    "num = int(input())\n",
    "\n",
    "if(num%3 == 0 and num%5 == 0):\n",
    "    print(\"Divisible\")\n",
    "else:\n",
    "    print(\"Not Divisible\")\n",
    "'''"
   ]
  },
  {
   "cell_type": "markdown",
   "id": "29c4b03c-f561-499d-926b-6b5ece2df634",
   "metadata": {},
   "source": [
    "<span style='font-size:larger'>(4) get input for a number and find it is even or odd.</span>"
   ]
  },
  {
   "cell_type": "code",
   "execution_count": 23,
   "id": "7a36ab70-e4b2-4cea-ae3d-8409b910a4f1",
   "metadata": {},
   "outputs": [
    {
     "name": "stdin",
     "output_type": "stream",
     "text": [
      "Enter the number :  45\n"
     ]
    },
    {
     "name": "stdout",
     "output_type": "stream",
     "text": [
      "The given number is odd\n"
     ]
    }
   ],
   "source": [
    "num = int(input(\"Enter the number : \"))\n",
    "\n",
    "temp = num % 2\n",
    "\n",
    "if(temp == 0):\n",
    "    print(\"The given number is even\")\n",
    "\n",
    "else:\n",
    "    print(\"The given number is odd\")"
   ]
  },
  {
   "cell_type": "markdown",
   "id": "42beff7a-41bc-40d9-9614-75b7d8454221",
   "metadata": {},
   "source": [
    "<span style='font-size:larger'>(5) Get input for score out of 100, if score is less-than 35 then print poor student, if score is greater-than 35 but less-than 70 print average student, if score is greater than 70 print good student and if the input is greater-than 100 print invalid input.</span>"
   ]
  },
  {
   "cell_type": "code",
   "execution_count": 25,
   "id": "4837247d-3532-45b5-af3e-3f888059bd2b",
   "metadata": {},
   "outputs": [
    {
     "name": "stdin",
     "output_type": "stream",
     "text": [
      "Enter your score 89\n"
     ]
    },
    {
     "name": "stdout",
     "output_type": "stream",
     "text": [
      "Good student\n"
     ]
    }
   ],
   "source": [
    "score = int(input(\"Enter your score\"))\n",
    "\n",
    "if(score < 35):\n",
    "            print(\"Bad student\")\n",
    "if(score >= 35 and score <= 70):\n",
    "            print(\"Average student\")\n",
    "if(score >=70 and score <= 100):\n",
    "            print(\"Good student\")"
   ]
  },
  {
   "cell_type": "markdown",
   "id": "d062acbd-5124-4c6c-9b06-014f6bc5648f",
   "metadata": {},
   "source": [
    "<span style='font-size:large'>(6) Make a mini calculator get input for two numbers and add/mul and div the numbers. </span>"
   ]
  },
  {
   "cell_type": "code",
   "execution_count": 32,
   "id": "34bbfe86-1e06-43c1-a86e-1b9752d13eb0",
   "metadata": {},
   "outputs": [
    {
     "name": "stdin",
     "output_type": "stream",
     "text": [
      " 90\n",
      " 87\n",
      " *\n"
     ]
    },
    {
     "name": "stdout",
     "output_type": "stream",
     "text": [
      "The calculated value is : 7830\n"
     ]
    }
   ],
   "source": [
    "num1 = int(input())\n",
    "num2 = int(input())\n",
    "operation = input()\n",
    "add = num1 + num2\n",
    "mul = num1 * num2\n",
    "div = num1 / num2\n",
    "\n",
    "if(operation == '+'):\n",
    "    print(\"The calculated value is :\", add)\n",
    "elif(operation == '*'):\n",
    "    print(\"The calculated value is :\", mul)\n",
    "elif(operation == '/'):\n",
    "    print(\"The calculated value is :\", div)\n",
    "else:\n",
    "    print(\"invalid\")"
   ]
  },
  {
   "cell_type": "markdown",
   "id": "adce1cd6-1d6a-4780-b388-10c9ce64b535",
   "metadata": {},
   "source": [
    "<span style='font-size:large'>(7) Get a input score perecntage. only if the percentage is greater than 70, get input for his name, \n",
    "department and location. then print you are eligible. if not print you are not eligible.</span>"
   ]
  },
  {
   "cell_type": "code",
   "execution_count": null,
   "id": "47d9bf26-e06f-463b-b4ec-17b3f191c749",
   "metadata": {},
   "outputs": [],
   "source": []
  },
  {
   "cell_type": "code",
   "execution_count": null,
   "id": "5ed7a126-228c-446c-ae6c-02cdbfb6ec89",
   "metadata": {},
   "outputs": [],
   "source": []
  },
  {
   "cell_type": "code",
   "execution_count": null,
   "id": "58463ece-fc81-452a-a3b6-70c107aa430e",
   "metadata": {},
   "outputs": [],
   "source": []
  },
  {
   "cell_type": "code",
   "execution_count": null,
   "id": "5387a1b2-3d90-43f2-9a97-eab2a381c50d",
   "metadata": {},
   "outputs": [],
   "source": []
  },
  {
   "cell_type": "code",
   "execution_count": null,
   "id": "a6719cb0-4f8a-4c7a-a434-26cf1e0875c1",
   "metadata": {},
   "outputs": [],
   "source": []
  }
 ],
 "metadata": {
  "kernelspec": {
   "display_name": "Python 3 (ipykernel)",
   "language": "python",
   "name": "python3"
  },
  "language_info": {
   "codemirror_mode": {
    "name": "ipython",
    "version": 3
   },
   "file_extension": ".py",
   "mimetype": "text/x-python",
   "name": "python",
   "nbconvert_exporter": "python",
   "pygments_lexer": "ipython3",
   "version": "3.10.13"
  }
 },
 "nbformat": 4,
 "nbformat_minor": 5
}
