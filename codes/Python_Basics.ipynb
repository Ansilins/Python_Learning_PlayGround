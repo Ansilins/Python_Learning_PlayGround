{
 "cells": [
  {
   "cell_type": "code",
   "execution_count": 13,
   "id": "fc1b12dc-3065-4037-b6be-0e1c539c2125",
   "metadata": {},
   "outputs": [
    {
     "name": "stdout",
     "output_type": "stream",
     "text": [
      "<class 'int'>\n",
      "<class 'str'>\n"
     ]
    }
   ],
   "source": [
    "#This notebook will cover Python problems. I'll tackle these basic challenges in my own unique style.\n",
    "\n",
    "\n",
    "#To find the type of the variable, basic stuff's\n",
    "\n",
    "a = 101\n",
    "b = \"Ansilins\"\n",
    "\n",
    "print(type(a))\n",
    "print(type(b))"
   ]
  },
  {
   "cell_type": "code",
   "execution_count": 38,
   "id": "0c4ff063-5087-40b4-aba1-f24bf473eea6",
   "metadata": {},
   "outputs": [
    {
     "name": "stdout",
     "output_type": "stream",
     "text": [
      "15\n"
     ]
    }
   ],
   "source": [
    "#CASTING\n",
    "\n",
    "a = int(\"5\")\n",
    "b = int(\"10\")\n",
    "\n",
    "temp = a + b\n",
    "print(temp)"
   ]
  },
  {
   "cell_type": "code",
   "execution_count": 17,
   "id": "68c27100-b57c-4bfc-9a2b-49fb93763213",
   "metadata": {},
   "outputs": [
    {
     "name": "stdout",
     "output_type": "stream",
     "text": [
      " 10\n",
      " 5\n"
     ]
    },
    {
     "name": "stdout",
     "output_type": "stream",
     "text": [
      "15\n"
     ]
    }
   ],
   "source": [
    "#Getting INPUT from the user \n",
    "\n",
    "a = int(input())\n",
    "b = int(input())\n",
    "\n",
    "c = a + b \n",
    "print(c)"
   ]
  },
  {
   "cell_type": "code",
   "execution_count": 22,
   "id": "710a091d-e472-456f-b1dc-24a94063e732",
   "metadata": {},
   "outputs": [
    {
     "name": "stdout",
     "output_type": "stream",
     "text": [
      "Enter your name :  Ansilin\n",
      "Enter your age :  23\n"
     ]
    },
    {
     "name": "stdout",
     "output_type": "stream",
     "text": [
      "My name is :  Ansilin\n",
      "My age is :  23\n"
     ]
    }
   ],
   "source": [
    "# Let's dive into the Basic Problems \n",
    "# (1) Get input for variable name and age. print it \n",
    "\n",
    "name = input(\"Enter your name : \")\n",
    "age = int(input(\"Enter your age : \"))\n",
    "\n",
    "print(\"My name is : \",  name)\n",
    "print(\"My age is : \",age)"
   ]
  },
  {
   "cell_type": "code",
   "execution_count": 26,
   "id": "530e4deb-8dc7-46f3-85fc-09a07677da22",
   "metadata": {},
   "outputs": [
    {
     "name": "stdout",
     "output_type": "stream",
     "text": [
      "Enter your name :  Ansilin\n",
      "Enter your age :  23\n",
      "Enter your address Vel Tech, Avadi\n"
     ]
    },
    {
     "name": "stdout",
     "output_type": "stream",
     "text": [
      "Name is :  Ansilin\n",
      "Age is :  23\n",
      "address is :  Vel Tech, Avadi\n"
     ]
    }
   ],
   "source": [
    "# (2) Get Input for variable name and age, address. print it.\n",
    "\n",
    "name = input(\"Enter your name : \")\n",
    "age = int(input(\"Enter your age : \"))\n",
    "address = input(\"Enter your address\")\n",
    "\n",
    "print(\"Name is : \", name)\n",
    "print(\"Age is : \", age)\n",
    "print(\"address is : \", address)"
   ]
  },
  {
   "cell_type": "code",
   "execution_count": 32,
   "id": "619cb339-59a7-417b-af99-71ff47668a5c",
   "metadata": {},
   "outputs": [
    {
     "name": "stdout",
     "output_type": "stream",
     "text": [
      " 2\n",
      " 3\n",
      " 4\n"
     ]
    },
    {
     "name": "stdout",
     "output_type": "stream",
     "text": [
      "Calculated value is :  2.6666666666666665\n"
     ]
    }
   ],
   "source": [
    "# (3) Get integer Input for variable a,b,c\n",
    "#Multiple all 3 variables, add all 3 variables, divide the multiplied value by added value, and print it.\n",
    "\n",
    "a = int(input())\n",
    "b = int(input())\n",
    "c = int(input())\n",
    "\n",
    "mul = a*b*c\n",
    "add = a+b+c\n",
    "\n",
    "temp = (mul/add)\n",
    "\n",
    "print(\"Calculated value is : \", temp)"
   ]
  },
  {
   "cell_type": "code",
   "execution_count": 36,
   "id": "753406ff-308b-4a2b-8cab-d3f9887a2322",
   "metadata": {},
   "outputs": [
    {
     "name": "stdout",
     "output_type": "stream",
     "text": [
      "Enter your name :  Abdhul\n",
      "Ente the score :  70\n",
      "Enter your Department :  Artificial Intelligence & Data Science\n"
     ]
    },
    {
     "name": "stdout",
     "output_type": "stream",
     "text": [
      "Name is :  Abdhul\n",
      "Score is :  7.0\n",
      "Department :  Artificial Intelligence & Data Science\n"
     ]
    }
   ],
   "source": [
    "# (4) Get Input for variable name, score, department\n",
    "# Get score for 100, divide 100/10\n",
    "\n",
    "name = input(\"Enter your name : \")\n",
    "score = int(input(\"Ente the score : \"))\n",
    "department = input(\"Enter your Department : \")\n",
    "\n",
    "cal_score = score/10\n",
    "\n",
    "print(\"Name is : \", name)\n",
    "print(\"Score is : \", cal_score)\n",
    "print(\"Department : \", department)\n",
    "\n",
    "#This is also fair \n",
    "#print(\"Score is : \", score/10 )"
   ]
  },
  {
   "cell_type": "code",
   "execution_count": 42,
   "id": "500f46eb-3ce9-4f01-9e08-d14004da80b1",
   "metadata": {},
   "outputs": [
    {
     "name": "stdout",
     "output_type": "stream",
     "text": [
      "Yes\n",
      "NO\n"
     ]
    }
   ],
   "source": [
    "# IF/ELSE using Boolean values : True, False \n",
    "\n",
    "if(True):\n",
    "    print(\"Yes\")\n",
    "else:\n",
    "    print(\"No\")\n",
    "\n",
    "if(False):\n",
    "    print(\"YES\")\n",
    "else:\n",
    "    print(\"NO\")"
   ]
  },
  {
   "cell_type": "code",
   "execution_count": 49,
   "id": "8aebc708-dd9f-4e90-8534-8bbe83adc8a2",
   "metadata": {},
   "outputs": [
    {
     "name": "stdout",
     "output_type": "stream",
     "text": [
      "Ee sala cup namde\n"
     ]
    }
   ],
   "source": [
    "#Comparison Operator (Example)\n",
    "\n",
    "rcb = \"win\"\n",
    "#rcb = \"lose\"\n",
    "\n",
    "if(rcb == \"win\"):\n",
    "    print(\"Ee sala cup namde\")\n",
    "else:\n",
    "    print(\"valakam pola namaku cup ila\")"
   ]
  },
  {
   "cell_type": "code",
   "execution_count": 53,
   "id": "03715001-608e-498d-9c86-bafe154bbba0",
   "metadata": {},
   "outputs": [
    {
     "name": "stdout",
     "output_type": "stream",
     "text": [
      " Dead\n"
     ]
    },
    {
     "name": "stdout",
     "output_type": "stream",
     "text": [
      "surya weds Stelgin\n"
     ]
    }
   ],
   "source": [
    "#Get user input for variable Stelgin, If Stelgin == Died Print \"Surya meets ferrin\" Else \"Surya weds Stelgin\"\n",
    "\n",
    "stelgin = input()\n",
    "\n",
    "if (stelgin == \"Died\"):\n",
    "    print(\"Surya meets ferrin\")\n",
    "else:\n",
    "    print(\"surya weds Stelgin\")"
   ]
  },
  {
   "cell_type": "code",
   "execution_count": 57,
   "id": "77716a6a-9760-404e-8be8-50152208061e",
   "metadata": {},
   "outputs": [
    {
     "name": "stdout",
     "output_type": "stream",
     "text": [
      " 35\n"
     ]
    },
    {
     "name": "stdout",
     "output_type": "stream",
     "text": [
      "pass\n"
     ]
    }
   ],
   "source": [
    "#IF/ELSE Exercises\n",
    "\n",
    "# (1) Get Input for variable mark. if mark > 35 print pass. Else print fail\n",
    "\n",
    "mark = int(input())\n",
    "\n",
    "if(mark >= 35):\n",
    "    print(\"pass\")\n",
    "\n",
    "else:\n",
    "    print(\"fail\")"
   ]
  },
  {
   "cell_type": "code",
   "execution_count": 59,
   "id": "2a44ec33-0239-4189-9b36-88fb133b7924",
   "metadata": {},
   "outputs": [
    {
     "name": "stdout",
     "output_type": "stream",
     "text": [
      " 70001\n"
     ]
    },
    {
     "name": "stdout",
     "output_type": "stream",
     "text": [
      "Not eligible for scholarship\n"
     ]
    }
   ],
   "source": [
    "# (2) Get Input for variable income. If income is greater than 70000 scholarship is not available. Else  eligible for scholarship\n",
    "\n",
    "income = int(input())\n",
    "\n",
    "if(income >= 70000):\n",
    "    print(\"Not eligible for scholarship\")\n",
    "\n",
    "else:\n",
    "    print(\"Eligible for scholarship\")"
   ]
  },
  {
   "cell_type": "code",
   "execution_count": 18,
   "id": "b02b84d7-b490-427c-b6d5-aaee2b58b2be",
   "metadata": {},
   "outputs": [
    {
     "name": "stdout",
     "output_type": "stream",
     "text": [
      "Enter the number :  15\n"
     ]
    },
    {
     "name": "stdout",
     "output_type": "stream",
     "text": [
      "Divisible\n"
     ]
    },
    {
     "data": {
      "text/plain": [
       "'\\n# This is also fair \\nnum = int(input())\\n\\nif(num%3 == 0 and num%5 == 0):\\n    print(\"Divisible\")\\nelse:\\n    print(\"Not Divisible\")\\n'"
      ]
     },
     "execution_count": 18,
     "metadata": {},
     "output_type": "execute_result"
    }
   ],
   "source": [
    "# (3) Get input for a number and check whether it is divisible by both 3 and 5 or not. If yes then print the number is divisible by 3 \n",
    "#     and 5 else print the number is not divisible by 3 and 5.\n",
    "\n",
    "num = int(input(\"Enter the number : \"))\n",
    "temp = num % 3\n",
    "\n",
    "temp1 = num % 5\n",
    " \n",
    "if(temp == 0 and temp1 == 0):\n",
    "    print(\"Divisible\")\n",
    "else:\n",
    "    print(\"Not Divisible\")\n",
    "    \n",
    "'''\n",
    "# This is also fair \n",
    "num = int(input())\n",
    "\n",
    "if(num%3 == 0 and num%5 == 0):\n",
    "    print(\"Divisible\")\n",
    "else:\n",
    "    print(\"Not Divisible\")\n",
    "'''"
   ]
  },
  {
   "cell_type": "code",
   "execution_count": 21,
   "id": "644df6f7-2aa7-4b47-987f-fec6ba4d3cda",
   "metadata": {},
   "outputs": [
    {
     "name": "stdout",
     "output_type": "stream",
     "text": [
      "Enter the number :  3\n"
     ]
    },
    {
     "name": "stdout",
     "output_type": "stream",
     "text": [
      "The given number is odd\n"
     ]
    }
   ],
   "source": [
    "# (4) get input for a number and find it is even or odd.\n",
    "\n",
    "num = int(input(\"Enter the number : \"))\n",
    "\n",
    "temp = num % 2\n",
    "\n",
    "if(temp == 0):\n",
    "    print(\"The given number is even\")\n",
    "\n",
    "else:\n",
    "    print(\"The given number is odd\")"
   ]
  },
  {
   "cell_type": "code",
   "execution_count": 30,
   "id": "d6f98e25-3124-4a72-912a-7c63d012807e",
   "metadata": {},
   "outputs": [
    {
     "name": "stdout",
     "output_type": "stream",
     "text": [
      "Enter your score 100\n"
     ]
    },
    {
     "name": "stdout",
     "output_type": "stream",
     "text": [
      "Good student\n"
     ]
    }
   ],
   "source": [
    "# (5) Get input for score out of 100, if score is less-than 35 then print poor student, if score is greater-than 35 but less-than 70\n",
    "#     print average student, if score is greater than 70 print good student and if the input is greater-than 100 print invalid input\n",
    "\n",
    "score = int(input(\"Enter your score\"))\n",
    "\n",
    "if(score < 35):\n",
    "            print(\"Bad student\")\n",
    "if(score >= 35 and score <= 70):\n",
    "            print(\"Average student\")\n",
    "if(score >=70 and score <= 100):\n",
    "            print(\"Good student\")"
   ]
  },
  {
   "cell_type": "code",
   "execution_count": 38,
   "id": "000243c8-b1cd-4d1e-8da9-39a66918e87a",
   "metadata": {},
   "outputs": [
    {
     "name": "stdout",
     "output_type": "stream",
     "text": [
      "Enter your score 101\n"
     ]
    },
    {
     "name": "stdout",
     "output_type": "stream",
     "text": [
      "Invalid Input\n"
     ]
    }
   ],
   "source": [
    "# Same problem with elif\n",
    "\n",
    "score = int(input(\"Enter your score\"))\n",
    "\n",
    "if(score < 35):\n",
    "            print(\"Bad student\")\n",
    "elif(score >= 35 and score <= 70):\n",
    "            print(\"Average student\")\n",
    "elif(score >=70 and score <= 100):\n",
    "            print(\"Good student\")\n",
    "else:\n",
    "    print(\"Invalid Input\")\n"
   ]
  },
  {
   "cell_type": "code",
   "execution_count": 1,
   "id": "9a0c6c16-17d7-49d7-85ef-c8a6f91ad92b",
   "metadata": {},
   "outputs": [
    {
     "ename": "AttributeError",
     "evalue": "'list' object has no attribute 'random'",
     "output_type": "error",
     "traceback": [
      "\u001b[0;31m---------------------------------------------------------------------------\u001b[0m",
      "\u001b[0;31mAttributeError\u001b[0m                            Traceback (most recent call last)",
      "Cell \u001b[0;32mIn[1], line 3\u001b[0m\n\u001b[1;32m      1\u001b[0m number \u001b[38;5;241m=\u001b[39m [\u001b[38;5;241m1\u001b[39m,\u001b[38;5;241m2\u001b[39m,\u001b[38;5;241m3\u001b[39m,\u001b[38;5;241m4\u001b[39m,\u001b[38;5;241m5\u001b[39m,\u001b[38;5;241m6\u001b[39m,\u001b[38;5;241m7\u001b[39m,\u001b[38;5;241m8\u001b[39m,\u001b[38;5;241m9\u001b[39m,\u001b[38;5;241m10\u001b[39m]\n\u001b[0;32m----> 3\u001b[0m \u001b[38;5;28mprint\u001b[39m(\u001b[43mnumber\u001b[49m\u001b[38;5;241;43m.\u001b[39;49m\u001b[43mrandom\u001b[49m())\n",
      "\u001b[0;31mAttributeError\u001b[0m: 'list' object has no attribute 'random'"
     ]
    }
   ],
   "source": [
    "number = [1,2,3,4,5,6,7,8,9,10]\n",
    "\n",
    "print(number.random())"
   ]
  },
  {
   "cell_type": "code",
   "execution_count": null,
   "id": "6104e84c-3845-4a13-87c6-2a094ac9ca83",
   "metadata": {},
   "outputs": [],
   "source": []
  }
 ],
 "metadata": {
  "kernelspec": {
   "display_name": "Python 3 (ipykernel)",
   "language": "python",
   "name": "python3"
  },
  "language_info": {
   "codemirror_mode": {
    "name": "ipython",
    "version": 3
   },
   "file_extension": ".py",
   "mimetype": "text/x-python",
   "name": "python",
   "nbconvert_exporter": "python",
   "pygments_lexer": "ipython3",
   "version": "3.10.13"
  }
 },
 "nbformat": 4,
 "nbformat_minor": 5
}
